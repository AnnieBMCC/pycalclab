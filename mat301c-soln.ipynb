{
 "cells": [
  {
   "cell_type": "markdown",
   "metadata": {},
   "source": [
    "<center>\n",
    "<big>Lab C: Finding Limits in Python</big><br>\n",
    "https://mybinder.org/v2/gh/anniebmcc/pycalclab/master?filepath=mat301c.ipynb <br>\n",
    "2020 Summer — Calculus 1<br>\n",
    "Dr Matthew H Sunderland<br>\n",
    "</center>"
   ]
  },
  {
   "cell_type": "markdown",
   "metadata": {},
   "source": [
    "C1. _RUN the following._"
   ]
  },
  {
   "cell_type": "code",
   "execution_count": 1,
   "metadata": {},
   "outputs": [
    {
     "name": "stdout",
     "output_type": "stream",
     "text": [
      "Populating the interactive namespace from numpy and matplotlib\n"
     ]
    }
   ],
   "source": [
    "%pylab inline"
   ]
  },
  {
   "cell_type": "markdown",
   "metadata": {},
   "source": [
    "The magic word `%pylab` loads a bunch of useful functions (including `pi` and `sin`).  \n",
    "The option `inline` tells Jupyter to display any graphs we make on the page instead of in a popup."
   ]
  },
  {
   "cell_type": "markdown",
   "metadata": {},
   "source": [
    "C2. Example.\n",
    "Let's say we want to find $\\displaystyle \\lim_{\\textstyle x{\\to}\\pi/2} \\frac{\\sin x}x$.\n",
    "The first thing we try is plugging in.  \n",
    "\n",
    "_RUN the following._"
   ]
  },
  {
   "cell_type": "code",
   "execution_count": 2,
   "metadata": {},
   "outputs": [
    {
     "data": {
      "text/plain": [
       "0.6366197723675814"
      ]
     },
     "execution_count": 2,
     "metadata": {},
     "output_type": "execute_result"
    }
   ],
   "source": [
    "x = pi/2\n",
    "sin(x)/x"
   ]
  },
  {
   "cell_type": "markdown",
   "metadata": {},
   "source": [
    "C3. **DO EXERCISE.** Based on the result in C2, what is the value of the limit\n",
    "$\\displaystyle \\lim_{\\textstyle x{\\to}\\pi/2} \\frac{\\sin x}x$?"
   ]
  },
  {
   "cell_type": "code",
   "execution_count": 3,
   "metadata": {},
   "outputs": [],
   "source": [
    "# RECORD YOUR ANSWER: the limit is 0.6366197723675814"
   ]
  },
  {
   "cell_type": "markdown",
   "metadata": {},
   "source": [
    "C4. Example. Let's say we want to find $\\displaystyle \\lim_{\\textstyle x{\\to}0} \\frac{\\sin x}x$ instead.   \n",
    "\n",
    "_RUN the following._"
   ]
  },
  {
   "cell_type": "code",
   "execution_count": 4,
   "metadata": {},
   "outputs": [
    {
     "name": "stderr",
     "output_type": "stream",
     "text": [
      "/Users/sunderland20a/opt/anaconda3/lib/python3.7/site-packages/ipykernel_launcher.py:2: RuntimeWarning: invalid value encountered in double_scalars\n",
      "  \n"
     ]
    },
    {
     "data": {
      "text/plain": [
       "nan"
      ]
     },
     "execution_count": 4,
     "metadata": {},
     "output_type": "execute_result"
    }
   ],
   "source": [
    "x = 0\n",
    "sin(x)/x"
   ]
  },
  {
   "cell_type": "markdown",
   "metadata": {},
   "source": [
    "Notice that plugging in doesn't work, because sin(0)/0 is undefined.  \n",
    "(Instead of \"undefined\", Python says \"nan,\" which means \"not a number.\")"
   ]
  },
  {
   "cell_type": "markdown",
   "metadata": {},
   "source": [
    "## Find the limit with a graph"
   ]
  },
  {
   "cell_type": "markdown",
   "metadata": {},
   "source": [
    "C5. When plugging in doesn't work, one thing we can try is graphing.  \n",
    "\n",
    "_RUN the following._"
   ]
  },
  {
   "cell_type": "code",
   "execution_count": 5,
   "metadata": {},
   "outputs": [
    {
     "data": {
      "text/plain": [
       "[<matplotlib.lines.Line2D at 0x7fed1379aa90>]"
      ]
     },
     "execution_count": 5,
     "metadata": {},
     "output_type": "execute_result"
    },
    {
     "data": {
      "image/png": "[encoded data removed]",
      "text/plain": [
       "<Figure size 432x288 with 1 Axes>"
      ]
     },
     "metadata": {
      "needs_background": "light"
     },
     "output_type": "display_data"
    }
   ],
   "source": [
    "x = linspace(-10,10)\n",
    "y = sin(x)/x\n",
    "plot(x,y)"
   ]
  },
  {
   "cell_type": "markdown",
   "metadata": {},
   "source": [
    "C6. **DO EXERCISE.** Based on the graph in C5, what is the value of the limit $\\displaystyle \\lim_{\\textstyle x{\\to}0} \\frac{\\sin x}x$?"
   ]
  },
  {
   "cell_type": "code",
   "execution_count": 6,
   "metadata": {},
   "outputs": [],
   "source": [
    "# RECORD YOUR ANSWER: the limit is 1"
   ]
  },
  {
   "cell_type": "markdown",
   "metadata": {},
   "source": [
    "## Find the limit with a table"
   ]
  },
  {
   "cell_type": "markdown",
   "metadata": {},
   "source": [
    "C7. \n",
    "The other thing we can try is making a table.\n",
    "\n",
    "_RUN the following._"
   ]
  },
  {
   "cell_type": "code",
   "execution_count": 7,
   "metadata": {},
   "outputs": [
    {
     "data": {
      "text/plain": [
       "array([[1.        , 0.84147098],\n",
       "       [0.1       , 0.99833417],\n",
       "       [0.01      , 0.99998333],\n",
       "       [0.001     , 0.99999983]])"
      ]
     },
     "execution_count": 7,
     "metadata": {},
     "output_type": "execute_result"
    }
   ],
   "source": [
    "x = r_[1, .1, .01, .001] # Make array of numbers approaching 0 from right\n",
    "y = sin(x)/x             # Plug the array into our function\n",
    "c_[x,y]                  # Make a table"
   ]
  },
  {
   "cell_type": "code",
   "execution_count": 8,
   "metadata": {},
   "outputs": [
    {
     "data": {
      "text/plain": [
       "array([[-1.        ,  0.84147098],\n",
       "       [-0.1       ,  0.99833417],\n",
       "       [-0.01      ,  0.99998333],\n",
       "       [-0.001     ,  0.99999983]])"
      ]
     },
     "execution_count": 8,
     "metadata": {},
     "output_type": "execute_result"
    }
   ],
   "source": [
    "x = r_[-1, -.1, -.01, -.001] # Same but approaching from left\n",
    "y = sin(x)/x\n",
    "c_[x,y]"
   ]
  },
  {
   "cell_type": "markdown",
   "metadata": {},
   "source": [
    "Note that to display two tables, we use two code cells, because Jupyter only displays one output per cell."
   ]
  },
  {
   "cell_type": "markdown",
   "metadata": {},
   "source": [
    "C8. **DO EXERCISE.** Based on the table in C7,\n",
    "what is the value of the limit $\\displaystyle \\lim_{\\textstyle x{\\to}0} \\frac{\\sin x}x$?"
   ]
  },
  {
   "cell_type": "code",
   "execution_count": 9,
   "metadata": {},
   "outputs": [],
   "source": [
    "# RECORD YOUR ANSWER: the limit is 1"
   ]
  },
  {
   "cell_type": "markdown",
   "metadata": {},
   "source": [
    "## Simplify the code"
   ]
  },
  {
   "cell_type": "markdown",
   "metadata": {},
   "source": [
    "C9. We can simplify the code for `x` using an array.\n",
    "\n",
    "_RUN the following._"
   ]
  },
  {
   "cell_type": "code",
   "execution_count": 10,
   "metadata": {},
   "outputs": [
    {
     "data": {
      "text/plain": [
       "array([[1.        , 0.84147098],\n",
       "       [0.1       , 0.99833417],\n",
       "       [0.01      , 0.99998333],\n",
       "       [0.001     , 0.99999983]])"
      ]
     },
     "execution_count": 10,
     "metadata": {},
     "output_type": "execute_result"
    }
   ],
   "source": [
    "x = .1 ** r_[:4]\n",
    "y = sin(x)/x\n",
    "c_[x,y]"
   ]
  },
  {
   "cell_type": "markdown",
   "metadata": {},
   "source": [
    "You should get the same table as in C7.  \n",
    "Why does this work?\n",
    "Because `.1 ** r_[:4]` means \"$0.1$ raised to the $0,1,2,3$,\" which is going to be $1,0.1,0.01,0.001$."
   ]
  },
  {
   "cell_type": "markdown",
   "metadata": {},
   "source": [
    "## Increase precision\n",
    "\n",
    "C10. The arrays we have made so far show (up to) 8 decimal places.  \n",
    "As an example, let's change the number of decimal places displayed to 17 decimal places:\n",
    "\n",
    " _RUN the following._"
   ]
  },
  {
   "cell_type": "code",
   "execution_count": 11,
   "metadata": {},
   "outputs": [
    {
     "data": {
      "text/plain": [
       "array([[1.                , 0.8414709848078965],\n",
       "       [0.1               , 0.9983341664682815],\n",
       "       [0.01              , 0.9999833334166665],\n",
       "       [0.001             , 0.9999998333333416]])"
      ]
     },
     "execution_count": 11,
     "metadata": {},
     "output_type": "execute_result"
    }
   ],
   "source": [
    "set_printoptions(precision=17)\n",
    "\n",
    "x = .1 ** r_[:4]\n",
    "y = sin(x)/x\n",
    "c_[x,y]"
   ]
  },
  {
   "cell_type": "markdown",
   "metadata": {},
   "source": [
    "After you run this cell, from now on, arrays will display (up to) 17 decimal places."
   ]
  },
  {
   "cell_type": "markdown",
   "metadata": {},
   "source": [
    "## Turn off scientific notation"
   ]
  },
  {
   "cell_type": "markdown",
   "metadata": {},
   "source": [
    "C11. Arrays with very small numbers (less than 0.001)\n",
    "will automatically change to scientific notation.\n",
    "\n",
    "_RUN the following._"
   ]
  },
  {
   "cell_type": "code",
   "execution_count": 12,
   "metadata": {},
   "outputs": [
    {
     "data": {
      "text/plain": [
       "array([[1.0000000000000000e+00, 8.4147098480789650e-01],\n",
       "       [1.0000000000000001e-01, 9.9833416646828155e-01],\n",
       "       [1.0000000000000002e-02, 9.9998333341666645e-01],\n",
       "       [1.0000000000000002e-03, 9.9999983333334164e-01],\n",
       "       [1.0000000000000002e-04, 9.9999999833333342e-01]])"
      ]
     },
     "execution_count": 12,
     "metadata": {},
     "output_type": "execute_result"
    }
   ],
   "source": [
    "x = .1 ** r_[:5]\n",
    "y = sin(x)/x\n",
    "c_[x,y]"
   ]
  },
  {
   "cell_type": "markdown",
   "metadata": {},
   "source": [
    "C12. We can turn off scientific notation for arrays using `set_printoptions`\n",
    "\n",
    "_RUN the following._"
   ]
  },
  {
   "cell_type": "code",
   "execution_count": 13,
   "metadata": {},
   "outputs": [
    {
     "data": {
      "text/plain": [
       "array([[1.                , 0.8414709848078965],\n",
       "       [0.1               , 0.9983341664682815],\n",
       "       [0.01              , 0.9999833334166665],\n",
       "       [0.001             , 0.9999998333333416],\n",
       "       [0.0001            , 0.9999999983333334]])"
      ]
     },
     "execution_count": 13,
     "metadata": {},
     "output_type": "execute_result"
    }
   ],
   "source": [
    "set_printoptions(suppress=True)\n",
    "\n",
    "x = .1 ** r_[:5]\n",
    "y = sin(x)/x\n",
    "c_[x,y]"
   ]
  },
  {
   "cell_type": "markdown",
   "metadata": {},
   "source": [
    "C13. **DO EXERCISE.**  \n",
    "(1) Use the graphical approach to find\n",
    "$\\displaystyle \\lim_{\\textstyle x{\\to}0^{\\textstyle+}} x^{\\textstyle x}$.\n",
    "\n",
    "(2) Use the numerical approach (make a table) for the same limit."
   ]
  },
  {
   "cell_type": "code",
   "execution_count": 14,
   "metadata": {},
   "outputs": [
    {
     "data": {
      "text/plain": [
       "[<matplotlib.lines.Line2D at 0x7fed13905d10>]"
      ]
     },
     "execution_count": 14,
     "metadata": {},
     "output_type": "execute_result"
    },
    {
     "data": {
      "image/png": "[encoded data removed]",
      "text/plain": [
       "<Figure size 432x288 with 1 Axes>"
      ]
     },
     "metadata": {
      "needs_background": "light"
     },
     "output_type": "display_data"
    }
   ],
   "source": [
    "# (1) TYPE YOUR CODE:\n",
    "\n",
    "x = linspace(0,2) # Or any interval starting at 0\n",
    "y = x**x\n",
    "plot(x,y)\n",
    "\n",
    "# RECORD YOUR ANSWER: the limit is 1"
   ]
  },
  {
   "cell_type": "code",
   "execution_count": 15,
   "metadata": {},
   "outputs": [
    {
     "data": {
      "text/plain": [
       "array([[1.                , 1.                ],\n",
       "       [0.1               , 0.7943282347242815],\n",
       "       [0.01              , 0.954992586021436 ],\n",
       "       [0.001             , 0.9931160484209338],\n",
       "       [0.0001            , 0.9990793899844618],\n",
       "       [0.00001           , 0.9998848773724686],\n",
       "       [0.000001          , 0.9999861845848758],\n",
       "       [0.0000001         , 0.9999983881917339],\n",
       "       [0.00000001        , 0.9999998157932095],\n",
       "       [0.000000001       , 0.9999999792767343]])"
      ]
     },
     "execution_count": 15,
     "metadata": {},
     "output_type": "execute_result"
    }
   ],
   "source": [
    "# (2) TYPE YOUR CODE:\n",
    "\n",
    "x = 0.1 ** r_[:10] \n",
    "y = x**x\n",
    "c_[x,y]\n",
    "\n",
    "# RECORD YOUR ANSWER: the limit is 1"
   ]
  },
  {
   "cell_type": "markdown",
   "metadata": {},
   "source": [
    "## Define a function\n",
    "\n",
    "C14. Example. Let's make a graph and make tables to find\n",
    "$\\displaystyle \\lim_{\\textstyle x{\\to}0} \\frac{1-\\cos x}{x^2}$  \n",
    "We will use `def` to store the function so we don't have to type the function over and over.\n",
    "\n",
    "_RUN the following._"
   ]
  },
  {
   "cell_type": "code",
   "execution_count": 16,
   "metadata": {},
   "outputs": [],
   "source": [
    "def f(x):\n",
    "    return (1 - cos(x))/x**2"
   ]
  },
  {
   "cell_type": "code",
   "execution_count": 17,
   "metadata": {},
   "outputs": [
    {
     "data": {
      "text/plain": [
       "[<matplotlib.lines.Line2D at 0x7fed139f2e90>]"
      ]
     },
     "execution_count": 17,
     "metadata": {},
     "output_type": "execute_result"
    },
    {
     "data": {
      "image/png": "[encoded data removed]",
      "text/plain": [
       "<Figure size 432x288 with 1 Axes>"
      ]
     },
     "metadata": {
      "needs_background": "light"
     },
     "output_type": "display_data"
    }
   ],
   "source": [
    "x = linspace(-1,1)\n",
    "y = f(x)\n",
    "plot(x,y)"
   ]
  },
  {
   "cell_type": "code",
   "execution_count": 18,
   "metadata": {},
   "outputs": [
    {
     "data": {
      "text/plain": [
       "array([[1.                 , 0.45969769413186023],\n",
       "       [0.1                , 0.49958347219742893],\n",
       "       [0.01               , 0.4999958333473662 ],\n",
       "       [0.001              , 0.4999999583255031 ],\n",
       "       [0.0001             , 0.49999999696126435],\n",
       "       [0.00001            , 0.5000000413701853 ],\n",
       "       [0.000001           , 0.5000444502911701 ],\n",
       "       [0.0000001          , 0.4996003610813201 ]])"
      ]
     },
     "execution_count": 18,
     "metadata": {},
     "output_type": "execute_result"
    }
   ],
   "source": [
    "x = 0.1 ** r_[:8]\n",
    "y = f(x)\n",
    "c_[x,y]"
   ]
  },
  {
   "cell_type": "code",
   "execution_count": 19,
   "metadata": {},
   "outputs": [
    {
     "data": {
      "text/plain": [
       "array([[-1.                 ,  0.45969769413186023],\n",
       "       [-0.1                ,  0.49958347219742893],\n",
       "       [-0.01               ,  0.4999958333473662 ],\n",
       "       [-0.001              ,  0.4999999583255031 ],\n",
       "       [-0.0001             ,  0.49999999696126435],\n",
       "       [-0.00001            ,  0.5000000413701853 ],\n",
       "       [-0.000001           ,  0.5000444502911701 ],\n",
       "       [-0.0000001          ,  0.4996003610813201 ]])"
      ]
     },
     "execution_count": 19,
     "metadata": {},
     "output_type": "execute_result"
    }
   ],
   "source": [
    "x = -0.1 ** r_[:8]\n",
    "y = f(x)\n",
    "c_[x,y]"
   ]
  },
  {
   "cell_type": "markdown",
   "metadata": {},
   "source": [
    "So, the graph and the tables tell us that $\\displaystyle \\lim_{x\\to0} \\frac{1-\\cos x}{x^{\\textstyle2}} = 0.5$"
   ]
  },
  {
   "cell_type": "markdown",
   "metadata": {},
   "source": [
    "## Taking the limit as $x$ approaches a number other than zero\n",
    "\n",
    "C15. Example.\n",
    "Let's investigate\n",
    "$\\displaystyle \\lim_{\\textstyle x{\\to}\\pi/2} \\left(\\frac\\pi2 - x\\right) \\tan x$\n",
    "\n",
    "Notice that in this example, $x$ is not approaching 0.\n",
    "\n",
    "_RUN the following._"
   ]
  },
  {
   "cell_type": "code",
   "execution_count": 20,
   "metadata": {},
   "outputs": [],
   "source": [
    "def f(x):\n",
    "    return (pi/2 - x)*tan(x)"
   ]
  },
  {
   "cell_type": "code",
   "execution_count": 21,
   "metadata": {},
   "outputs": [
    {
     "data": {
      "text/plain": [
       "[<matplotlib.lines.Line2D at 0x7fed13adead0>]"
      ]
     },
     "execution_count": 21,
     "metadata": {},
     "output_type": "execute_result"
    },
    {
     "data": {
      "image/png": "[encoded data removed]",
      "text/plain": [
       "<Figure size 432x288 with 1 Axes>"
      ]
     },
     "metadata": {
      "needs_background": "light"
     },
     "output_type": "display_data"
    }
   ],
   "source": [
    "x = linspace(0,pi)\n",
    "y = f(x)\n",
    "plot(x,y)"
   ]
  },
  {
   "cell_type": "code",
   "execution_count": 22,
   "metadata": {},
   "outputs": [
    {
     "data": {
      "text/plain": [
       "array([[2.5707963267948966, 0.6420926159343308],\n",
       "       [1.6707963267948966, 0.9966644423259243],\n",
       "       [1.5807963267948966, 0.9999666664444484],\n",
       "       [1.5717963267948964, 0.9999996666667056],\n",
       "       [1.5708963267948965, 0.999999996667279 ],\n",
       "       [1.5708063267948966, 0.9999999999727899],\n",
       "       [1.5707973267948965, 1.000000000060899 ],\n",
       "       [1.5707964267948966, 1.0000000006123202]])"
      ]
     },
     "execution_count": 22,
     "metadata": {},
     "output_type": "execute_result"
    }
   ],
   "source": [
    "x = pi/2 + 0.1 ** r_[:8]\n",
    "y = f(x)\n",
    "c_[x,y]"
   ]
  },
  {
   "cell_type": "code",
   "execution_count": 23,
   "metadata": {},
   "outputs": [
    {
     "data": {
      "text/plain": [
       "array([[0.5707963267948966, 0.6420926159343306],\n",
       "       [1.4707963267948965, 0.9966644423259232],\n",
       "       [1.5607963267948965, 0.9999666664444362],\n",
       "       [1.5697963267948967, 0.9999996666665832],\n",
       "       [1.5706963267948966, 0.9999999966660543],\n",
       "       [1.5707863267948965, 0.9999999999605436],\n",
       "       [1.5707953267948966, 0.9999999999384342],\n",
       "       [1.5707962267948965, 0.9999999993876733]])"
      ]
     },
     "execution_count": 23,
     "metadata": {},
     "output_type": "execute_result"
    }
   ],
   "source": [
    "x = pi/2 - 0.1 ** r_[:8]\n",
    "y = f(x)\n",
    "c_[x,y]"
   ]
  },
  {
   "cell_type": "markdown",
   "metadata": {},
   "source": [
    "The graph and the tables tell us that $\\displaystyle \\lim_{\\textstyle x{\\to}\\pi/2} \\left(\\frac\\pi2 - x\\right) \\tan x = 1$"
   ]
  },
  {
   "cell_type": "markdown",
   "metadata": {},
   "source": [
    "## More Exercises\n",
    "\n",
    "C16. **DO EXERCISE.**  \n",
    "Let $f(x) = x \\ln x$.  \n",
    "(1) Plot a graph of $f(x)$ over the interval $(0,1]$\n",
    "and based on your graph, estimate\n",
    "\n",
    "$\\qquad\\displaystyle\\lim_{\\textstyle x{\\to}0^+} f(x)$.\n",
    "\n",
    "(2) Use the numeric approach to find the same limit."
   ]
  },
  {
   "cell_type": "code",
   "execution_count": 24,
   "metadata": {},
   "outputs": [
    {
     "data": {
      "text/plain": [
       "[<matplotlib.lines.Line2D at 0x7fed13bbe5d0>]"
      ]
     },
     "execution_count": 24,
     "metadata": {},
     "output_type": "execute_result"
    },
    {
     "data": {
      "image/png": "[encoded data removed]",
      "text/plain": [
       "<Figure size 432x288 with 1 Axes>"
      ]
     },
     "metadata": {
      "needs_background": "light"
     },
     "output_type": "display_data"
    }
   ],
   "source": [
    "# (1) TYPE YOUR CODE:\n",
    "\n",
    "x = linspace(0.0001,1)\n",
    "y = x*log(x)\n",
    "plot(x,y)\n",
    "\n",
    "# RECORD YOUR ANSWER: the limit is 0"
   ]
  },
  {
   "cell_type": "code",
   "execution_count": 25,
   "metadata": {},
   "outputs": [
    {
     "data": {
      "text/plain": [
       "array([[ 1.                 ,  0.                 ],\n",
       "       [ 0.1                , -0.23025850929940456],\n",
       "       [ 0.01               , -0.04605170185988092],\n",
       "       [ 0.001              , -0.00690775527898214],\n",
       "       [ 0.0001             , -0.00092103403719762],\n",
       "       [ 0.00001            , -0.0001151292546497 ],\n",
       "       [ 0.000001           , -0.00001381551055796],\n",
       "       [ 0.0000001          , -0.0000016118095651 ],\n",
       "       [ 0.00000001         , -0.00000018420680744],\n",
       "       [ 0.000000001        , -0.00000002072326584],\n",
       "       [ 0.0000000001       , -0.00000000230258509],\n",
       "       [ 0.00000000001      , -0.00000000025328436],\n",
       "       [ 0.000000000001     , -0.00000000002763102],\n",
       "       [ 0.0000000000001    , -0.00000000000299336],\n",
       "       [ 0.00000000000001   , -0.00000000000032236],\n",
       "       [ 0.000000000000001  , -0.00000000000003454],\n",
       "       [ 0.0000000000000001 , -0.00000000000000368]])"
      ]
     },
     "execution_count": 25,
     "metadata": {},
     "output_type": "execute_result"
    }
   ],
   "source": [
    "# (2) TYPE YOUR CODE:\n",
    "\n",
    "x = 0.1 ** r_[:17]\n",
    "y = x*log(x)\n",
    "c_[x,y]\n",
    "\n",
    "# RECORD YOUR ANSWER: the limit is 0"
   ]
  },
  {
   "cell_type": "markdown",
   "metadata": {},
   "source": [
    "C17. **DO EXERCISE.**  \n",
    "(1) Define the python function $f(x) = x^{\\textstyle-1}e^{\\textstyle-1/x}$  \n",
    "(2) Plot the function $f(x)$ over the interval $(0,1]$ and estimate.  \n",
    "\n",
    "$\\qquad \\displaystyle\\lim_{\\textstyle x{\\to}0^{\\textstyle+}}f(x)$  \n",
    "\n",
    "(3) Use the numeric approach to find the same limit.    "
   ]
  },
  {
   "cell_type": "code",
   "execution_count": 26,
   "metadata": {},
   "outputs": [],
   "source": [
    "# (1) TYPE YOUR CODE:\n",
    "\n",
    "def f(x): return x**-1 * exp(-1/x)"
   ]
  },
  {
   "cell_type": "code",
   "execution_count": 27,
   "metadata": {},
   "outputs": [
    {
     "data": {
      "text/plain": [
       "[<matplotlib.lines.Line2D at 0x7fed13c21810>]"
      ]
     },
     "execution_count": 27,
     "metadata": {},
     "output_type": "execute_result"
    },
    {
     "data": {
      "image/png": "[encoded data removed]",
      "text/plain": [
       "<Figure size 432x288 with 1 Axes>"
      ]
     },
     "metadata": {
      "needs_background": "light"
     },
     "output_type": "display_data"
    }
   ],
   "source": [
    "# (2) TYPE YOUR CODE:\n",
    "\n",
    "x = linspace(0.0001,1)\n",
    "plot(x,f(x))\n",
    "\n",
    "# RECORD YOUR ANSWER: the limit is 0"
   ]
  },
  {
   "cell_type": "code",
   "execution_count": 28,
   "metadata": {},
   "outputs": [
    {
     "data": {
      "text/plain": [
       "array([[1.                 , 0.36787944117144233],\n",
       "       [0.1                , 0.00045399929762485],\n",
       "       [0.01               , 0.                 ],\n",
       "       [0.001              , 0.                 ],\n",
       "       [0.0001             , 0.                 ]])"
      ]
     },
     "execution_count": 28,
     "metadata": {},
     "output_type": "execute_result"
    }
   ],
   "source": [
    "# (3) TYPE YOUR CODE:\n",
    "\n",
    "x = 0.1 ** r_[:5]\n",
    "c_[x,f(x)]\n",
    "\n",
    "# RECORD YOUR ANSWER: the limit is 0"
   ]
  },
  {
   "cell_type": "markdown",
   "metadata": {},
   "source": [
    "C18. **DO EXERCISE.**  \n",
    "We wish to find the limit of the oscillating function\n",
    "\n",
    "$\\qquad f(x) = x \\sin \\frac1x$\n",
    "\n",
    "as $x$ approaches 0.\n",
    "\n",
    "(1) Plot the function $f$ over the interval $[-pi,pi]$ using 10000 points for $x$.  \n",
    "(2) \"Zoom in\" by replotting the function over $[-0.1,0.1]$.  \n",
    "(3) Motivated by the squeeze theorem, plot on the same axes the function $f$ over $[-0.1,0.1]$ as well as $y=|x|$ and $y = -|x|$.  \n",
    "(4) Estimate the limit as $x\\to0$.  \n",
    "(5) How did graphing the absolute value help you find the limit in (3)? (Choose one)  \n",
    "_The mean-value theorem_\n",
    "$\\quad$ _The function is continuous_\n",
    "$\\quad$ _The squeeze theorem_\n",
    "$\\quad$ _They didnt; I just guessed_"
   ]
  },
  {
   "cell_type": "code",
   "execution_count": 29,
   "metadata": {},
   "outputs": [
    {
     "data": {
      "text/plain": [
       "[<matplotlib.lines.Line2D at 0x7fed13d66b50>]"
      ]
     },
     "execution_count": 29,
     "metadata": {},
     "output_type": "execute_result"
    },
    {
     "data": {
      "image/png": "[encoded data removed]",
      "text/plain": [
       "<Figure size 432x288 with 1 Axes>"
      ]
     },
     "metadata": {
      "needs_background": "light"
     },
     "output_type": "display_data"
    }
   ],
   "source": [
    "# (1) TYPE YOUR CODE:\n",
    "\n",
    "x = linspace(-pi,pi,10000)\n",
    "y = x*sin(1/x)\n",
    "plot(x,y)"
   ]
  },
  {
   "cell_type": "code",
   "execution_count": 30,
   "metadata": {},
   "outputs": [
    {
     "data": {
      "text/plain": [
       "[<matplotlib.lines.Line2D at 0x7fed13e92b90>]"
      ]
     },
     "execution_count": 30,
     "metadata": {},
     "output_type": "execute_result"
    },
    {
     "data": {
      "image/png": "[encoded data removed]",
      "text/plain": [
       "<Figure size 432x288 with 1 Axes>"
      ]
     },
     "metadata": {
      "needs_background": "light"
     },
     "output_type": "display_data"
    }
   ],
   "source": [
    "# (2) TYPE YOUR CODE:\n",
    "\n",
    "x = linspace(-0.1,0.1,10000)\n",
    "y = x*sin(1/x)\n",
    "plot(x,y)"
   ]
  },
  {
   "cell_type": "code",
   "execution_count": 31,
   "metadata": {},
   "outputs": [
    {
     "data": {
      "text/plain": [
       "[<matplotlib.lines.Line2D at 0x7fed140a3690>]"
      ]
     },
     "execution_count": 31,
     "metadata": {},
     "output_type": "execute_result"
    },
    {
     "data": {
      "image/png": "[encoded data removed]",
      "text/plain": [
       "<Figure size 432x288 with 1 Axes>"
      ]
     },
     "metadata": {
      "needs_background": "light"
     },
     "output_type": "display_data"
    }
   ],
   "source": [
    "# (3) TYPE YOUR CODE:\n",
    "\n",
    "x = linspace(-0.1,0.1,10000)\n",
    "y = x*sin(1/x)\n",
    "plot(x,y)\n",
    "\n",
    "y = abs(x)\n",
    "plot(x,y)\n",
    "\n",
    "y = -abs(x)\n",
    "plot(x,y)\n",
    "\n",
    "# (4) RECORD YOUR ANSWER: the limit is 0\n",
    "# (5) RECORD YOUR ANSWER: The squeeze theorem"
   ]
  }
 ],
 "metadata": {
  "kernelspec": {
   "display_name": "Python 3",
   "language": "python",
   "name": "python3"
  },
  "language_info": {
   "codemirror_mode": {
    "name": "ipython",
    "version": 3
   },
   "file_extension": ".py",
   "mimetype": "text/x-python",
   "name": "python",
   "nbconvert_exporter": "python",
   "pygments_lexer": "ipython3",
   "version": "3.7.4"
  },
  "title": "yournamehere"
 },
 "nbformat": 4,
 "nbformat_minor": 4
}
