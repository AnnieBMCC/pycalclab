{
 "cells": [
  {
   "cell_type": "markdown",
   "metadata": {},
   "source": [
    "<center>\n",
    "<big>Lab B: Plotting Graphs in Python</big><br>\n",
    "https://mybinder.org/v2/gh/anniebmcc/pycalclab/master?filepath=mat301b.ipynb <br>\n",
    "2020 Summer — Calculus 1<br>\n",
    "Dr Matthew H Sunderland<br>\n",
    "</center>\n",
    "\n",
    "### Plotting with `plot`\n",
    "B1. Example.\n",
    "To graph $f(x) = x^2$ over $[-2,2]$ by hand, make an $xy$ table: choose some $x$ values,\n",
    "\n",
    "|   |   |   |   |   |   |\n",
    "|---|---|---|---|---|---|\n",
    "| **x** |-2 |-1 | 0 | 1 | 2 |\n",
    "| **y**|\n",
    "\n",
    "and then use $f$ to compute the corresponding $y$ values.\n",
    "\n",
    "B2. **RUN** the following. Notice that graphing in python is similar to B1: we make a list of $x$ values and $y$ values."
   ]
  },
  {
   "cell_type": "code",
   "execution_count": null,
   "metadata": {},
   "outputs": [],
   "source": [
    "%pylab inline"
   ]
  },
  {
   "cell_type": "code",
   "execution_count": null,
   "metadata": {},
   "outputs": [],
   "source": [
    "x = r_[-2, -1, 0, 1, 2]\n",
    "y = r_[4, 1, 0, 1, 4]\n",
    "plot(x,y)"
   ]
  },
  {
   "cell_type": "markdown",
   "metadata": {},
   "source": [
    "B3. **RUN** the following. Notice that we save time by making the $x$ array using `linspace` (see A27) and making the $y$ array by doing arithmetic on $x$ (see A29). For illustrative purposes, we use `c_[x,y]` to make a table out of the arrays $x$ and $y$ (see A29)."
   ]
  },
  {
   "cell_type": "code",
   "execution_count": null,
   "metadata": {},
   "outputs": [],
   "source": [
    "x = linspace(-2,2,9)\n",
    "y = x**2\n",
    "\n",
    "plot(x,y)\n",
    "title('$f(x) = x^2$ plotted with 9 points')\n",
    "grid()\n",
    "\n",
    "c_[x,y]"
   ]
  },
  {
   "cell_type": "markdown",
   "metadata": {},
   "source": [
    "B4. **RUN** the following, which graph $f(x) = e^x$ over the interval $[0, 7]$.\n",
    "Here we make our array $x$ using `r_[a:b:stride]` (see A22).\n",
    "Remember that `exp(x)` is how you write $e^x$ in python (see A18)."
   ]
  },
  {
   "cell_type": "code",
   "execution_count": null,
   "metadata": {},
   "outputs": [],
   "source": [
    "x = r_[:7]\n",
    "y = exp(x)\n",
    "plot(x,y)"
   ]
  },
  {
   "cell_type": "markdown",
   "metadata": {},
   "source": [
    "B5. **RUN** the following.\n",
    "When we change the $x$ we must recompute the $y$;\n",
    "there are two ways to do it (compare B4 to B5)."
   ]
  },
  {
   "cell_type": "code",
   "execution_count": null,
   "metadata": {},
   "outputs": [],
   "source": [
    "x = r_[:10]\n",
    "plot(x, exp(x))"
   ]
  },
  {
   "cell_type": "markdown",
   "metadata": {},
   "source": [
    "B6. **EXERCISE.**  \n",
    "(1) Graph $y = \\cos 4x$ over $[0, \\pi]$ with a step size of `pi/10`  \n",
    "(2) Redo your plot from iii. using `x = linspace(0,pi)`  \n",
    "(3) Which plot looks more like the plot of a cosine curve?  "
   ]
  },
  {
   "cell_type": "code",
   "execution_count": null,
   "metadata": {},
   "outputs": [],
   "source": [
    "# (1) Type your answer below and press SHIFT+ENTER\n"
   ]
  },
  {
   "cell_type": "code",
   "execution_count": null,
   "metadata": {},
   "outputs": [],
   "source": [
    "# (2) Type your answer below and press SHIFT+ENTER\n",
    "\n",
    "# (3) Your answer: "
   ]
  },
  {
   "cell_type": "markdown",
   "metadata": {},
   "source": [
    "B7. **EXERCISE.** Plot the function $f(x) = e^{\\cos x}$ over the interval $[0,2\\pi]$."
   ]
  },
  {
   "cell_type": "code",
   "execution_count": null,
   "metadata": {},
   "outputs": [],
   "source": [
    "# Type your answer below and press SHIFT+ENTER\n"
   ]
  },
  {
   "cell_type": "markdown",
   "metadata": {},
   "source": [
    "### Doing arthmetic on arrays\n",
    "\n",
    "B8. **RUN** the following.  \n",
    "We make numpy arrays with `r_` or `linspace`  \n",
    "Numpy arrays \"know\" how to do \"elementwise\" arithmetic.  \n",
    "Warning: $x^2$ is written `x**2`."
   ]
  },
  {
   "cell_type": "code",
   "execution_count": null,
   "metadata": {},
   "outputs": [],
   "source": [
    "x = r_[1:5]\n",
    "\n",
    "x,  10 - x,  x + 10,  10*x,  x**2,  12/x,  x**x,  10**x"
   ]
  },
  {
   "cell_type": "markdown",
   "metadata": {},
   "source": [
    "B9. **RUN** the following."
   ]
  },
  {
   "cell_type": "code",
   "execution_count": null,
   "metadata": {},
   "outputs": [],
   "source": [
    "# We can add arrays of the same shape (same length)\n",
    "\n",
    "x = r_[10, 20, 50, 100]\n",
    "y = r_[3, 0, 7, -1]\n",
    "x + y"
   ]
  },
  {
   "cell_type": "code",
   "execution_count": null,
   "metadata": {},
   "outputs": [],
   "source": [
    "# We can add an array (x) and a scalar (y)\n",
    "\n",
    "x = r_[10, 20, 50, 100]\n",
    "y = 100\n",
    "x + y"
   ]
  },
  {
   "cell_type": "code",
   "execution_count": null,
   "metadata": {},
   "outputs": [],
   "source": [
    "# We CANNOT add arrays of DIFFERENT shape\n",
    "\n",
    "x = r_[10, 20, 50, 100]\n",
    "y = r_[3, 0, 7]\n",
    "x + y"
   ]
  },
  {
   "cell_type": "markdown",
   "metadata": {},
   "source": [
    "B10. **RUN** the following."
   ]
  },
  {
   "cell_type": "code",
   "execution_count": null,
   "metadata": {},
   "outputs": [],
   "source": [
    "# y = sin x + cos 3x over the domain [0,2pi]\n",
    "\n",
    "x = linspace(0,2*pi)\n",
    "y = sin(x) + cos(3*x)\n",
    "plot(x,y)"
   ]
  },
  {
   "cell_type": "code",
   "execution_count": null,
   "metadata": {},
   "outputs": [],
   "source": [
    "# y = e^(-x/2) cos 6x over the domain [0,10pi]\n",
    "\n",
    "x = linspace(0, 10*pi, 300)\n",
    "y1 = exp(-x/2) # Here we break up the\n",
    "y2 = cos(6*x)  # computation into\n",
    "y = y1*y2      # bite-sized pieces\n",
    "plot(x,y)"
   ]
  },
  {
   "cell_type": "code",
   "execution_count": null,
   "metadata": {},
   "outputs": [],
   "source": [
    "# y = 1/(x^2 - 1) over the domain [2,5]\n",
    "\n",
    "x = r_[2:5:0.1]\n",
    "y = 1/(x**2 - 1)\n",
    "plot(x,y)"
   ]
  },
  {
   "cell_type": "markdown",
   "metadata": {},
   "source": [
    "B11. **EXERCISE.**\n",
    "First **RUN** the following."
   ]
  },
  {
   "cell_type": "code",
   "execution_count": null,
   "metadata": {},
   "outputs": [],
   "source": [
    "a,b,c = r_[:5], r_[:50:10], r_[:10]\n",
    "a,b,c"
   ]
  },
  {
   "cell_type": "markdown",
   "metadata": {},
   "source": [
    "Now, that we've defined $a,b,c$, which of the following are defined?  \n",
    "$a+b \\qquad a+c \\qquad a+1 \\qquad a*b \\qquad c*\\!\\!*\\,2 \\qquad c\\verb. ^ . 2$"
   ]
  },
  {
   "cell_type": "code",
   "execution_count": null,
   "metadata": {},
   "outputs": [],
   "source": [
    "# Type your answer below and press SHIFT+ENTER\n"
   ]
  },
  {
   "cell_type": "markdown",
   "metadata": {},
   "source": [
    "B12. **RUN** the following example.\n",
    "Let $x$ be the array 1,2,3.\n",
    "Write Python commands to compute $x^3$.  \n",
    "The output you get should be `array([ 1,  8, 27])`."
   ]
  },
  {
   "cell_type": "code",
   "execution_count": null,
   "metadata": {},
   "outputs": [],
   "source": [
    "x = r_[1,2,3]\n",
    "x**3"
   ]
  },
  {
   "cell_type": "markdown",
   "metadata": {},
   "source": [
    "B13. **EXERCISE.**\n",
    "Using the same array `x = r_[1,2,3]`, find:\n",
    "\n",
    "$\\cos x \\sin x\n",
    "  \\qquad \\sin^2x\n",
    "  \\qquad \\sin x^2\n",
    "  \\qquad 7x^2 \\sin \\frac1{7x^2}$\n",
    "\n",
    "You should get  \n",
    "`array([ 0.45464871, -0.37840125, -0.13970775])`  \n",
    "`array([0.70807342, 0.82682181, 0.01991486])`  \n",
    "`array([ 0.84147098, -0.7568025 ,  0.41211849])`  \n",
    "`array([0.99660211, 0.99978743, 0.99995801])`"
   ]
  },
  {
   "cell_type": "code",
   "execution_count": null,
   "metadata": {},
   "outputs": [],
   "source": [
    "# Type your answer below and press SHIFT+ENTER\n"
   ]
  },
  {
   "cell_type": "markdown",
   "metadata": {},
   "source": [
    "B14. **EXERCISE.**  Using the same array `x = r_[1,2,3]`, find:\n",
    "\n",
    "$x - \\frac{\\cos x - \\sin x}{\\sin x + \\cos x}\n",
    "  \\qquad \\frac1{10} (x - \\frac{x^{3/2}}{10})^2$\n",
    "\n",
    "You should get  \n",
    "`array([1.2179581 , 4.68770694, 1.66751188])`  \n",
    "`array([0.081     , 0.29486292, 0.61523085])`"
   ]
  },
  {
   "cell_type": "code",
   "execution_count": null,
   "metadata": {},
   "outputs": [],
   "source": [
    "# Type your answer below and press SHIFT+ENTER\n"
   ]
  },
  {
   "cell_type": "markdown",
   "metadata": {},
   "source": [
    "### Graphing practice\n",
    "\n",
    "B15 **EXERCISE.**  \n",
    "(1) Graph the function $f(x) = \\sin(\\frac\\pi2x) + \\sin(\\frac25\\pi x)$ over the interval $[0, 40]$.  \n",
    "(2) How many peaks (relative maxima) does your graph have?  \n",
    "(3) This function is periodic; how many periods are graphed in $[0, 40]$?  \n",
    "(4) Estimate from your graph the value of $f(10)$ to 1 decimal point."
   ]
  },
  {
   "cell_type": "code",
   "execution_count": null,
   "metadata": {},
   "outputs": [],
   "source": [
    "# (1) Type your answer below and press SHIFT+ENTER\n",
    "\n",
    "# (2) Your answer: \n",
    "# (3) Your answer: \n",
    "# (4) Your answer: "
   ]
  },
  {
   "cell_type": "markdown",
   "metadata": {},
   "source": [
    "B16. **EXERCISE.**  \n",
    "(1) Graph $f(x)=\\cos^2x-\\sin^2x$ over the interval $[-2\\pi,2\\pi]$ using 100 points.\n",
    "\n",
    "(2) Does the resemble any of the following?\n",
    "$\\qquad \\cos 2x \\qquad \\cos x/2 \\qquad \\cos x$"
   ]
  },
  {
   "cell_type": "code",
   "execution_count": null,
   "metadata": {},
   "outputs": [],
   "source": [
    "# (1) Type your answer below and press SHIFT+ENTER\n",
    "\n",
    "# (2) Your answer:  "
   ]
  },
  {
   "cell_type": "markdown",
   "metadata": {},
   "source": [
    "B17. **EXERCISE.**  \n",
    "(1) Plot the polynomial function $f(x) = x^3 - 20x^2 + 10x - 1$ over the interval $[-10, 10]$.  \n",
    "(2) Which is the approximate range for the $y$-axis?  \n",
    "$\\qquad [-10,10] \\qquad (-10,10) \\qquad [-3100,0] \\qquad [0, 2\\pi]$"
   ]
  },
  {
   "cell_type": "code",
   "execution_count": null,
   "metadata": {},
   "outputs": [],
   "source": [
    "# (1) Type your answer below and press SHIFT+ENTER\n",
    "\n",
    "# (2) Your answer:  "
   ]
  },
  {
   "cell_type": "markdown",
   "metadata": {},
   "source": [
    "B18. **EXERCISE.** We wish to investigate when (if) the function in B17 is positive.\n",
    "We can’t readily tell from our graph in B17 so we will replot over a smaller domain.   \n",
    "\n",
    "(1). Which of these domains seems appropriate for this task?  \n",
    "$\\qquad [0,500] \\qquad [0,10] \\qquad [-1,1] \\qquad [0, 2\\pi]$\n",
    "\n",
    "(2) Replot the graph over the selected domain. Turn on the grid using `grid()`\n",
    "\n",
    "(3) From your graph, which of these $x$ values have $f (x) > 0?$ Indicate all that apply:  \n",
    "$\\qquad 0 \\qquad 0.25 \\qquad 0.50 \\qquad 0.75$"
   ]
  },
  {
   "cell_type": "code",
   "execution_count": null,
   "metadata": {},
   "outputs": [],
   "source": [
    "# (1) Your answer:  \n",
    "# (2) Type your answer below and press SHIFT+ENTER\n",
    "\n",
    "# (3) Your answer:  "
   ]
  }
 ],
 "metadata": {
  "kernelspec": {
   "display_name": "Python 3",
   "language": "python",
   "name": "python3"
  },
  "language_info": {
   "codemirror_mode": {
    "name": "ipython",
    "version": 3
   },
   "file_extension": ".py",
   "mimetype": "text/x-python",
   "name": "python",
   "nbconvert_exporter": "python",
   "pygments_lexer": "ipython3",
   "version": "3.7.4"
  },
  "title": "yournamehere"
 },
 "nbformat": 4,
 "nbformat_minor": 4
}
