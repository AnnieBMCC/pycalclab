{
 "cells": [
  {
   "cell_type": "markdown",
   "metadata": {},
   "source": [
    "<center>\n",
    "<big>Lab B: Plotting Graphs in Python</big><br>\n",
    "2020 Summer — Calculus 1<br>\n",
    "Dr Matthew H Sunderland<br>\n",
    "</center>\n",
    "\n",
    "**B1.** If you are reading this as a PDF,  \n",
    "open the live notebook remotely on Binder [here](https://mybinder.org/v2/gh/mattsunderland/pycalclab/master).\n",
    "\n",
    "# Plotting with `plot`\n",
    "\n",
    "**B2 Example.**\n",
    "To graph $f(x) = x^2$ over $[-2,2]$ by hand, make an $xy$ table: choose some $x$ values,\n",
    "\n",
    "|   |   |   |   |   |   |\n",
    "|---|---|---|---|---|---|\n",
    "| **x** |-2 |-1 | 0 | 1 | 2 |\n",
    "| **y**|\n",
    "\n",
    "and then use $f$ to compute the corresponding $y$ values.  \n",
    "Graphing in python is similar. **Run the following (SHIFT+ENTER), then run it again.**  \n",
    "<!--Note: We learned `r_[ ]` in A24.-->"
   ]
  },
  {
   "cell_type": "code",
   "execution_count": null,
   "metadata": {},
   "outputs": [],
   "source": [
    "%pylab inline\n",
    "\n",
    "x = r_[-2, -1, 0, 1, 2]\n",
    "y = r_[4, 1, 0, 1, 4]\n",
    "plot(x,y)"
   ]
  },
  {
   "cell_type": "markdown",
   "metadata": {},
   "source": [
    "**B3.** Run the code cell below. Notes:\n",
    "* We make the `x` with `linspace(a,b,n)`, which gives `n` numbers evenly spaced `a` to `b` inclusive (see A30)\n",
    "* We make the `y` by doing arithmetic on `x`\n",
    "* `plot(x,y)` makes the plot\n",
    "* `title()` adds a title\n",
    "* `grid()` add a grid\n",
    "* `r_[[x,y]]` displays an $xy$ table"
   ]
  },
  {
   "cell_type": "code",
   "execution_count": null,
   "metadata": {},
   "outputs": [],
   "source": [
    "x = linspace(-2,2,9)\n",
    "y = x**2\n",
    "\n",
    "plot(x,y)\n",
    "title('$f(x) = x^2$ plotted with 9 points')\n",
    "grid()\n",
    "\n",
    "r_[[x,y]]"
   ]
  },
  {
   "cell_type": "markdown",
   "metadata": {},
   "source": [
    "**B4 Example.** Run the following cells, which graph $f(x) = e^x$ over the interval $[0, 7]$.\n",
    "\n",
    "* `r_[a:b:stride]` gives you the numbers **from $a$ up to but _not_ including $b$** spaced `stride` apart (see A28)\n",
    "* `exp(x)` is how you write $e^x$ in python (see A21)"
   ]
  },
  {
   "cell_type": "code",
   "execution_count": null,
   "metadata": {},
   "outputs": [],
   "source": [
    "x = r_[:7]\n",
    "y = exp(x)\n",
    "plot(x,y)"
   ]
  },
  {
   "cell_type": "markdown",
   "metadata": {},
   "source": [
    "**B5.** Run the following.  \n",
    "When we change the $x$ we must recompute the $y$;  \n",
    "there are two ways to do it (compare B4 to B3)."
   ]
  },
  {
   "cell_type": "code",
   "execution_count": null,
   "metadata": {},
   "outputs": [],
   "source": [
    "x = r_[:10]\n",
    "plot(x, exp(x))"
   ]
  },
  {
   "cell_type": "markdown",
   "metadata": {},
   "source": [
    "**B6 Exercise.**\n",
    "We want to graph $y = \\cos 4x$ over $[0, \\pi]$ with a step size of `pi/10`.\n",
    "\n",
    "i.  Which command gives the desired values for x?\n",
    "(a)  x = 0:pi/10:pi    (b)  x = 0:pi:pi/10    (c)  x = linspace(0,pi)  \n",
    "ii. Which gives the correct answer for y?\n",
    "(a)  y = cos(4x)       (b)  y = cos4*x        (c)  y = cos(4*x)  \n",
    "iii. Plot the graph.  \n",
    "iv. Redo your plot from iii. using `x = linspace(0,pi)`  \n",
    "v. Which plot looks more like the plot of a cosine curve?  \n",
    "(a) The first one,\n",
    "(b) the second one,\n",
    "(c) both of them."
   ]
  },
  {
   "cell_type": "code",
   "execution_count": null,
   "metadata": {},
   "outputs": [],
   "source": [
    "# i. Type your answer in this comment:\n",
    "# ii. Type your answer in this comment:\n",
    "\n",
    "# iii. Type and run your code here."
   ]
  },
  {
   "cell_type": "code",
   "execution_count": null,
   "metadata": {},
   "outputs": [],
   "source": [
    "# iv. Type and run your code here.\n",
    "\n",
    "# ii. Type your answer in this comment:"
   ]
  },
  {
   "cell_type": "markdown",
   "metadata": {},
   "source": [
    "**B7 Exercise.**  \n",
    "\n",
    "i. Plot the function $f(x) = e^{\\cos x}$ over the interval $[0,2\\pi]$.\n",
    "\n",
    "ii. What command generates a sufficient number of values for $x$?  \n",
    "(a) `linspace(0,2*pi)`\n",
    "(b) `linspace(0,100,2*pi)`  \n",
    "(c) `r_[0:2*pi]`\n",
    "(d) `r_[0:0.01:2*pi]`\n",
    "\n",
    "iii. Which command will generate the corresponding y$ $values?  \n",
    "(a) `exp^cos(x)`\n",
    "(b) `e^cos(x)`\n",
    "(c) `exp(cos(x))`\n",
    "(d) `exp(x)cos(x)`"
   ]
  },
  {
   "cell_type": "code",
   "execution_count": null,
   "metadata": {},
   "outputs": [],
   "source": [
    "# i. Type and run your code here.\n",
    "\n",
    "# ii. Type your answer in this comment:\n",
    "# iii. Type your answer in this comment:"
   ]
  },
  {
   "cell_type": "markdown",
   "metadata": {},
   "source": [
    "# Doing arthmetic on arrays\n",
    "\n",
    "**B8.** Run the following.  \n",
    "We make numpy arrays with `r_` or `linspace`  \n",
    "Numpy arrays \"know\" how to do \"elementwise\" arithmetic.  \n",
    "Warning: $x^2$ is written `x**2`."
   ]
  },
  {
   "cell_type": "code",
   "execution_count": null,
   "metadata": {},
   "outputs": [],
   "source": [
    "x = r_[1:5]\n",
    "x, 10 - x, x + 10, 10*x, x**2, 12/x, x**x, 10**x"
   ]
  },
  {
   "cell_type": "markdown",
   "metadata": {},
   "source": [
    "**B9.** Run the following."
   ]
  },
  {
   "cell_type": "code",
   "execution_count": null,
   "metadata": {},
   "outputs": [],
   "source": [
    "# We can add arrays of the same shape (same length)\n",
    "\n",
    "x = r_[10, 20, 50, 100]\n",
    "y = r_[3, 0, 7, -1]\n",
    "x + y"
   ]
  },
  {
   "cell_type": "code",
   "execution_count": null,
   "metadata": {},
   "outputs": [],
   "source": [
    "# We can add an array (x) and a scalar (y)\n",
    "\n",
    "x = r_[10, 20, 50, 100]\n",
    "y = 100\n",
    "x + y"
   ]
  },
  {
   "cell_type": "code",
   "execution_count": null,
   "metadata": {},
   "outputs": [],
   "source": [
    "# We CANNOT add arrays of DIFFERENT shape\n",
    "\n",
    "x = r_[10, 20, 50, 100]\n",
    "y = r_[3, 0, 7]\n",
    "x + y"
   ]
  },
  {
   "cell_type": "markdown",
   "metadata": {},
   "source": [
    "**B10 Examples.**\n",
    "Run the cells below, which plot the following.\n",
    "* $y = \\sin x + \\cos 3x$ over the domain $[0, 2\\pi]$\n",
    "* $y = e^{-x/2} \\cos 6x$ over the domain $[0, 10\\pi]$\n",
    "* $y = 1/(x^2 - 1)$ over the domain $[2,5]$"
   ]
  },
  {
   "cell_type": "code",
   "execution_count": null,
   "metadata": {},
   "outputs": [],
   "source": [
    "x = linspace(0,2*pi)\n",
    "y = sin(x) + cos(3*x)\n",
    "plot(x,y)"
   ]
  },
  {
   "cell_type": "code",
   "execution_count": null,
   "metadata": {},
   "outputs": [],
   "source": [
    "x = linspace(0, 10*pi, 300)\n",
    "y1 = exp(-x/2) # Here we break up the\n",
    "y2 = cos(6*x)  # computation into\n",
    "y = y1*y2      # bite-sized pieces\n",
    "plot(x,y)"
   ]
  },
  {
   "cell_type": "code",
   "execution_count": null,
   "metadata": {},
   "outputs": [],
   "source": [
    "x = r_[2:5.1:0.1]\n",
    "y = 1/(x**2 - 1)\n",
    "plot(x,y)"
   ]
  },
  {
   "cell_type": "markdown",
   "metadata": {},
   "source": [
    "**B11 Exercise.**\n",
    "Define $a$, $b$, and $c$ by\n",
    "\n",
    "    a = r_[1:21:2]\n",
    "    b = r_[1:11]\n",
    "    c = r_[1:12:2]\n",
    "\n",
    "Which of the following is/are defined?  \n",
    "(a) `b+c`\n",
    "(b) `a + b`\n",
    "(c) `a./ b`\n",
    "(d) `a * b`\n",
    "(e) `a ^ 2`"
   ]
  },
  {
   "cell_type": "code",
   "execution_count": null,
   "metadata": {},
   "outputs": [],
   "source": [
    "\n",
    "# Type your answer in this comment:"
   ]
  },
  {
   "cell_type": "markdown",
   "metadata": {},
   "source": [
    "**B12 Example.**\n",
    "Let $x$ be the array 1,2,3.\n",
    "Write Python commands to compute $x^3$.  \n",
    "The output you get should be `array([ 1,  8, 27])`."
   ]
  },
  {
   "cell_type": "code",
   "execution_count": null,
   "metadata": {},
   "outputs": [],
   "source": [
    "x = r_[1,2,3]\n",
    "\n",
    "# Write out and run your code here.\n",
    "x**3"
   ]
  },
  {
   "cell_type": "markdown",
   "metadata": {},
   "source": [
    "**B13 Exercise.**\n",
    "Let $x$ be the array 1,2,3.\n",
    "\n",
    "i. Write Python commands to compute $\\cos x \\sin x$.  \n",
    "You should get `array([ 0.45464871, -0.37840125, -0.13970775])`\n",
    "\n",
    "ii. Write Python commands to compute $\\sin^2x$.  \n",
    "You should get `array([0.70807342, 0.82682181, 0.01991486])`\n",
    "\n",
    "iii. Write Python commands to compute $\\sin x^2$.  \n",
    "You should get `array([ 0.84147098, -0.7568025 ,  0.41211849])`\n",
    "\n",
    "iv. Write Python commands to compute $7x^2 \\sin \\frac1{7x^2}$.  \n",
    "You should get `array([0.99660211, 0.99978743, 0.99995801])`\n",
    "\n",
    "v. Write Python commands to compute \n",
    "$x - \\frac{\\cos x - \\sin x}{\\sin x + \\cos x}$  \n",
    "You should get `array([1.2179581 , 4.68770694, 1.66751188])`\n",
    "\n",
    "vi. Write Python commands to compute \n",
    "$\\frac1{10} (x - \\frac{x^{3/2}}{10})^2$  \n",
    "You should get `array([0.081     , 0.29486292, 0.61523085])`"
   ]
  },
  {
   "cell_type": "code",
   "execution_count": null,
   "metadata": {},
   "outputs": [],
   "source": [
    "# i. Write out and run your code here."
   ]
  },
  {
   "cell_type": "code",
   "execution_count": null,
   "metadata": {},
   "outputs": [],
   "source": [
    "# ii. Write out and run your code here."
   ]
  },
  {
   "cell_type": "code",
   "execution_count": null,
   "metadata": {},
   "outputs": [],
   "source": [
    "# iii. Write out and run your code here."
   ]
  },
  {
   "cell_type": "code",
   "execution_count": null,
   "metadata": {},
   "outputs": [],
   "source": [
    "# iv. Write out and run your code here."
   ]
  },
  {
   "cell_type": "code",
   "execution_count": null,
   "metadata": {},
   "outputs": [],
   "source": [
    "# v. Write out and run your code here."
   ]
  },
  {
   "cell_type": "code",
   "execution_count": null,
   "metadata": {},
   "outputs": [],
   "source": [
    "# vi. Write out and run your code here."
   ]
  },
  {
   "cell_type": "markdown",
   "metadata": {},
   "source": [
    "**B14 Exercise.**  \n",
    "i. Graph the function \n",
    "$f(x) = \\sin(\\frac\\pi2x) + \\sin(\\frac25\\pi x)$ \n",
    "over the interval $[0, 40]$.\n",
    "\n",
    "ii. How many peaks (relative maxima) does your graph B21 have?  \n",
    "(a) 2\n",
    "(b) 3\n",
    "(c) 4\n",
    "(d) 5\n",
    "(e) none of the above\n",
    "\n",
    "iii. The function in B21 is periodic; how many periods are graphed in $[0, 40]$?  \n",
    "(a) 2\n",
    "(b) 3\n",
    "(c) 4\n",
    "(d) 5\n",
    "(e) none of the above\n",
    "\n",
    "iv. Estimate from your graph B21 the value of $f(10)$ to 1 decimal point."
   ]
  },
  {
   "cell_type": "code",
   "execution_count": null,
   "metadata": {},
   "outputs": [],
   "source": [
    "# i. Make your graph here.\n",
    "\n",
    "# ii. Type your answer in this comment:\n",
    "\n",
    "# iii. Type your answer in this comment:\n",
    "\n",
    "# iv. Type your answer in this comment:"
   ]
  },
  {
   "cell_type": "markdown",
   "metadata": {},
   "source": [
    "**B15 Exercise.**  \n",
    "i. Graph the function $f(x)=\\cos^2x-\\sin^2x$ over the interval $[-2\\pi,2\\pi]$.\n",
    "Use 50 points in the domain.  \n",
    "ii. Does the graph B24 resemble any graph that you are familiar with?  \n",
    "(a) $\\cos 2x$\n",
    "(b) $\\cos x/2$\n",
    "(c) $\\cos x$"
   ]
  },
  {
   "cell_type": "code",
   "execution_count": null,
   "metadata": {},
   "outputs": [],
   "source": [
    "# i. Make your graph here.\n",
    "\n",
    "# ii. Type your answer in this comment:"
   ]
  },
  {
   "cell_type": "markdown",
   "metadata": {},
   "source": [
    "**B16 Exercise.**  \n",
    "i. Plot the polynomial function $f(x) = x^3 - 20x^2 + 10x - 1$over the interval $[-10, 10]$.  \n",
    "ii. What is the approximate range for the $y$-axis?  \n",
    "(a) $[-10,10]$\n",
    "(b) $(-10,10)$\n",
    "(c) $[-3100,0]$\n",
    "(d) $[0, 2\\pi]$"
   ]
  },
  {
   "cell_type": "code",
   "execution_count": null,
   "metadata": {},
   "outputs": [],
   "source": [
    "# i. Make your graph here.\n",
    "\n",
    "# ii. Type your answer in this comment:"
   ]
  },
  {
   "cell_type": "markdown",
   "metadata": {},
   "source": [
    "**B17 Exercise.** We wish to investigate when (if) the is positive.  \n",
    "We can’t readily tell from our graph B27 so we will replot over a smaller domain.   \n",
    "\n",
    "i. Which of these domains seems appropriate for this task?  \n",
    "(a) $[0,500]$\n",
    "(b) $[0,10]$\n",
    "(c) $[-1,1]$\n",
    "(d) $[0, 2\\pi]$\n",
    "\n",
    "ii. Replot the graph over the selected domain. Turn on the grid using `grid()`\n",
    "\n",
    "iii. From your graph, which of these $x$ values have $f (x) > 0?$ Indicate all that apply:  \n",
    "(a) 0\n",
    "(b) 0.25\n",
    "(c) 0.50\n",
    "(d) 0.75"
   ]
  },
  {
   "cell_type": "code",
   "execution_count": null,
   "metadata": {},
   "outputs": [],
   "source": [
    "# i. Type your answer in this comment:\n",
    "\n",
    "# ii. Make your graph here.\n",
    "\n",
    "# iii. Type your answer in this comment:"
   ]
  }
 ],
 "metadata": {
  "kernelspec": {
   "display_name": "Python 3",
   "language": "python",
   "name": "python3"
  },
  "language_info": {
   "codemirror_mode": {
    "name": "ipython",
    "version": 3
   },
   "file_extension": ".py",
   "mimetype": "text/x-python",
   "name": "python",
   "nbconvert_exporter": "python",
   "pygments_lexer": "ipython3",
   "version": "3.7.4"
  },
  "title": "Lab 2. Plotting Graphs in Python"
 },
 "nbformat": 4,
 "nbformat_minor": 4
}
