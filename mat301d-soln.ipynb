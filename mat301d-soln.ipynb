{
 "cells": [
  {
   "cell_type": "markdown",
   "metadata": {},
   "source": [
    "<center>\n",
    "<big>Lab D: Finding First Derivatives in Python</big><br>\n",
    "https://mybinder.org/v2/gh/anniebmcc/pycalclab/master?filepath=mat301d.ipynb <br>\n",
    "2020 Summer — Calculus 1<br>\n",
    "Dr Matthew H Sunderland<br>\n",
    "</center>"
   ]
  },
  {
   "cell_type": "markdown",
   "metadata": {},
   "source": [
    "C1. **RUN** the following, which computes\n",
    "$\\frac d{dx}\\big(\\sin x^2\\big)\\,\\bigg|_{\\textstyle\\,x = \\pi/4}$"
   ]
  },
  {
   "cell_type": "code",
   "execution_count": 1,
   "metadata": {},
   "outputs": [
    {
     "name": "stdout",
     "output_type": "stream",
     "text": [
      "Populating the interactive namespace from numpy and matplotlib\n"
     ]
    }
   ],
   "source": [
    "%pylab inline\n",
    "set_printoptions(precision=17, suppress=True)"
   ]
  },
  {
   "cell_type": "code",
   "execution_count": 2,
   "metadata": {},
   "outputs": [
    {
     "data": {
      "text/plain": [
       "array([[ 1.                , -0.6245064595431997],\n",
       "       [ 0.1               ,  1.2759901649717287],\n",
       "       [ 0.01              ,  1.2821814241984473],\n",
       "       [ 0.001             ,  1.2814062702487525],\n",
       "       [ 0.0001            ,  1.2813158500846187],\n",
       "       [ 0.00001           ,  1.281306680034344 ],\n",
       "       [ 0.000001          ,  1.2813057618243913],\n",
       "       [ 0.0000001         ,  1.2813056693428133],\n",
       "       [ 0.00000001        ,  1.2813056726734822],\n",
       "       [ 0.000000001       ,  1.281305617162331 ]])"
      ]
     },
     "execution_count": 2,
     "metadata": {},
     "output_type": "execute_result"
    }
   ],
   "source": [
    "def f(x): return sin(x**2)\n",
    "\n",
    "x = pi/4\n",
    "h = .1 ** r_[:10]\n",
    "c_[h,(f(x+h)-f(x))/h]"
   ]
  }
 ],
 "metadata": {
  "kernelspec": {
   "display_name": "Python 3",
   "language": "python",
   "name": "python3"
  },
  "language_info": {
   "codemirror_mode": {
    "name": "ipython",
    "version": 3
   },
   "file_extension": ".py",
   "mimetype": "text/x-python",
   "name": "python",
   "nbconvert_exporter": "python",
   "pygments_lexer": "ipython3",
   "version": "3.7.4"
  },
  "title": "yournamehere"
 },
 "nbformat": 4,
 "nbformat_minor": 4
}
