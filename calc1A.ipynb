{
 "cells": [
  {
   "cell_type": "markdown",
   "metadata": {},
   "source": [
    "<center>\n",
    "<big>Lab A: Using Python as a Calculator</big><br>\n",
    "2020 Summer — Calculus 1<br>\n",
    "Dr Matthew H Sunderland<br>\n",
    "</center>\n",
    "\n",
    "☞ [Launch our Binder](https://mybinder.org/v2/gh/mattsunderland/pycalclab/master)\n",
    "\n",
    "# Jupyter Notebooks\n",
    "A1. Press **SHIFT+RETURN** to run a cell.\n",
    "Run a cell, and Jupyter displays the **last** output.\n",
    "Press **ESCAPE,r,y** to clear the output.  \n",
    "Try it! Run the following cell. Then clear the output."
   ]
  },
  {
   "cell_type": "code",
   "execution_count": null,
   "metadata": {},
   "outputs": [],
   "source": [
    "1 + 2 + 3\n",
    "50-3\n",
    "100*5"
   ]
  },
  {
   "cell_type": "markdown",
   "metadata": {},
   "source": [
    "A2. Use a **comma** to display multiple outputs.  \n",
    "Try it! Run the following cell."
   ]
  },
  {
   "cell_type": "code",
   "execution_count": null,
   "metadata": {},
   "outputs": [],
   "source": [
    "25*3, 100-1"
   ]
  },
  {
   "cell_type": "markdown",
   "metadata": {},
   "source": [
    "A3. The toolbar's \"+\" button adds a cell.\n",
    "The toolbar's scissors button deletes a cell.  \n",
    "Try it! Add some cells below. Then delete some of them."
   ]
  },
  {
   "cell_type": "markdown",
   "metadata": {},
   "source": [
    "A4. Click \"Code\" or \"**Markdown**\" on the toolbar to change cell mode.\n",
    "To render a markdown cell when you're finished editing it, press SHIFT+RETURN.\n",
    "To resume editing, **double click** the cell.  \n",
    "Try it! ADD a cell, CHANGE to markdown mode, TYPE something, RENDER it."
   ]
  },
  {
   "cell_type": "markdown",
   "metadata": {},
   "source": [
    "**A5 Exercise.** Math written \"in LaTeX\" can be put between dollar signs in markdown cells.  \n",
    "CHANGE the following cell to markdown mode, RENDER it."
   ]
  },
  {
   "cell_type": "code",
   "execution_count": null,
   "metadata": {},
   "outputs": [],
   "source": [
    "####  $\\sqrt{b^2 - 4ac}$"
   ]
  },
  {
   "cell_type": "markdown",
   "metadata": {},
   "source": [
    "# Python arithmetic `+` `-` `*` `/` `**`\n",
    "\n",
    "A6. Run the following."
   ]
  },
  {
   "cell_type": "code",
   "execution_count": null,
   "metadata": {},
   "outputs": [],
   "source": [
    "3 + 10*5,  5**2,  27/10"
   ]
  },
  {
   "cell_type": "markdown",
   "metadata": {},
   "source": [
    "**A7 Exercise.** Based on A6, what does each of the 5 arithmetic operations do?  \n",
    "Type your answer here:  \n",
    "\n",
    "**A8 Exercise.** Do spaces around the 5 operations matter, or is it just style?  \n",
    "Type your answer here:"
   ]
  },
  {
   "cell_type": "markdown",
   "metadata": {},
   "source": [
    "# Python `#` and `=`\n",
    "\n",
    "A9. Python will ignore the rest of a line after it sees `#`  \n",
    "Try it! Run the following, but first try to _predict_ the outputs."
   ]
  },
  {
   "cell_type": "code",
   "execution_count": null,
   "metadata": {},
   "outputs": [],
   "source": [
    "# This is a comment\n",
    "1 + 1 # This is also a comment"
   ]
  },
  {
   "cell_type": "markdown",
   "metadata": {},
   "source": [
    "A10. Assign a value to a variable using the `=` symbol.\n",
    "Variable names must start with a letter.\n",
    "Jupyter does not automatically display anything when you assign a value;\n",
    "you have to **call the variable again** to get it to display its value.  \n",
    "Try it! Run the following, but first try to _predict_ the outputs."
   ]
  },
  {
   "cell_type": "code",
   "execution_count": null,
   "metadata": {},
   "outputs": [],
   "source": [
    "a = 10\n",
    "a"
   ]
  },
  {
   "cell_type": "code",
   "execution_count": null,
   "metadata": {},
   "outputs": [],
   "source": [
    "b = 20"
   ]
  },
  {
   "cell_type": "code",
   "execution_count": null,
   "metadata": {},
   "outputs": [],
   "source": [
    "a = 18\n",
    "b = 21\n",
    "c = a - b\n",
    "c"
   ]
  },
  {
   "cell_type": "markdown",
   "metadata": {},
   "source": [
    "A11. You can assign more than one variable at a time using **a comma.**  \n",
    "Try it! Run the following, but first try to _predict_ the outputs."
   ]
  },
  {
   "cell_type": "code",
   "execution_count": null,
   "metadata": {},
   "outputs": [],
   "source": [
    "x, y = 100, 500\n",
    "x"
   ]
  },
  {
   "cell_type": "markdown",
   "metadata": {},
   "source": [
    "**A12 Exercise.** What would be the output of the commands\n",
    "\n",
    "    a,b,c = 3,4,5\n",
    "    a + b/c"
   ]
  },
  {
   "cell_type": "code",
   "execution_count": null,
   "metadata": {},
   "outputs": [],
   "source": [
    "# Type your answer below and press SHIFT+ENTER\n"
   ]
  },
  {
   "cell_type": "markdown",
   "metadata": {},
   "source": [
    "A13. Assigning variables can help with complicated expressions.\n",
    "For example, we can do $\\frac{(2 - 3)*-3}{-1 + 2}$ all at once or in steps.  \n",
    "Try it! Run the following."
   ]
  },
  {
   "cell_type": "code",
   "execution_count": null,
   "metadata": {},
   "outputs": [],
   "source": [
    "(2 - 3)*-3/(-1 + 2)"
   ]
  },
  {
   "cell_type": "code",
   "execution_count": null,
   "metadata": {},
   "outputs": [],
   "source": [
    "top = (2 - 3)*-3\n",
    "bottom = -1 + 2\n",
    "top/bottom"
   ]
  },
  {
   "cell_type": "markdown",
   "metadata": {},
   "source": [
    "**A14 Exercise.** Assign variables to help you compute $3 - \\frac{3^2 - 2\\cdot3}{2\\cdot3 - 2}$"
   ]
  },
  {
   "cell_type": "code",
   "execution_count": null,
   "metadata": {},
   "outputs": [],
   "source": [
    "# Type your answer below and press SHIFT+ENTER\n"
   ]
  },
  {
   "cell_type": "markdown",
   "metadata": {},
   "source": [
    "# Order of Operations\n",
    "\n",
    "A15. We can use Python to show that $a-b*c$ equals $a-(b*c)$ but doesn't equal $(a-b)*c$.  \n",
    "Try it! Run the following cell."
   ]
  },
  {
   "cell_type": "code",
   "execution_count": null,
   "metadata": {},
   "outputs": [],
   "source": [
    "a - b*c,  a - (b*c),  (a - b)*c"
   ]
  },
  {
   "cell_type": "markdown",
   "metadata": {},
   "source": [
    "**A16 Exercise.** One in each row is different from the rest.\n",
    "\n",
    "    Mark one with an x:     [ ]  a*(b - c)     [ ]  (a*b) - c     [ ]  a*b - c \n",
    "    Mark one with an x:     [ ]  a/b + c       [ ]  a/(b + c)     [ ]  (a/b) + c\n",
    "    Mark one with an x:     [ ]  (a + b)/c     [ ]  a + (b/c)     [ ]  a + b/c"
   ]
  },
  {
   "cell_type": "markdown",
   "metadata": {},
   "source": [
    "**A17 Exercise.** One in each row is different from the rest.\n",
    "\n",
    "    Mark one with an x:     [ ]  a**(b*c)      [ ]  (a**b)*c      [ ]  a**b*c\n",
    "    Mark one with an x:     [ ]  a*(b**c)      [ ]  a*b**c        [ ]  (a*b)**c\n",
    "    Mark one with an x:     [ ]  a/b**c        [ ]  (a/b)**c      [ ]  a/(b**c)\n",
    "    Mark one with an x:     [ ]  a**b/c        [ ]  (a**b)/c      [ ]  a**(b/c)"
   ]
  },
  {
   "cell_type": "markdown",
   "metadata": {},
   "source": [
    "**A18 Exercise.** \n",
    "We can illustrate the 2 operations in `a + b + c` using 2 sets of parentheses\n",
    "\n",
    "    ((a + b) + c)  \n",
    "Illustrate the 4 operations in `7 - 3**2/9 + 4` using 4 sets of parentheses"
   ]
  },
  {
   "cell_type": "code",
   "execution_count": null,
   "metadata": {},
   "outputs": [],
   "source": [
    "# Type your answer below and press SHIFT+ENTER\n"
   ]
  },
  {
   "cell_type": "markdown",
   "metadata": {},
   "source": [
    "**A19 Exercise.** One in each row is different from the rest.\n",
    "\n",
    "    Mark one with an x:     [ ]  (3 − 3) − 3   [ ]  3 − 3 − 3     [ ]  3 − (3 − 3)\n",
    "    Mark one with an x:     [ ]  (2**3)**2     [ ]  2**(3**2)     [ ]  2**3**2\n",
    "    Mark one with an x:     [ ]  6/3/2         [ ]  6/(3/2)       [ ]  (6/3)/2"
   ]
  },
  {
   "cell_type": "markdown",
   "metadata": {},
   "source": [
    "**A20 Exercise.** Assign `a,b,c = 4,5,8` and then evaluate $\\frac{a^b - c/b}{c - a}, \\frac{a^{c - b}}{c - b}, \\frac{a^{3/2}}b, \\frac{a - b(c - a)}{c - a}$"
   ]
  },
  {
   "cell_type": "code",
   "execution_count": null,
   "metadata": {},
   "outputs": [],
   "source": [
    "# Type your answer below and press SHIFT+ENTER\n"
   ]
  },
  {
   "cell_type": "markdown",
   "metadata": {},
   "source": [
    "# Making python functions\n",
    "A21. Run the following."
   ]
  },
  {
   "cell_type": "code",
   "execution_count": null,
   "metadata": {},
   "outputs": [],
   "source": [
    "def f(x):\n",
    "    return x**2\n",
    "\n",
    "f(7)"
   ]
  },
  {
   "cell_type": "markdown",
   "metadata": {},
   "source": [
    "**A22 Exercise.** Make the function $P(x) = x^2 - 2x + 1$ and find $P(P(7))$."
   ]
  },
  {
   "cell_type": "code",
   "execution_count": null,
   "metadata": {},
   "outputs": [],
   "source": [
    "# Type your answer below and press SHIFT+ENTER\n"
   ]
  },
  {
   "cell_type": "markdown",
   "metadata": {},
   "source": [
    "# Numpy builtin functions via `%pylab`\n",
    "\n",
    "| Python      | Math notation | Meaning |\n",
    "| ---         | ---           | ---     |\n",
    "| `abs(x)`    | $\\mid x\\mid$  | absolute value\n",
    "| `sqrt(x)`   | $\\sqrt x$     | square root\n",
    "| `exp(x)`    | $e^x$         | exponential function\n",
    "| `log(x)`    | $\\ln x$       | natural logarithm\n",
    "| `sin(x)`    | $\\sin x$      | sine\n",
    "| `arcsin(x)` | $\\sin^{-1}x$  | inverse sine"
   ]
  },
  {
   "cell_type": "markdown",
   "metadata": {},
   "source": [
    "A23. Anaconda includes standard data science packages for python.\n",
    "**Execute the command `%pylab`** to load the packages `numpy` and `matplotlib`.\n",
    "The package `numpy` comes with many builtin math functions (which work with arrays, see A27),\n",
    "including those listed in the table above.  \n",
    "Try it! Run the following."
   ]
  },
  {
   "cell_type": "code",
   "execution_count": null,
   "metadata": {},
   "outputs": [],
   "source": [
    "%pylab\n",
    "\n",
    "sqrt(49)"
   ]
  },
  {
   "cell_type": "code",
   "execution_count": null,
   "metadata": {},
   "outputs": [],
   "source": [
    "pi, exp(1)"
   ]
  },
  {
   "cell_type": "code",
   "execution_count": null,
   "metadata": {},
   "outputs": [],
   "source": [
    "x = pi/3\n",
    "tan(x),  sin(x)**2 + cos(x)**2"
   ]
  },
  {
   "cell_type": "markdown",
   "metadata": {},
   "source": [
    "A24. Type a question mark `?` after a function to pull up documentation.\n",
    "_Try it! Run the following._"
   ]
  },
  {
   "cell_type": "code",
   "execution_count": null,
   "metadata": {},
   "outputs": [],
   "source": [
    "sqrt?"
   ]
  },
  {
   "cell_type": "markdown",
   "metadata": {},
   "source": [
    "**A25 Exercise.** Evaluate $\\sin 40^\\circ, \\sin^2 65^\\circ, e^{(10 - 8.5)/3}, \\arcsin(\\sin(3\\pi/4))$\n",
    "Note. Python uses radians for all angle measurements,\n",
    "so you need to convert any degrees to radians.  "
   ]
  },
  {
   "cell_type": "code",
   "execution_count": null,
   "metadata": {},
   "outputs": [],
   "source": [
    "# Type your answer below and press SHIFT+ENTER\n"
   ]
  },
  {
   "cell_type": "markdown",
   "metadata": {},
   "source": [
    "# Numpy Arrays with `r_[ ]`\n",
    "\n",
    "A26. Use the function `r_[ ]` to make an array of numbers of your choice. The function `r_[ ]` is part of the numpy package and is automatically loaded when you execute the Jupyter command `%pylab`.\n",
    "An **array** is a list of numbers that you can do arithmetic on and apply functions to.  \n",
    "Note. If you get `NameError: name 'r_' is not defined` go back and run A27."
   ]
  },
  {
   "cell_type": "code",
   "execution_count": null,
   "metadata": {},
   "outputs": [],
   "source": [
    "x = r_[0, pi/6, pi/4]\n",
    "cos(x)"
   ]
  },
  {
   "cell_type": "code",
   "execution_count": null,
   "metadata": {},
   "outputs": [],
   "source": [
    "x = r_[1,2,5,10]\n",
    "x**2"
   ]
  },
  {
   "cell_type": "markdown",
   "metadata": {},
   "source": [
    "**A27 Exercise.** Use `r_[ ]` to store the numbers 2,3,5 in an array named `x`. Find `x+x` and `x*x`."
   ]
  },
  {
   "cell_type": "code",
   "execution_count": null,
   "metadata": {},
   "outputs": [],
   "source": [
    "# Type your answer below and press SHIFT+ENTER\n"
   ]
  },
  {
   "cell_type": "markdown",
   "metadata": {},
   "source": [
    "# Numpy Arrays with `r_[a:b:stride]`\n",
    "\n",
    "A28. Use `r_[a:b]` list integers **from a up to but _not_ including b.**\n",
    "Omit the $a$ and the default is 0.  \n",
    "Try it! Run the following."
   ]
  },
  {
   "cell_type": "code",
   "execution_count": null,
   "metadata": {},
   "outputs": [],
   "source": [
    "r_[-10:10]"
   ]
  },
  {
   "cell_type": "code",
   "execution_count": null,
   "metadata": {},
   "outputs": [],
   "source": [
    "r_[:5]"
   ]
  },
  {
   "cell_type": "markdown",
   "metadata": {},
   "source": [
    "**A29 Exercise.** Use `r_[a:b]` to make the array 1,2,3,4,5,6,7,8,9?"
   ]
  },
  {
   "cell_type": "code",
   "execution_count": null,
   "metadata": {},
   "outputs": [],
   "source": [
    "# Type your answer below and press SHIFT+ENTER\n"
   ]
  },
  {
   "cell_type": "markdown",
   "metadata": {},
   "source": [
    "A30. Use `r_[a:b:stride]` to space out your numbers by the amount `stride`  \n",
    "Try it! Run the following."
   ]
  },
  {
   "cell_type": "code",
   "execution_count": null,
   "metadata": {},
   "outputs": [],
   "source": [
    "r_[0:100:2]"
   ]
  },
  {
   "cell_type": "markdown",
   "metadata": {},
   "source": [
    "**A31 Exercise.** Use `r_[a:b:stride]` to make the arrays $1,3,5,\\dots,99$ and then $10,20,30,\\dots,100$."
   ]
  },
  {
   "cell_type": "code",
   "execution_count": null,
   "metadata": {},
   "outputs": [],
   "source": [
    "# Type your answer below and press SHIFT+ENTER\n"
   ]
  },
  {
   "cell_type": "code",
   "execution_count": null,
   "metadata": {},
   "outputs": [],
   "source": []
  },
  {
   "cell_type": "markdown",
   "metadata": {},
   "source": [
    "# Numpy arrays with `linspace(a,b,n)`\n",
    "\n",
    "A32. Use `linspace(a,b,n)` to make a list of numbers **n numbers from a to b inclusive.**\n",
    "This is useful when we want to generate a lot of evenly-spaced numbers but don't want to have to figure out the stride length. If you omit the $n$ then the default n is 50.  \n",
    "Try it! Run the following."
   ]
  },
  {
   "cell_type": "code",
   "execution_count": null,
   "metadata": {},
   "outputs": [],
   "source": [
    "linspace(0,10,6)"
   ]
  },
  {
   "cell_type": "code",
   "execution_count": null,
   "metadata": {},
   "outputs": [],
   "source": [
    "linspace(0,10)"
   ]
  },
  {
   "cell_type": "markdown",
   "metadata": {},
   "source": [
    "**A33 Exercise.** Use `linspace(a,b,n)` to make the array $1,1.5,2,2.5,3,3.5,4$"
   ]
  },
  {
   "cell_type": "code",
   "execution_count": null,
   "metadata": {},
   "outputs": [],
   "source": [
    "# Type your answer below and press SHIFT+ENTER\n"
   ]
  },
  {
   "cell_type": "markdown",
   "metadata": {},
   "source": [
    "**A34 Exercise.** What is the last value output by the command `linspace(0,pi)`"
   ]
  },
  {
   "cell_type": "code",
   "execution_count": null,
   "metadata": {},
   "outputs": [],
   "source": [
    "# Type your answer below and press SHIFT+ENTER\n"
   ]
  },
  {
   "cell_type": "markdown",
   "metadata": {},
   "source": [
    "# Celsius and Fahrenheit\n",
    "A35. Convert between Celsius and Fahrenheit using $F = 9/5C + 32$ and $C = 5/9(F - 32)$.\n",
    "\n",
    "**A36 Exercise.** Convert room temperature $68^\\circ F$ and average body temperature $98.6^\\circ F$  to Celsius."
   ]
  },
  {
   "cell_type": "code",
   "execution_count": null,
   "metadata": {},
   "outputs": [],
   "source": [
    "# Type your answer below and press SHIFT+ENTER\n"
   ]
  },
  {
   "cell_type": "markdown",
   "metadata": {},
   "source": [
    "A37. Put two arrays `x` and `y` into a 2D array using `r_[[x,y]]`. Transpose a 2D array using `.T`\n",
    "Try it! Run the following."
   ]
  },
  {
   "cell_type": "code",
   "execution_count": null,
   "metadata": {},
   "outputs": [],
   "source": [
    "x = r_[:10]\n",
    "y = x**2\n",
    "r_[[x,y]]"
   ]
  },
  {
   "cell_type": "code",
   "execution_count": null,
   "metadata": {},
   "outputs": [],
   "source": [
    "x = r_[:10]\n",
    "y = x**2\n",
    "r_[[x,y]].T"
   ]
  },
  {
   "cell_type": "markdown",
   "metadata": {},
   "source": [
    "**A38 Exercise.** Use `r_` to make an array of Fahrenheit values `x` = $-100,-80,-60,\\dots,100$ and the corresponding array of Celsius values `y`. Put them together in a 2D array and transpose."
   ]
  },
  {
   "cell_type": "code",
   "execution_count": null,
   "metadata": {},
   "outputs": [],
   "source": [
    "# Type your answer below and press SHIFT+ENTER\n"
   ]
  },
  {
   "cell_type": "markdown",
   "metadata": {},
   "source": [
    "Double-click here to see the answer.\n",
    "<!--\n",
    "x = r_[-100:120:20]\n",
    "y = 5/9*(x - 32)\n",
    "r_[[x,y]].T\n",
    "-->"
   ]
  },
  {
   "cell_type": "markdown",
   "metadata": {},
   "source": [
    "# Download Notebook to Computer and Turn In\n",
    "\n",
    "**A39 Homework.** You must **download your work** to your computer (File > Download as > Notebook .ipynb) and turn it in to your instructor. After you download your notebook file to your computer, to **continue working** on it, go to [our Binder](https://mybinder.org/v2/gh/mattsunderland/pycalclab/master), click Upload, and upload your notebook file."
   ]
  },
  {
   "cell_type": "markdown",
   "metadata": {},
   "source": [
    "# Downloading **Anaconda** (free, open-source)\n",
    "\n",
    "**A40 Homework.** Download Anaconda to your own computer from\n",
    "http://www.anaconda.com/products/individual\n",
    "\n",
    "After installing, go to the program **Anaconda Navigator**, find JupyterLab, click \"Launch.\"\n",
    "To start a new .ipynb notebook, go to File > New > Notebook > Python 3.\n",
    "To open a .ipynb notebook, click the folder icon on the far left and then navigate to the file."
   ]
  }
 ],
 "metadata": {
  "kernelspec": {
   "display_name": "Python 3",
   "language": "python",
   "name": "python3"
  },
  "language_info": {
   "codemirror_mode": {
    "name": "ipython",
    "version": 3
   },
   "file_extension": ".py",
   "mimetype": "text/x-python",
   "name": "python",
   "nbconvert_exporter": "python",
   "pygments_lexer": "ipython3",
   "version": "3.7.4"
  },
  "title": "Lab 1. Using MATLAB as a Calculator"
 },
 "nbformat": 4,
 "nbformat_minor": 4
}
