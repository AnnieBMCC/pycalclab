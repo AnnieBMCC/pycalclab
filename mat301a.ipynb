{
 "cells": [
  {
   "cell_type": "markdown",
   "metadata": {},
   "source": [
    "<center>\n",
    "<big>Lab A: Using Python as a Calculator</big><br>\n",
    "mybinder.org/v2/gh/anniebmcc/pycalclab/master <br>\n",
    "2020 Summer — Calculus 1<br>\n",
    "Dr Matthew H Sunderland<br>\n",
    "</center>\n",
    "\n",
    "\n",
    "### Jupyter Notebooks\n",
    "A1. **RUN** the following \"code cell\" (gray rectangle with **<font style=\"font-family:'Courier New';color:blue\">In[ ]</font>** next to it), by CLICKING the code cell and pressing SHIFT+RETURN. Notice that only the last result will display."
   ]
  },
  {
   "cell_type": "code",
   "execution_count": null,
   "metadata": {},
   "outputs": [],
   "source": [
    "1 + 2 + 3\n",
    "50 - 3\n",
    "100*5"
   ]
  },
  {
   "cell_type": "markdown",
   "metadata": {},
   "source": [
    "A2. **RUN** the following.\n",
    "As always, only the last result displays,\n",
    "but the last result has 2 parts because of the comma."
   ]
  },
  {
   "cell_type": "code",
   "execution_count": null,
   "metadata": {},
   "outputs": [],
   "source": [
    "1 + 2 + 3\n",
    "50 - 3, 1000*1000\n",
    "100*5, 7*7"
   ]
  },
  {
   "cell_type": "markdown",
   "metadata": {},
   "source": [
    "A3. The \"+\" on the toolbar adds a code cell.\n",
    "The \"scissors\" deletes a cell."
   ]
  },
  {
   "cell_type": "markdown",
   "metadata": {},
   "source": [
    "### Python arithmetic `+` `-` `*` `/` `**`\n",
    "\n",
    "A4. **RUN** the following."
   ]
  },
  {
   "cell_type": "code",
   "execution_count": null,
   "metadata": {},
   "outputs": [],
   "source": [
    "3 + 10*5,  5**2,  27/10"
   ]
  },
  {
   "cell_type": "markdown",
   "metadata": {},
   "source": [
    "A5. **EXERCISE.**  \n",
    "a) What does each of the 5 arithmetic operations do?  \n",
    "b) Do spaces around the 5 operations matter, or is it just style?  "
   ]
  },
  {
   "cell_type": "code",
   "execution_count": null,
   "metadata": {},
   "outputs": [],
   "source": [
    "# TYPE YOUR ANSWERS BELOW\n",
    "#\n",
    "#  a) + is   \n",
    "#     - is   \n",
    "#     * is   \n",
    "#     / is   \n",
    "#    ** is   \n",
    "#\n",
    "#  b) "
   ]
  },
  {
   "cell_type": "markdown",
   "metadata": {},
   "source": [
    "### Python `#` and `=`\n",
    "\n",
    "A6. **RUN** the following. You will notice python ignores everything after `#`"
   ]
  },
  {
   "cell_type": "code",
   "execution_count": null,
   "metadata": {},
   "outputs": [],
   "source": [
    "# This is a comment\n",
    "1 + 1 # This is also a comment"
   ]
  },
  {
   "cell_type": "markdown",
   "metadata": {},
   "source": [
    "A7. **RUN** the following.\n",
    "Notice we assign variables using `=`\n",
    "Assignment itself does NOT produce output."
   ]
  },
  {
   "cell_type": "code",
   "execution_count": null,
   "metadata": {},
   "outputs": [],
   "source": [
    "a = 10\n",
    "a"
   ]
  },
  {
   "cell_type": "code",
   "execution_count": null,
   "metadata": {},
   "outputs": [],
   "source": [
    "b = 20"
   ]
  },
  {
   "cell_type": "code",
   "execution_count": null,
   "metadata": {},
   "outputs": [],
   "source": [
    "a = 18\n",
    "b = 21\n",
    "c = a - b\n",
    "c"
   ]
  },
  {
   "cell_type": "markdown",
   "metadata": {},
   "source": [
    "A8. **RUN** the following. Notice you can assign multiple variables at once with a comma."
   ]
  },
  {
   "cell_type": "code",
   "execution_count": null,
   "metadata": {},
   "outputs": [],
   "source": [
    "x, y = 100, 500\n",
    "x"
   ]
  },
  {
   "cell_type": "code",
   "execution_count": null,
   "metadata": {},
   "outputs": [],
   "source": [
    "a,b,c = 3,4,5\n",
    "a + b/c"
   ]
  },
  {
   "cell_type": "markdown",
   "metadata": {},
   "source": [
    "A9. **RUN** the following.\n",
    "See that we can compute $(2 - 3)*-3 \\over -1 + 2$ all at once (1st cell below),\n",
    "or we can assign variables to help us (2nd cell below)."
   ]
  },
  {
   "cell_type": "code",
   "execution_count": null,
   "metadata": {},
   "outputs": [],
   "source": [
    "(2 - 3)*-3/(-1 + 2)"
   ]
  },
  {
   "cell_type": "code",
   "execution_count": null,
   "metadata": {},
   "outputs": [],
   "source": [
    "top = (2 - 3)*-3\n",
    "bottom = -1 + 2\n",
    "top/bottom"
   ]
  },
  {
   "cell_type": "markdown",
   "metadata": {},
   "source": [
    "A10. **EXERCISE.** Assign variables to help you compute $3 - \\frac{3^2 - 2\\cdot3}{2\\cdot3 - 2}$"
   ]
  },
  {
   "cell_type": "code",
   "execution_count": null,
   "metadata": {},
   "outputs": [],
   "source": [
    "# Type your answer below and press SHIFT+ENTER\n"
   ]
  },
  {
   "cell_type": "markdown",
   "metadata": {},
   "source": [
    "### Order of Operations\n",
    "\n",
    "A11. **RUN** the following. Notice $a-b*c = a-(b*c)$, but they do not equal $(a-b)*c$."
   ]
  },
  {
   "cell_type": "code",
   "execution_count": null,
   "metadata": {},
   "outputs": [],
   "source": [
    "a,b,c = 3,4,5\n",
    "\n",
    "a - b*c,  a - (b*c),  (a - b)*c"
   ]
  },
  {
   "cell_type": "markdown",
   "metadata": {},
   "source": [
    "A12. **EXERCISE.** In each row, identify NON-equivalent choice. For example, the answer to (1) is $(a - b)*c$ because $a - b*c = a - (b*c)$\n",
    "\n",
    "$\\begin{aligned}\n",
    "  (1) &&& a - b*c   && a - (b*c) && (a - b)*c \\\\\n",
    "  (2) &&& a*(b - c) && (a*b) - c && a*b - c \\\\\n",
    "  (3) &&& a\\,/\\,b + c   && a\\,/\\,(b + c) && (a\\,/\\,b) + c \\\\\n",
    "  (4) &&& (a + b)\\,/\\,c && a + (b\\,/\\,c) && a + b\\,/\\,c \\\\\n",
    "  (5) &&& a *\\!\\!*\\, (b*c) && (a *\\!\\!*\\, b)*c && a *\\!\\!*\\, b*c\\\\\n",
    "  (6) &&& a*(b *\\!\\!*\\, c) && a*b *\\!\\!*\\, c && (a*b) *\\!\\!*\\, c\\\\\n",
    "  (7) &&& a/b *\\!\\!*\\, c && (a/b) *\\!\\!*\\, c && a/(b *\\!\\!*\\, c)\\\\\n",
    "  (8) &&& a *\\!\\!*\\, b/c && (a *\\!\\!*\\, b)/c && a *\\!\\!*\\, (b/c)\\\\\n",
    "  (9) &&& (3 − 3) − 3 && 3 − 3 − 3 && 3 − (3 − 3)\\\\\n",
    "  (10) &&& (2 *\\!\\!*\\, 3) *\\!\\!*\\, 2 && 2 *\\!\\!*\\, (3 *\\!\\!*\\, 2) && 2 *\\!\\!*\\, 3 *\\!\\!*\\, 2\\\\\n",
    "  (11) &&& 6\\,/\\,3\\,/\\,2 && 6\\,/\\,(3\\,/\\,2) && (6\\,/\\,3)\\,/\\,2\\\\\n",
    "\\end{aligned}$"
   ]
  },
  {
   "cell_type": "code",
   "execution_count": null,
   "metadata": {},
   "outputs": [],
   "source": [
    "# TYPE YOUR ANSWERS BELOW.\n",
    "#\n",
    "#  (1)   (a - b)*c \n",
    "#  (2)   \n",
    "#  (3)   \n",
    "#  (4)   \n",
    "#  (5)   \n",
    "#  (6)   \n",
    "#  (7)   \n",
    "#  (8)   \n",
    "#  (9)   \n",
    "# (10)   \n",
    "# (11)   "
   ]
  },
  {
   "cell_type": "markdown",
   "metadata": {},
   "source": [
    "A13. **RUN** the following example,\n",
    "where we add 2 sets of parentheses which show the order of the 2 operations."
   ]
  },
  {
   "cell_type": "code",
   "execution_count": null,
   "metadata": {},
   "outputs": [],
   "source": [
    "1 + 3/5"
   ]
  },
  {
   "cell_type": "code",
   "execution_count": null,
   "metadata": {},
   "outputs": [],
   "source": [
    "(1 + (3/5))"
   ]
  },
  {
   "cell_type": "markdown",
   "metadata": {},
   "source": [
    "A14. **EXERCISE.**\n",
    "Add 4 sets of parentheses, which show the order of the 4 operations."
   ]
  },
  {
   "cell_type": "code",
   "execution_count": null,
   "metadata": {},
   "outputs": [],
   "source": [
    "7 - 3 ** 2/9 + 4"
   ]
  },
  {
   "cell_type": "code",
   "execution_count": null,
   "metadata": {},
   "outputs": [],
   "source": [
    "# Type your answer below and press SHIFT+ENTER\n"
   ]
  },
  {
   "cell_type": "markdown",
   "metadata": {},
   "source": [
    "A15. **EXERCISE.**\n",
    "Assign `a,b,c = 4,5,8` and then evaluate\n",
    "$\\displaystyle \\frac{a^b - c/b}{c - a}, \\frac{a^{c - b}}{c - b}, \\frac{a^{3/2}}b, \\frac{a - b(c - a)}{c - a}$"
   ]
  },
  {
   "cell_type": "code",
   "execution_count": null,
   "metadata": {},
   "outputs": [],
   "source": [
    "# Type your answer below and press SHIFT+ENTER\n"
   ]
  },
  {
   "cell_type": "markdown",
   "metadata": {},
   "source": [
    "### Making python functions\n",
    "A16. **RUN** the following."
   ]
  },
  {
   "cell_type": "code",
   "execution_count": null,
   "metadata": {},
   "outputs": [],
   "source": [
    "def g(x):\n",
    "    return x**2\n",
    "\n",
    "g(7)"
   ]
  },
  {
   "cell_type": "code",
   "execution_count": null,
   "metadata": {},
   "outputs": [],
   "source": [
    "def h(n): return n + 100\n",
    "\n",
    "h(7)"
   ]
  },
  {
   "cell_type": "markdown",
   "metadata": {},
   "source": [
    "A17. **EXERCISE.** Make the function $P(x) = x^2 - 2x + 1$ and find $P(P(7))$."
   ]
  },
  {
   "cell_type": "code",
   "execution_count": null,
   "metadata": {},
   "outputs": [],
   "source": [
    "# Type your answer below and press SHIFT+ENTER\n"
   ]
  },
  {
   "cell_type": "markdown",
   "metadata": {},
   "source": [
    "### Built-in `%pylab` functions\n",
    "\n",
    "| Python      | Math notation | Meaning |\n",
    "| ---         | ---           | ---     |\n",
    "| `abs(x)`    | $\\mid x\\mid$  | absolute value\n",
    "| `sqrt(x)`   | $\\sqrt x$     | square root\n",
    "| `exp(x)`    | $e^x$         | exponential function\n",
    "| `log(x)`    | $\\ln x$       | natural logarithm\n",
    "| `sin(x)`    | $\\sin x$      | sine\n",
    "| `arcsin(x)` | $\\sin^{-1}x$  | inverse sine\n",
    "| `radians(x)`|               | converts degrees to radians\n",
    "\n",
    "A18. <a id='A17'></a> **RUN** the code cells below.\n",
    "The command `%pylab` only needs to be run once per lab;\n",
    "it loads \"built-in functions\"\n",
    "(from python packages numpy and matplotlib).\n",
    "\n",
    "<!--\n",
    "_(Specifically it loads functions from_  \n",
    "_the numpy math package and the matplotlib graphing package._  \n",
    "_These packages come included when you install Python from_  \n",
    "_http://www.anaconda.com/products/individual )_\n",
    "-->"
   ]
  },
  {
   "cell_type": "code",
   "execution_count": null,
   "metadata": {},
   "outputs": [],
   "source": [
    "%pylab\n",
    "\n",
    "sqrt(49)"
   ]
  },
  {
   "cell_type": "code",
   "execution_count": null,
   "metadata": {},
   "outputs": [],
   "source": [
    "pi, exp(1), sin(pi/2)"
   ]
  },
  {
   "cell_type": "markdown",
   "metadata": {},
   "source": [
    "A19. **EXERCISE.** Evaluate\n",
    "1. $\\sin 40^\\circ$\n",
    "1. $\\sin^2 65^\\circ$\n",
    "1. $e^{(10 - 8.5)/3}$\n",
    "1. $\\arcsin(\\sin(3\\pi/4))$\n",
    "\n",
    "Note. Python uses radians for all angle measurements,\n",
    "so you need to convert any degrees to radians.  "
   ]
  },
  {
   "cell_type": "code",
   "execution_count": null,
   "metadata": {},
   "outputs": [],
   "source": [
    "# Type your answer below and press SHIFT+ENTER\n"
   ]
  },
  {
   "cell_type": "markdown",
   "metadata": {},
   "source": [
    "### Making an array with `r_[ ]`\n",
    "\n",
    "A20. **RUN** the following.\n",
    "(If you get an error, go back and run [A17](#A17).)\n",
    "The function `r_[ ]` can make an array of numbers of your choice.\n",
    "We will need arrays for graphing (Lab B)."
   ]
  },
  {
   "cell_type": "code",
   "execution_count": null,
   "metadata": {},
   "outputs": [],
   "source": [
    "x = r_[2,3,4,5,10]\n",
    "x**3"
   ]
  },
  {
   "cell_type": "markdown",
   "metadata": {},
   "source": [
    "A21. **EXERCISE.** Use `r_[ ]` to store the numbers 2,3,5,7,11 in an array named `x`. Find `x*x`."
   ]
  },
  {
   "cell_type": "code",
   "execution_count": null,
   "metadata": {},
   "outputs": [],
   "source": [
    "# Type your answer below and press SHIFT+ENTER\n"
   ]
  },
  {
   "cell_type": "markdown",
   "metadata": {},
   "source": [
    "### Making an array with `r_[a:b:stride]`\n",
    "\n",
    "A22. **RUN** the following.\n",
    "In general, `r_[a:b]` will list integers from $a$ up to but _not_ including $b$.\n",
    "A missing $a$ is the same as 0."
   ]
  },
  {
   "cell_type": "code",
   "execution_count": null,
   "metadata": {},
   "outputs": [],
   "source": [
    "r_[5:10]"
   ]
  },
  {
   "cell_type": "code",
   "execution_count": null,
   "metadata": {},
   "outputs": [],
   "source": [
    "r_[:5]"
   ]
  },
  {
   "cell_type": "markdown",
   "metadata": {},
   "source": [
    "A23. **EXERCISE.** Use `r_[a:b]` to make the array 1,2,3,4,5,6,7,8,9"
   ]
  },
  {
   "cell_type": "code",
   "execution_count": null,
   "metadata": {},
   "outputs": [],
   "source": [
    "# Type your answer below and press SHIFT+ENTER\n"
   ]
  },
  {
   "cell_type": "markdown",
   "metadata": {},
   "source": [
    "A24. **RUN** the following. In general, `r_[a:b:stride]` spaces out your numbers by the amount `stride`."
   ]
  },
  {
   "cell_type": "code",
   "execution_count": null,
   "metadata": {},
   "outputs": [],
   "source": [
    "r_[0:100:2]"
   ]
  },
  {
   "cell_type": "markdown",
   "metadata": {},
   "source": [
    "A25. **EXERCISE.** Use `r_[a:b:stride]` to make the array $1,3,5,\\dots,99$"
   ]
  },
  {
   "cell_type": "code",
   "execution_count": null,
   "metadata": {},
   "outputs": [],
   "source": [
    "# Type your answer below and press SHIFT+ENTER\n"
   ]
  },
  {
   "cell_type": "markdown",
   "metadata": {},
   "source": [
    "### Making an array with `linspace(a,b,n)`\n",
    "\n",
    "A26. **RUN** the following.\n",
    "Observe that `linspace(a,b,n)` lists n numbers from a to b inclusive.\n",
    "This is useful for generating a lot of evenly-spaced numbers, such as when graphing (Lab B).\n",
    "Observe that `linspace(a,b)` lists 50 numbers from a to b inclusive."
   ]
  },
  {
   "cell_type": "code",
   "execution_count": null,
   "metadata": {},
   "outputs": [],
   "source": [
    "linspace(0,10,6)"
   ]
  },
  {
   "cell_type": "code",
   "execution_count": null,
   "metadata": {},
   "outputs": [],
   "source": [
    "linspace(0,10)"
   ]
  },
  {
   "cell_type": "markdown",
   "metadata": {},
   "source": [
    "A27. **EXERCISE.** Use `linspace(a,b,n)` to make the array $1,1.5,2,2.5,3,3.5,4$"
   ]
  },
  {
   "cell_type": "code",
   "execution_count": null,
   "metadata": {},
   "outputs": [],
   "source": [
    "# Type your answer below and press SHIFT+ENTER\n"
   ]
  },
  {
   "cell_type": "markdown",
   "metadata": {},
   "source": [
    "A28. **EXERCISE.**  \n",
    "Convert average body temperature $98.6^\\circ F$ to Celsius using $C = 5/9(F - 32)$."
   ]
  },
  {
   "cell_type": "code",
   "execution_count": null,
   "metadata": {},
   "outputs": [],
   "source": [
    "# Type your answer below and press SHIFT+ENTER\n"
   ]
  },
  {
   "cell_type": "markdown",
   "metadata": {},
   "source": [
    "A29. **RUN** the following.  \n",
    "Notice that `x` and `y` are arrays,  \n",
    "`c_[x,y]` puts them into a table."
   ]
  },
  {
   "cell_type": "code",
   "execution_count": null,
   "metadata": {},
   "outputs": [],
   "source": [
    "x = r_[:10]\n",
    "y = x**2\n",
    "c_[x,y]"
   ]
  },
  {
   "cell_type": "markdown",
   "metadata": {},
   "source": [
    "A30. **EXERCISE.**  \n",
    "Use `r_` to make an array of Fahrenheit values `x` = $-100,-80,-60,\\dots,100$.  \n",
    "Make the corresponding array of Celsius values `y`  \n",
    "Use `c_` to put `x` and `y` into a table."
   ]
  },
  {
   "cell_type": "code",
   "execution_count": null,
   "metadata": {},
   "outputs": [],
   "source": [
    "# Type your answer below and press SHIFT+ENTER\n"
   ]
  }
 ],
 "metadata": {
  "kernelspec": {
   "display_name": "Python 3",
   "language": "python",
   "name": "python3"
  },
  "language_info": {
   "codemirror_mode": {
    "name": "ipython",
    "version": 3
   },
   "file_extension": ".py",
   "mimetype": "text/x-python",
   "name": "python",
   "nbconvert_exporter": "python",
   "pygments_lexer": "ipython3",
   "version": "3.7.4"
  },
  "title": "Lab 1. Using MATLAB as a Calculator"
 },
 "nbformat": 4,
 "nbformat_minor": 4
}
