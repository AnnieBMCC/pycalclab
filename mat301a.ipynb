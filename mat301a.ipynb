{
 "cells": [
  {
   "cell_type": "markdown",
   "metadata": {},
   "source": [
    "<center>\n",
    "<big>Lab A: Using Python as a Calculator</big><br>\n",
    "2020 Summer — Calculus 1<br>\n",
    "Dr Matthew H Sunderland<br>\n",
    "</center>\n",
    "\n",
    "A1. If you are reading this as a PDF,  \n",
    "open the live notebook remotely on Binder [here](https://mybinder.org/v2/gh/mattsunderland/pycalclab/master)\n",
    "\n",
    "# Jupyter Notebooks\n",
    "A2. Click the gray \"code cell\" below and press **SHIFT+RETURN** to \"run\" it.  \n",
    "Notice only the last result displays.  \n",
    "Click the cell again and press **ESCAPE,r,y** to clear the output."
   ]
  },
  {
   "cell_type": "code",
   "execution_count": null,
   "metadata": {},
   "outputs": [],
   "source": [
    "1 + 2 + 3\n",
    "50 - 3\n",
    "100*5"
   ]
  },
  {
   "cell_type": "markdown",
   "metadata": {},
   "source": [
    "A3. Run the following.  \n",
    "Notice we use a **comma** to display multiple results."
   ]
  },
  {
   "cell_type": "code",
   "execution_count": null,
   "metadata": {},
   "outputs": [],
   "source": [
    "25*3, 100 - 1"
   ]
  },
  {
   "cell_type": "markdown",
   "metadata": {},
   "source": [
    "A4. Click this cell (once) and press \"+\" on the toolbar to **add a cell.**  \n",
    "Click the new cell and press \"✂\" on the toolbar to **delete the cell.**  \n",
    "Then go to Edit > Undo Delete Cells."
   ]
  },
  {
   "cell_type": "code",
   "execution_count": null,
   "metadata": {},
   "outputs": [],
   "source": []
  },
  {
   "cell_type": "markdown",
   "metadata": {},
   "source": [
    "A5. Click the cell below, press \"Code\" on the toolbar, **select \"Markdown.\"**  \n",
    "Press SHIFT+RETURN to \"render\" the markdown cell.  \n",
    "Double click to type more."
   ]
  },
  {
   "cell_type": "code",
   "execution_count": null,
   "metadata": {},
   "outputs": [],
   "source": [
    "The **quadratic** formula is $ax^2 + bx + c$.\n",
    "\n",
    "_Type something here._"
   ]
  },
  {
   "cell_type": "markdown",
   "metadata": {},
   "source": [
    "# Python arithmetic `+` `-` `*` `/` `**`\n",
    "\n",
    "**A6 Exercise.** Run the following cell, then answer the following questions.  \n",
    "a) What does each of the 5 arithmetic operations do?  \n",
    "b) Do spaces around the 5 operations matter, or is it just style?  "
   ]
  },
  {
   "cell_type": "code",
   "execution_count": null,
   "metadata": {},
   "outputs": [],
   "source": [
    "3 + 10*5,  5**2,  27/10"
   ]
  },
  {
   "cell_type": "markdown",
   "metadata": {},
   "source": [
    "a) _Fill in the blank_  \n",
    "\n",
    "`+` is addition.  \n",
    "`-` is           \n",
    "`*` is  \n",
    "`/` is  \n",
    "`**` is  \n",
    "\n",
    "b) _Type your answer here_"
   ]
  },
  {
   "cell_type": "markdown",
   "metadata": {},
   "source": [
    "# Python `#` and `=`\n",
    "\n",
    "A7. Run the following.  \n",
    "Notice python ignores everything after `#`"
   ]
  },
  {
   "cell_type": "code",
   "execution_count": null,
   "metadata": {},
   "outputs": [],
   "source": [
    "# This is a comment\n",
    "1 + 1 # This is also a comment"
   ]
  },
  {
   "cell_type": "markdown",
   "metadata": {},
   "source": [
    "A8. Run the following.  \n",
    "Notice we assign variables using `=`  \n",
    "Assignment does not produce output."
   ]
  },
  {
   "cell_type": "code",
   "execution_count": null,
   "metadata": {},
   "outputs": [],
   "source": [
    "a = 10\n",
    "a"
   ]
  },
  {
   "cell_type": "code",
   "execution_count": null,
   "metadata": {},
   "outputs": [],
   "source": [
    "b = 20"
   ]
  },
  {
   "cell_type": "code",
   "execution_count": null,
   "metadata": {},
   "outputs": [],
   "source": [
    "a = 18\n",
    "b = 21\n",
    "c = a - b\n",
    "c"
   ]
  },
  {
   "cell_type": "markdown",
   "metadata": {},
   "source": [
    "A9. Run the following.  \n",
    "Notice you can assign multiple variables at once with **a comma.**"
   ]
  },
  {
   "cell_type": "code",
   "execution_count": null,
   "metadata": {},
   "outputs": [],
   "source": [
    "x, y = 100, 500\n",
    "x"
   ]
  },
  {
   "cell_type": "markdown",
   "metadata": {},
   "source": [
    "**A10 Exercise.** What would be the output of the commands\n",
    "\n",
    "    a,b,c = 3,4,5\n",
    "    a + b/c"
   ]
  },
  {
   "cell_type": "code",
   "execution_count": null,
   "metadata": {},
   "outputs": [],
   "source": [
    "# Type your answer below and press SHIFT+ENTER\n"
   ]
  },
  {
   "cell_type": "markdown",
   "metadata": {},
   "source": [
    "A11. Run the following.  \n",
    "Notice that the two cells do the same computation.  \n",
    "The first cell we compute all at once;  \n",
    "the second cell we assign variables to help us out."
   ]
  },
  {
   "cell_type": "code",
   "execution_count": null,
   "metadata": {},
   "outputs": [],
   "source": [
    "(2 - 3)*-3/(-1 + 2)"
   ]
  },
  {
   "cell_type": "code",
   "execution_count": null,
   "metadata": {},
   "outputs": [],
   "source": [
    "top = (2 - 3)*-3\n",
    "bottom = -1 + 2\n",
    "top/bottom"
   ]
  },
  {
   "cell_type": "markdown",
   "metadata": {},
   "source": [
    "**A12 Exercise.** Assign variables to help you compute $3 - \\frac{3^2 - 2\\cdot3}{2\\cdot3 - 2}$"
   ]
  },
  {
   "cell_type": "code",
   "execution_count": null,
   "metadata": {},
   "outputs": [],
   "source": [
    "# Type your answer below and press SHIFT+ENTER\n"
   ]
  },
  {
   "cell_type": "markdown",
   "metadata": {},
   "source": [
    "# Order of Operations\n",
    "\n",
    "A13. Run the following.  \n",
    "Notice $a-b*c$ equals $a-(b*c)$,  \n",
    "but $(a-b)*c$ is different."
   ]
  },
  {
   "cell_type": "code",
   "execution_count": null,
   "metadata": {},
   "outputs": [],
   "source": [
    "a,b,c = 3,4,5\n",
    "\n",
    "a - b*c,  a - (b*c),  (a - b)*c"
   ]
  },
  {
   "cell_type": "markdown",
   "metadata": {},
   "source": [
    "**A14 Exercise.** In each row, identify the one that is not equivalent to the other two.\n",
    "\n",
    "    (a) a*(b - c)     (b) (a*b) - c      (c) a*b - c\n",
    "    (a) a/b + c       (b) a/(b + c)      (c) (a/b) + c\n",
    "    (a) (a + b)/c     (b) a + (b/c)      (c) a + b/c"
   ]
  },
  {
   "cell_type": "markdown",
   "metadata": {},
   "source": [
    "_Type your answers here:_"
   ]
  },
  {
   "cell_type": "markdown",
   "metadata": {},
   "source": [
    "**A15 Exercise.**  In each row, identify the one that is not equivalent to the other two.\n",
    "\n",
    "    (a) a**(b*c)      (b)  (a**b)*c      (c)  a**b*c\n",
    "    (a) a*(b**c)      (b)  a*b**c        (c)  (a*b)**c\n",
    "    (a) a/b**c        (b)  (a/b)**c      (c)  a/(b**c)\n",
    "    (a) a**b/c        (b)  (a**b)/c      (c)  a**(b/c)"
   ]
  },
  {
   "cell_type": "markdown",
   "metadata": {},
   "source": [
    "_Type your answers here:_"
   ]
  },
  {
   "cell_type": "markdown",
   "metadata": {},
   "source": [
    "**A16 Exercise.**  In each row, identify the one that is not equivalent to the other two.\n",
    "\n",
    "    (a)  (3 − 3) − 3  (b)  3 − 3 − 3     (b)  3 − (3 − 3)\n",
    "    (a)  (2**3)**2    (b)  2**(3**2)     (b)  2**3**2\n",
    "    (a)  6/3/2        (b)  6/(3/2)       (b)  (6/3)/2"
   ]
  },
  {
   "cell_type": "markdown",
   "metadata": {},
   "source": [
    "_Type your answers here:_"
   ]
  },
  {
   "cell_type": "markdown",
   "metadata": {},
   "source": [
    "**A17 Exercise.** \n",
    "We can illustrate the order of the 2 operations in `a + b + c` using 2 sets of parentheses\n",
    "\n",
    "    ((a + b) + c)  \n",
    "Illustrate the 4 operations in `7 - 3**2/9 + 4` using 4 sets of parentheses"
   ]
  },
  {
   "cell_type": "code",
   "execution_count": null,
   "metadata": {},
   "outputs": [],
   "source": [
    "# Type your answer below and press SHIFT+ENTER\n"
   ]
  },
  {
   "cell_type": "markdown",
   "metadata": {},
   "source": [
    "Double-click here to see the answer.\n",
    "<!--\n",
    "((7 - ((3**2)/9)) + 4)\n",
    "-->"
   ]
  },
  {
   "cell_type": "markdown",
   "metadata": {},
   "source": [
    "**A18 Exercise.** Assign `a,b,c = 4,5,8` and then evaluate $\\frac{a^b - c/b}{c - a}, \\frac{a^{c - b}}{c - b}, \\frac{a^{3/2}}b, \\frac{a - b(c - a)}{c - a}$"
   ]
  },
  {
   "cell_type": "code",
   "execution_count": null,
   "metadata": {},
   "outputs": [],
   "source": [
    "# Type your answer below and press SHIFT+ENTER\n"
   ]
  },
  {
   "cell_type": "markdown",
   "metadata": {},
   "source": [
    "# Making python functions\n",
    "A19. Run the following."
   ]
  },
  {
   "cell_type": "code",
   "execution_count": null,
   "metadata": {},
   "outputs": [],
   "source": [
    "def f(x):\n",
    "    return x**2\n",
    "\n",
    "f(7)"
   ]
  },
  {
   "cell_type": "code",
   "execution_count": null,
   "metadata": {},
   "outputs": [],
   "source": [
    "def g(n): return n + 100\n",
    "\n",
    "g(7)"
   ]
  },
  {
   "cell_type": "markdown",
   "metadata": {},
   "source": [
    "**A20 Exercise.** Make the function $P(x) = x^2 - 2x + 1$ and find $P(P(7))$."
   ]
  },
  {
   "cell_type": "code",
   "execution_count": null,
   "metadata": {},
   "outputs": [],
   "source": [
    "# Type your answer below and press SHIFT+ENTER\n"
   ]
  },
  {
   "cell_type": "markdown",
   "metadata": {},
   "source": [
    "# Numpy builtin functions via `%pylab`\n",
    "\n",
    "| Python      | Math notation | Meaning |\n",
    "| ---         | ---           | ---     |\n",
    "| `abs(x)`    | $\\mid x\\mid$  | absolute value\n",
    "| `sqrt(x)`   | $\\sqrt x$     | square root\n",
    "| `exp(x)`    | $e^x$         | exponential function\n",
    "| `log(x)`    | $\\ln x$       | natural logarithm\n",
    "| `sin(x)`    | $\\sin x$      | sine\n",
    "| `arcsin(x)` | $\\sin^{-1}x$  | inverse sine"
   ]
  },
  {
   "cell_type": "markdown",
   "metadata": {},
   "source": [
    "A21. Run the following. The command `%pylab` loads the numerical calcuation package `numpy` and the graphing package `matplotlib`, which come included when you install python via Anaconda (see A40)."
   ]
  },
  {
   "cell_type": "code",
   "execution_count": null,
   "metadata": {},
   "outputs": [],
   "source": [
    "%pylab\n",
    "\n",
    "sqrt(49)"
   ]
  },
  {
   "cell_type": "code",
   "execution_count": null,
   "metadata": {},
   "outputs": [],
   "source": [
    "pi, exp(1)"
   ]
  },
  {
   "cell_type": "code",
   "execution_count": null,
   "metadata": {},
   "outputs": [],
   "source": [
    "x = pi/3\n",
    "tan(x),  sin(x)**2 + cos(x)**2"
   ]
  },
  {
   "cell_type": "markdown",
   "metadata": {},
   "source": [
    "A22. Run the following.  \n",
    "Notice the question mark `?` pulls up documentation."
   ]
  },
  {
   "cell_type": "code",
   "execution_count": null,
   "metadata": {},
   "outputs": [],
   "source": [
    "sqrt?"
   ]
  },
  {
   "cell_type": "markdown",
   "metadata": {},
   "source": [
    "**A23 Exercise.** Evaluate $\\sin 40^\\circ, \\sin^2 65^\\circ, e^{(10 - 8.5)/3}, \\arcsin(\\sin(3\\pi/4))$\n",
    "Note. Python uses radians for all angle measurements,\n",
    "so you need to convert any degrees to radians.  "
   ]
  },
  {
   "cell_type": "code",
   "execution_count": null,
   "metadata": {},
   "outputs": [],
   "source": [
    "# Type your answer below and press SHIFT+ENTER\n"
   ]
  },
  {
   "cell_type": "markdown",
   "metadata": {},
   "source": [
    "# Numpy Arrays with `r_[ ]`\n",
    "\n",
    "A24. Run the following.  \n",
    "(If you get an error, go back and run A27.)  \n",
    "The numpy function `r_[ ]` can make an array of numbers of your choice.  \n",
    "We will use arrays to graph in Lab B."
   ]
  },
  {
   "cell_type": "code",
   "execution_count": null,
   "metadata": {},
   "outputs": [],
   "source": [
    "x = r_[0, pi/6, pi/4]\n",
    "cos(x)"
   ]
  },
  {
   "cell_type": "code",
   "execution_count": null,
   "metadata": {},
   "outputs": [],
   "source": [
    "x = r_[1,2,5,10]\n",
    "x**2"
   ]
  },
  {
   "cell_type": "markdown",
   "metadata": {},
   "source": [
    "**A25 Exercise.** Use `r_[ ]` to store the numbers 2,3,5 in an array named `x`. Find `x+x` and `x*x`."
   ]
  },
  {
   "cell_type": "code",
   "execution_count": null,
   "metadata": {},
   "outputs": [],
   "source": [
    "# Type your answer below and press SHIFT+ENTER\n"
   ]
  },
  {
   "cell_type": "markdown",
   "metadata": {},
   "source": [
    "# Numpy Arrays with `r_[a:b:stride]`\n",
    "\n",
    "A26. Run the following.  \n",
    "In general, `r_[a:b]` will list integers **from $a$ up to but _not_ including $b$.**  \n",
    "A missing $a$ is the same as 0."
   ]
  },
  {
   "cell_type": "code",
   "execution_count": null,
   "metadata": {},
   "outputs": [],
   "source": [
    "r_[-10:10]"
   ]
  },
  {
   "cell_type": "code",
   "execution_count": null,
   "metadata": {},
   "outputs": [],
   "source": [
    "r_[:5]"
   ]
  },
  {
   "cell_type": "markdown",
   "metadata": {},
   "source": [
    "**A27 Exercise.** Use `r_[a:b]` to make the array 1,2,3,4,5,6,7,8,9?"
   ]
  },
  {
   "cell_type": "code",
   "execution_count": null,
   "metadata": {},
   "outputs": [],
   "source": [
    "# Type your answer below and press SHIFT+ENTER\n"
   ]
  },
  {
   "cell_type": "markdown",
   "metadata": {},
   "source": [
    "A28. Run the following. In general, `r_[a:b:stride]` spaces out your numbers by the amount `stride`."
   ]
  },
  {
   "cell_type": "code",
   "execution_count": null,
   "metadata": {},
   "outputs": [],
   "source": [
    "r_[0:100:2]"
   ]
  },
  {
   "cell_type": "markdown",
   "metadata": {},
   "source": [
    "**A29 Exercise.** Use `r_[a:b:stride]` to make the arrays $1,3,5,\\dots,99$ and then $10,20,30,\\dots,100$."
   ]
  },
  {
   "cell_type": "code",
   "execution_count": null,
   "metadata": {},
   "outputs": [],
   "source": [
    "# Type your answer below and press SHIFT+ENTER\n"
   ]
  },
  {
   "cell_type": "code",
   "execution_count": null,
   "metadata": {},
   "outputs": [],
   "source": []
  },
  {
   "cell_type": "markdown",
   "metadata": {},
   "source": [
    "# Numpy arrays with `linspace(a,b,n)`\n",
    "\n",
    "A30. Run the following.\n",
    "\n",
    "In general, `linspace(a,b,n)` lists **n numbers from a to b inclusive.**  \n",
    "This is useful for generating a lot of evenly-spaced numbers, such as when graphing (Lab B).  \n",
    "A missing $n$ is the same as 50."
   ]
  },
  {
   "cell_type": "code",
   "execution_count": null,
   "metadata": {},
   "outputs": [],
   "source": [
    "linspace(0,10,6)"
   ]
  },
  {
   "cell_type": "code",
   "execution_count": null,
   "metadata": {},
   "outputs": [],
   "source": [
    "linspace(0,10)"
   ]
  },
  {
   "cell_type": "markdown",
   "metadata": {},
   "source": [
    "**A31 Exercise.** Use `linspace(a,b,n)` to make the array $1,1.5,2,2.5,3,3.5,4$"
   ]
  },
  {
   "cell_type": "code",
   "execution_count": null,
   "metadata": {},
   "outputs": [],
   "source": [
    "# Type your answer below and press SHIFT+ENTER\n"
   ]
  },
  {
   "cell_type": "markdown",
   "metadata": {},
   "source": [
    "**A32 Exercise.** What is the last value output by the command `linspace(0,pi)`"
   ]
  },
  {
   "cell_type": "code",
   "execution_count": null,
   "metadata": {},
   "outputs": [],
   "source": [
    "# Type your answer below and press SHIFT+ENTER\n"
   ]
  },
  {
   "cell_type": "markdown",
   "metadata": {},
   "source": [
    "# Celsius and Fahrenheit\n",
    "**A33 Exercise.**\n",
    "To convert between Celsius, Fahrenheit\n",
    "we use $F = 9/5C + 32$ and $C = 5/9(F - 32)$.  \n",
    "Convert room temperature $68^\\circ F$ and average body temperature $98.6^\\circ F$ to Celsius."
   ]
  },
  {
   "cell_type": "code",
   "execution_count": null,
   "metadata": {},
   "outputs": [],
   "source": [
    "# Type your answer below and press SHIFT+ENTER\n"
   ]
  },
  {
   "cell_type": "markdown",
   "metadata": {},
   "source": [
    "A34. Run the following.  \n",
    "Notice that `x` and `y` are arrays,  \n",
    "`r_[[x,y]]` puts them into a table,  \n",
    "and `.T` transposes the table."
   ]
  },
  {
   "cell_type": "code",
   "execution_count": null,
   "metadata": {},
   "outputs": [],
   "source": [
    "x = r_[:10]\n",
    "y = x**2\n",
    "r_[[x,y]]"
   ]
  },
  {
   "cell_type": "code",
   "execution_count": null,
   "metadata": {},
   "outputs": [],
   "source": [
    "x = r_[:10]\n",
    "y = x**2\n",
    "r_[[x,y]].T"
   ]
  },
  {
   "cell_type": "markdown",
   "metadata": {},
   "source": [
    "**A35 Exercise.**  \n",
    "Use `r_` to make an array of Fahrenheit values `x` = $-100,-80,-60,\\dots,100$.  \n",
    "Make the corresponding array of Celsius values `y`  \n",
    "Put them together in a 2D array and transpose."
   ]
  },
  {
   "cell_type": "code",
   "execution_count": null,
   "metadata": {},
   "outputs": [],
   "source": [
    "# Type your answer below and press SHIFT+ENTER\n"
   ]
  },
  {
   "cell_type": "markdown",
   "metadata": {},
   "source": [
    "Double-click here to see the answer.\n",
    "<!--\n",
    "x = r_[-100:120:20]\n",
    "y = 5/9*(x - 32)\n",
    "r_[[x,y]].T\n",
    "-->"
   ]
  },
  {
   "cell_type": "markdown",
   "metadata": {},
   "source": [
    "# Download Notebook to Computer and Turn In\n",
    "\n",
    "**A36 Homework.** You must **download your work** to your computer (File > Download as > Notebook .ipynb) and turn it in to your instructor. After you download your notebook file to your computer, to **continue working** on it, go to [our Binder](https://mybinder.org/v2/gh/mattsunderland/pycalclab/master), click Upload, and upload your notebook file."
   ]
  },
  {
   "cell_type": "markdown",
   "metadata": {},
   "source": [
    "# Downloading **Anaconda** (free, open-source)\n",
    "\n",
    "**A37 Homework.** Download Anaconda to your own computer from\n",
    "http://www.anaconda.com/products/individual\n",
    "\n",
    "After installing, go to the program **Anaconda Navigator**, find JupyterLab, click \"Launch.\"\n",
    "To start a new .ipynb notebook, go to File > New > Notebook > Python 3.\n",
    "To open a .ipynb notebook, click the folder icon on the far left and then navigate to the file."
   ]
  }
 ],
 "metadata": {
  "kernelspec": {
   "display_name": "Python 3",
   "language": "python",
   "name": "python3"
  },
  "language_info": {
   "codemirror_mode": {
    "name": "ipython",
    "version": 3
   },
   "file_extension": ".py",
   "mimetype": "text/x-python",
   "name": "python",
   "nbconvert_exporter": "python",
   "pygments_lexer": "ipython3",
   "version": "3.7.4"
  },
  "title": "Lab 1. Using MATLAB as a Calculator"
 },
 "nbformat": 4,
 "nbformat_minor": 4
}
