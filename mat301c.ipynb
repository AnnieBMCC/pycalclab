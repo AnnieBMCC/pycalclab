{
 "cells": [
  {
   "cell_type": "markdown",
   "metadata": {},
   "source": [
    "<center>\n",
    "<big>Lab C: Finding Limits in Python</big><br>\n",
    "https://mybinder.org/v2/gh/anniebmcc/pycalclab/master?filepath=mat301c.ipynb <br>\n",
    "2020 Summer — Calculus 1<br>\n",
    "Dr Matthew H Sunderland<br>\n",
    "</center>"
   ]
  },
  {
   "cell_type": "markdown",
   "metadata": {},
   "source": [
    "C1. **RUN** the following. The magic word `%pylab` loads a bunch of useful functions (including `pi` and `sin`). The option `inline` tells Jupyter to display any graphs we make on the page instead of in a popup."
   ]
  },
  {
   "cell_type": "code",
   "execution_count": null,
   "metadata": {},
   "outputs": [],
   "source": [
    "%pylab inline"
   ]
  },
  {
   "cell_type": "markdown",
   "metadata": {},
   "source": [
    "<a id='C1'></a>\n",
    "C2. **RUN** the following. Let's say we want to find $\\displaystyle \\lim_{\\textstyle x{\\to}\\pi/2} \\frac{\\sin x}x$. The first thing we try is plugging in."
   ]
  },
  {
   "cell_type": "code",
   "execution_count": null,
   "metadata": {},
   "outputs": [],
   "source": [
    "x = pi/2\n",
    "sin(x)/x"
   ]
  },
  {
   "cell_type": "markdown",
   "metadata": {},
   "source": [
    "C3. **EXERCISE.** What is the value of the limit $\\displaystyle \\lim_{\\textstyle x{\\to}\\pi/2} \\frac{\\sin x}x$?"
   ]
  },
  {
   "cell_type": "code",
   "execution_count": null,
   "metadata": {},
   "outputs": [],
   "source": [
    "# YOUR ANSWER: "
   ]
  },
  {
   "cell_type": "markdown",
   "metadata": {},
   "source": [
    "C4. **RUN** the following. Let's say we want to find $\\displaystyle \\lim_{\\textstyle x{\\to}0} \\frac{\\sin x}x$ instead.   \n",
    "\n",
    "Notice that plugging in doesn't work, because sin(0)/0 is undefined.  \n",
    "(Instead of \"undefined\", Python says \"nan,\" which means \"not a number.\")"
   ]
  },
  {
   "cell_type": "code",
   "execution_count": null,
   "metadata": {},
   "outputs": [],
   "source": [
    "x = 0\n",
    "sin(x)/x"
   ]
  },
  {
   "cell_type": "markdown",
   "metadata": {},
   "source": [
    "## Find the limit with a graph"
   ]
  },
  {
   "cell_type": "markdown",
   "metadata": {},
   "source": [
    "C5. **RUN** the following.\n",
    "When plugging in doesn't work, the first thing we try is <u>graphing</u>."
   ]
  },
  {
   "cell_type": "code",
   "execution_count": null,
   "metadata": {},
   "outputs": [],
   "source": [
    "x = linspace(-10,10)\n",
    "y = sin(x)/x\n",
    "plot(x,y)"
   ]
  },
  {
   "cell_type": "markdown",
   "metadata": {},
   "source": [
    "C6. **EXERCISE.** Based on the graph in C5, what is the value of the limit $\\displaystyle \\lim_{\\textstyle x{\\to}0} \\frac{\\sin x}x$?"
   ]
  },
  {
   "cell_type": "code",
   "execution_count": null,
   "metadata": {},
   "outputs": [],
   "source": [
    "# YOUR ANSWER: "
   ]
  },
  {
   "cell_type": "markdown",
   "metadata": {},
   "source": [
    "## Find the limit with a table"
   ]
  },
  {
   "cell_type": "markdown",
   "metadata": {},
   "source": [
    "C7. **RUN** the following.\n",
    "The second thing we try is <u>making a table</u>."
   ]
  },
  {
   "cell_type": "code",
   "execution_count": null,
   "metadata": {},
   "outputs": [],
   "source": [
    "x = r_[1, .1, .01, .001] # Make array of numbers approaching 0 from right\n",
    "y = sin(x)/x             # Plug the array into our function\n",
    "c_[x,y]                  # Make a table"
   ]
  },
  {
   "cell_type": "code",
   "execution_count": null,
   "metadata": {},
   "outputs": [],
   "source": [
    "x = r_[-1, -.1, -.01, -.001] # Same but approaching from left\n",
    "y = sin(x)/x\n",
    "c_[x,y]"
   ]
  },
  {
   "cell_type": "markdown",
   "metadata": {},
   "source": [
    "C8. **EXERCISE.** Based on the table in C7,\n",
    "what is the value of the limit $\\displaystyle \\lim_{\\textstyle x{\\to}0} \\frac{\\sin x}x$?"
   ]
  },
  {
   "cell_type": "code",
   "execution_count": null,
   "metadata": {},
   "outputs": [],
   "source": [
    "# YOUR ANSWER: "
   ]
  },
  {
   "cell_type": "markdown",
   "metadata": {},
   "source": [
    "## Simplify the code"
   ]
  },
  {
   "cell_type": "markdown",
   "metadata": {},
   "source": [
    "C9. **RUN** the following. You should get the same table as in C7 but we used less code."
   ]
  },
  {
   "cell_type": "code",
   "execution_count": null,
   "metadata": {},
   "outputs": [],
   "source": [
    "x = .1 ** r_[:4]\n",
    "y = sin(x)/x\n",
    "c_[x,y]"
   ]
  },
  {
   "cell_type": "markdown",
   "metadata": {},
   "source": [
    "Why does this work?\n",
    "Because `.1 ** r_[:4]` means \"$0.1$ raised to the $0,1,2,3$,\" which is going to be $1,0.1,0.01,0.001$."
   ]
  },
  {
   "cell_type": "markdown",
   "metadata": {},
   "source": [
    "## Increase precision"
   ]
  },
  {
   "cell_type": "markdown",
   "metadata": {},
   "source": [
    "C10. **RUN** the following.\n",
    "We can increase the number of decimal places displayed in arrays using `set_printoptions`.\n",
    "The default precision is 8 decimal places."
   ]
  },
  {
   "cell_type": "code",
   "execution_count": null,
   "metadata": {},
   "outputs": [],
   "source": [
    "set_printoptions(precision=17)"
   ]
  },
  {
   "cell_type": "code",
   "execution_count": null,
   "metadata": {},
   "outputs": [],
   "source": [
    "x = .1 ** r_[:4]\n",
    "y = sin(x)/x\n",
    "c_[x,y]"
   ]
  },
  {
   "cell_type": "markdown",
   "metadata": {},
   "source": [
    "## Turn off scientific notation"
   ]
  },
  {
   "cell_type": "markdown",
   "metadata": {},
   "source": [
    "C11. **RUN** the following.\n",
    "Arrays with very small numbers (less than 0.001)\n",
    "will automatically change to scientific notation."
   ]
  },
  {
   "cell_type": "code",
   "execution_count": null,
   "metadata": {},
   "outputs": [],
   "source": [
    "x = .1 ** r_[:5]\n",
    "y = sin(x)/x\n",
    "c_[x,y]"
   ]
  },
  {
   "cell_type": "markdown",
   "metadata": {},
   "source": [
    "C12. **RUN** the following.\n",
    "We can turn off scientific notation for arrays using `set_printoptions`"
   ]
  },
  {
   "cell_type": "code",
   "execution_count": null,
   "metadata": {},
   "outputs": [],
   "source": [
    "set_printoptions(suppress=True)"
   ]
  },
  {
   "cell_type": "code",
   "execution_count": null,
   "metadata": {},
   "outputs": [],
   "source": [
    "x = .1 ** r_[:5]\n",
    "y = sin(x)/x\n",
    "c_[x,y]"
   ]
  },
  {
   "cell_type": "markdown",
   "metadata": {},
   "source": [
    "C13. **EXERCISE.**  \n",
    "(1) Use the graphical approach to find the following right limit of $f(x) = x^x$, $x>0$,\n",
    "\n",
    "$\\qquad \\displaystyle \\lim_{x\\to0^+} x^{\\textstyle x}$.\n",
    "\n",
    "(2) Use the numerical approach (make a table) for the same limit.\n",
    "\n",
    "(3) What is the value of the limit? (Enter no limit as DNE)"
   ]
  },
  {
   "cell_type": "code",
   "execution_count": null,
   "metadata": {},
   "outputs": [],
   "source": [
    "# (1) Type your code below and press SHIFT+ENTER\n",
    "\n",
    "# (2) Type your code below and press SHIFT+ENTER\n",
    "\n",
    "# (3) YOUR ANSWER: "
   ]
  },
  {
   "cell_type": "markdown",
   "metadata": {},
   "source": [
    "## Store a function\n",
    "\n",
    "C14. **RUN** the following.\n",
    "We make a graph and make tables to find\n",
    "\n",
    "$\\qquad \\displaystyle \\lim_{x\\to0} \\frac{1-\\cos x}{x^{\\textstyle2}}$\n",
    "\n",
    "Here we use `def` to store the function so we don't have to type the function over and over."
   ]
  },
  {
   "cell_type": "code",
   "execution_count": null,
   "metadata": {},
   "outputs": [],
   "source": [
    "def f(x):\n",
    "    return (1 - cos(x))/x**2"
   ]
  },
  {
   "cell_type": "code",
   "execution_count": null,
   "metadata": {},
   "outputs": [],
   "source": [
    "x = linspace(-1,1)\n",
    "y = f(x)\n",
    "plot(x,y)"
   ]
  },
  {
   "cell_type": "code",
   "execution_count": null,
   "metadata": {},
   "outputs": [],
   "source": [
    "x = 0.1 ** r_[:8]\n",
    "y = f(x)\n",
    "c_[x,y]"
   ]
  },
  {
   "cell_type": "code",
   "execution_count": null,
   "metadata": {},
   "outputs": [],
   "source": [
    "x = 0.1 ** r_[:8]\n",
    "y = f(x)\n",
    "c_[x,y]"
   ]
  },
  {
   "cell_type": "markdown",
   "metadata": {},
   "source": [
    "The graph and the tables tell us that $\\displaystyle \\lim_{x\\to0} \\frac{1-\\cos x}{x^{\\textstyle2}} = 0.5$"
   ]
  },
  {
   "cell_type": "markdown",
   "metadata": {},
   "source": [
    "C15. **RUN** the following.\n",
    "We make a graph and make tables to find\n",
    "\n",
    "$\\qquad \\displaystyle \\lim_{\\textstyle x{\\to}\\pi/2} \\left(\\frac\\pi2 - x\\right) \\tan x$"
   ]
  },
  {
   "cell_type": "code",
   "execution_count": null,
   "metadata": {},
   "outputs": [],
   "source": [
    "def f(x):\n",
    "    return (pi/2 - x)*tan(x)"
   ]
  },
  {
   "cell_type": "code",
   "execution_count": null,
   "metadata": {},
   "outputs": [],
   "source": [
    "x = linspace(0,pi)\n",
    "y = f(x)\n",
    "plot(x,y)"
   ]
  },
  {
   "cell_type": "code",
   "execution_count": null,
   "metadata": {},
   "outputs": [],
   "source": [
    "x = pi/2 + 0.1 ** r_[:8]\n",
    "y = f(x)\n",
    "c_[x,y]"
   ]
  },
  {
   "cell_type": "code",
   "execution_count": null,
   "metadata": {},
   "outputs": [],
   "source": [
    "x = pi/2 - 0.1 ** r_[:8]\n",
    "y = f(x)\n",
    "c_[x,y]"
   ]
  },
  {
   "cell_type": "markdown",
   "metadata": {},
   "source": [
    "The graph and the tables tell us that $\\displaystyle \\lim_{\\textstyle x{\\to}\\pi/2} \\left(\\frac\\pi2 - x\\right) \\tan x = 1$"
   ]
  },
  {
   "cell_type": "markdown",
   "metadata": {},
   "source": [
    "C16. **EXERCISE.**  \n",
    "Let $f(x) = x \\ln x$ for $x>0$.\n",
    "We will investigate the right-hand limit $\\lim_{x\\to0^+} f(x)$ as follows.  \n",
    "(1) Plot a graph of $f(x)$ over the interval $(0,1)$.  \n",
    "(2) Use the numeric approach to find the limit.  \n",
    "(3) What is the value of the limit?"
   ]
  },
  {
   "cell_type": "code",
   "execution_count": null,
   "metadata": {},
   "outputs": [],
   "source": [
    "# (1) Type your code below and press SHIFT+ENTER\n",
    "\n",
    "# (2) Type your code below and press SHIFT+ENTER\n",
    "\n",
    "# (3) YOUR ANSWER: "
   ]
  },
  {
   "cell_type": "markdown",
   "metadata": {},
   "source": [
    "C17. **EXERCISE.**  \n",
    "(1) Define the python function $f(x) = x^{\\textstyle-1}e^{\\textstyle-1/x}$  \n",
    "(2) Plot the function $f(x)$ over the interval $(0,1]$.  \n",
    "(3) Use the numeric approach to find the limit.  \n",
    "(4) Estimate the right limit as $x$ goes to 0.  "
   ]
  },
  {
   "cell_type": "code",
   "execution_count": null,
   "metadata": {},
   "outputs": [],
   "source": [
    "# (1) Type your code below and press SHIFT+ENTER\n",
    "\n",
    "# (2) Type your code below and press SHIFT+ENTER\n",
    "\n",
    "# (3) Type your code below and press SHIFT+ENTER\n",
    "\n",
    "# (4) YOUR ANSWER: "
   ]
  },
  {
   "cell_type": "markdown",
   "metadata": {},
   "source": [
    "C18. **EXERCISE.**  \n",
    "We wish to find the limit of the oscillating function\n",
    "\n",
    "$\\qquad f(x) = x \\sin \\frac1x$\n",
    "\n",
    "as $x$ approaches 0.\n",
    "\n",
    "(1) Plot the function $f$ over the interval $[-pi,pi]$ using 10000 points for $x$.  \n",
    "(2) \"Zoom in\" by replotting the function over $[-0.1,0.1]$.  \n",
    "(3) Motivated by the squeeze theorem, plot on the same axes the function $f$ over $[-0.1,0.1]$ as well as $y=|x|$ and $y = -|x|$.  \n",
    "(4) Estimate the limit as $x\\to0$.  \n",
    "(5) How did graphing the absolute value help you find the limit in (3)? (Choose one)  \n",
    "_The mean-value theorem_\n",
    "$\\quad$ _The function is continuous_\n",
    "$\\quad$ _The squeeze theorem_\n",
    "$\\quad$ _They didnt; I just guessed_"
   ]
  },
  {
   "cell_type": "code",
   "execution_count": null,
   "metadata": {},
   "outputs": [],
   "source": [
    "# (1) Type your code below and press SHIFT+ENTER\n"
   ]
  },
  {
   "cell_type": "code",
   "execution_count": null,
   "metadata": {},
   "outputs": [],
   "source": [
    "# (2) Type your code below and press SHIFT+ENTER\n"
   ]
  },
  {
   "cell_type": "code",
   "execution_count": null,
   "metadata": {},
   "outputs": [],
   "source": [
    "# (3) Type your code below and press SHIFT+ENTER\n",
    "\n",
    "# (4) YOUR ANSWER: the limit is 0\n",
    "# (5) YOUR ANSWER: The squeeze theorem"
   ]
  }
 ],
 "metadata": {
  "kernelspec": {
   "display_name": "Python 3",
   "language": "python",
   "name": "python3"
  },
  "language_info": {
   "codemirror_mode": {
    "name": "ipython",
    "version": 3
   },
   "file_extension": ".py",
   "mimetype": "text/x-python",
   "name": "python",
   "nbconvert_exporter": "python",
   "pygments_lexer": "ipython3",
   "version": "3.7.4"
  },
  "title": "yournamehere"
 },
 "nbformat": 4,
 "nbformat_minor": 4
}
