{
 "cells": [
  {
   "cell_type": "markdown",
   "metadata": {},
   "source": [
    "<center>\n",
    "<big>Lab C: Finding Limits in Python</big><br>\n",
    "https://mybinder.org/v2/gh/anniebmcc/pycalclab/master?filepath=mat301c.ipynb <br>\n",
    "2020 Summer — Calculus 1<br>\n",
    "Dr Matthew H Sunderland<br>\n",
    "</center>\n",
    "\n",
    "<br>\n",
    "\n",
    "C1. **RUN** the following. When we are asked to compute a limit, the first thing we try is plugging in. Sometimes this works, such as for $\\lim_{x{\\to}\\pi/2} \\sin(x)/x$:"
   ]
  },
  {
   "cell_type": "code",
   "execution_count": null,
   "metadata": {},
   "outputs": [],
   "source": [
    "%pylab inline"
   ]
  },
  {
   "cell_type": "code",
   "execution_count": null,
   "metadata": {},
   "outputs": [],
   "source": [
    "x = pi/2\n",
    "sin(x)/x"
   ]
  },
  {
   "cell_type": "markdown",
   "metadata": {},
   "source": [
    "C2. **RUN** the following. However sometimes plugging in doesn't work, such as for\n",
    "$\\lim_{x\\to0} \\sin(x)/x$:"
   ]
  },
  {
   "cell_type": "code",
   "execution_count": null,
   "metadata": {},
   "outputs": [],
   "source": [
    "x = 0\n",
    "sin(x)/x"
   ]
  },
  {
   "cell_type": "markdown",
   "metadata": {},
   "source": [
    "C3. **RUN** the following.\n",
    "When plugging in doesn't work, there are two things we can do in Python.\n",
    "First we can look at the graph.\n",
    "The graph tells us that\n",
    "$\\lim_{x\\to0} \\sin(x)/x = 1$."
   ]
  },
  {
   "cell_type": "code",
   "execution_count": null,
   "metadata": {},
   "outputs": [],
   "source": [
    "x = linspace(-10,10)\n",
    "y = sin(x)/x\n",
    "plot(x,y)"
   ]
  },
  {
   "cell_type": "markdown",
   "metadata": {},
   "source": [
    "C4. **RUN** the following. The second thing we can do is make a table of $x$ and $f(x)$ where we plug in numbers closer and closer to the given $x=a$.\n",
    "The table tells us that $\\lim_{x\\to0} \\sin(x)/x = 1$."
   ]
  },
  {
   "cell_type": "code",
   "execution_count": null,
   "metadata": {},
   "outputs": [],
   "source": [
    "x = r_[1, .1, .01, .001]\n",
    "y = sin(x)/x\n",
    "c_[x,y]"
   ]
  },
  {
   "cell_type": "code",
   "execution_count": null,
   "metadata": {},
   "outputs": [],
   "source": [
    "x = r_[-1, -.1, -.01, -.001]\n",
    "y = sin(x)/x\n",
    "c_[x,y]"
   ]
  },
  {
   "cell_type": "markdown",
   "metadata": {},
   "source": [
    "C5. **RUN** the following. Sometimes python will give us scientific notation.\n",
    "We use the command `set_printoptions` to turn off scientific notation and get more digits of precision."
   ]
  },
  {
   "cell_type": "code",
   "execution_count": null,
   "metadata": {},
   "outputs": [],
   "source": [
    "x = r_[1, .1, .01, .001, .0001, .00001]\n",
    "y = sin(x)/x\n",
    "c_[x,y]"
   ]
  },
  {
   "cell_type": "code",
   "execution_count": null,
   "metadata": {},
   "outputs": [],
   "source": [
    "set_printoptions(precision=17, suppress=True)\n",
    "\n",
    "x = r_[1, .1, .01, .001, .0001, .00001]\n",
    "y = sin(x)/x\n",
    "c_[x,y]"
   ]
  },
  {
   "cell_type": "markdown",
   "metadata": {},
   "source": [
    "C6. **RUN** the following.\n",
    "See that we get the same output in C6 and C5, but the code is cleaner in C6 because we make $x$ in a more clever way."
   ]
  },
  {
   "cell_type": "code",
   "execution_count": null,
   "metadata": {},
   "outputs": [],
   "source": [
    "x = .1 ** r_[:6]\n",
    "y = sin(x)/x\n",
    "c_[x,y]"
   ]
  },
  {
   "cell_type": "markdown",
   "metadata": {},
   "source": [
    "C7. **EXERCISE.**  \n",
    "(1) Use the graphical approach to find the following right limit of $f(x) = x^x$, $x>0$,\n",
    "\n",
    "$\\qquad \\displaystyle \\lim_{x\\to0^+} x^{\\textstyle x}$.\n",
    "\n",
    "(2) What is the value of the limit? (Enter no limit as DNE)"
   ]
  },
  {
   "cell_type": "code",
   "execution_count": null,
   "metadata": {},
   "outputs": [],
   "source": [
    "# (1) Type your code below and press SHIFT+ENTER\n",
    "\n",
    "# (2) YOUR ANSWER:"
   ]
  },
  {
   "cell_type": "markdown",
   "metadata": {},
   "source": [
    "C8. **EXERCISE.**  \n",
    "(1) Use the numeric (table) approach to find the following (two sided) limit\n",
    "\n",
    "$\\qquad \\displaystyle \\lim_{x\\to0} \\frac{1-\\cos x}{x^{\\textstyle2}}$.  \n",
    "\n",
    "You will need a table for the right-hand limit and a table for the left-hand limit.\n",
    "\n",
    "(2) What is the value of the limit?  \n",
    "(3) How does the numerical instability of the problem show up in the output?"
   ]
  },
  {
   "cell_type": "code",
   "execution_count": null,
   "metadata": {},
   "outputs": [],
   "source": [
    "# (1) Type your code below and press SHIFT+ENTER\n"
   ]
  },
  {
   "cell_type": "code",
   "execution_count": null,
   "metadata": {},
   "outputs": [],
   "source": []
  },
  {
   "cell_type": "code",
   "execution_count": null,
   "metadata": {},
   "outputs": [],
   "source": [
    "# (2) YOUR ANSWER: \n",
    "\n",
    "# (3) YOUR ANSWER: \n",
    "#                  \n",
    "#                  "
   ]
  },
  {
   "cell_type": "markdown",
   "metadata": {},
   "source": [
    "C9. **EXERCISE.**  \n",
    "(1) Use the numeric approach to find the following limit\n",
    "\n",
    "$\\qquad \\displaystyle \\lim_{\\textstyle x{\\to}\\pi/2} \\left(\\frac\\pi2 - x\\right) \\tan x$.\n",
    "\n",
    "(2) What is the value of the limit?"
   ]
  },
  {
   "cell_type": "code",
   "execution_count": null,
   "metadata": {},
   "outputs": [],
   "source": [
    "# (1) Type your code below and press SHIFT+ENTER\n"
   ]
  },
  {
   "cell_type": "code",
   "execution_count": null,
   "metadata": {},
   "outputs": [],
   "source": []
  },
  {
   "cell_type": "code",
   "execution_count": null,
   "metadata": {},
   "outputs": [],
   "source": [
    "# (2) YOUR ANSWER: "
   ]
  },
  {
   "cell_type": "markdown",
   "metadata": {},
   "source": [
    "C10. **EXERCISE.**  \n",
    "Let $f(x) = x \\ln x$ for $x>0$.\n",
    "We will investigate the right-hand limit $\\lim_{x\\to0^+} f(x)$ as follows.  \n",
    "(1) Use the numeric approach to find the limit.  \n",
    "(2) What is the value of the limit?  \n",
    "(3) Plot a graph of $f(x)$ over the interval $(0,1)$.  \n",
    "(4) Does the graph in (3) confirm your answer in (2)?"
   ]
  },
  {
   "cell_type": "code",
   "execution_count": null,
   "metadata": {},
   "outputs": [],
   "source": [
    "# (1) Type your code below and press SHIFT+ENTER\n"
   ]
  },
  {
   "cell_type": "code",
   "execution_count": null,
   "metadata": {},
   "outputs": [],
   "source": [
    "# (2) YOUR ANSWER: "
   ]
  },
  {
   "cell_type": "code",
   "execution_count": null,
   "metadata": {},
   "outputs": [],
   "source": [
    "# (3) Type your code below and press SHIFT+ENTER\n",
    "\n",
    "# (4) YOUR ANSWER: "
   ]
  },
  {
   "cell_type": "markdown",
   "metadata": {},
   "source": [
    "C11. **EXERCISE.**  \n",
    "We wish to find the limit of the oscillating function\n",
    "\n",
    "$\\qquad f(x) = x \\sin \\frac1x$\n",
    "\n",
    "as $x$ approaches 0.\n",
    "\n",
    "(1) Plot the function $f$ over the interval $[-pi,pi]$ using 10000 points for $x$.  \n",
    "(2) \"Zoom in\" by replotting the function over $[-0.1,0.1]$.  \n",
    "(3) Motivated by the squeeze theorem, plot on the same axes the function $f$ over $[-0.1,0.1]$ as well as $y=|x|$ and $y = -|x|$.  \n",
    "(4) Estimate the limit as $x\\to0$.  \n",
    "(5) How did graphing the absolute value help you find the limit in (3)? (Choose one)  \n",
    "_The mean-value theorem_\n",
    "$\\quad$ _The function is continuous_\n",
    "$\\quad$ _The squeeze theorem_\n",
    "$\\quad$ _They didnt; I just guessed_"
   ]
  },
  {
   "cell_type": "code",
   "execution_count": null,
   "metadata": {},
   "outputs": [],
   "source": [
    "# (1) Type your code below and press SHIFT+ENTER\n"
   ]
  },
  {
   "cell_type": "code",
   "execution_count": null,
   "metadata": {},
   "outputs": [],
   "source": [
    "# (2) Type your code below and press SHIFT+ENTER\n"
   ]
  },
  {
   "cell_type": "code",
   "execution_count": null,
   "metadata": {},
   "outputs": [],
   "source": [
    "# (3) Type your code below and press SHIFT+ENTER\n",
    "\n",
    "# (4) YOUR ANSWER: \n",
    "# (5) YOUR ANSWER: "
   ]
  },
  {
   "cell_type": "markdown",
   "metadata": {},
   "source": [
    "### Functions\n",
    "C12. **RUN** the following.\n",
    "We learned how to make python functions in A16.\n",
    "Here we define\n",
    "\n",
    "$\\qquad f(x) = \\frac{\\sin x}x$\n",
    "\n",
    "$\\qquad g(x) = 7x^2 \\sin \\frac1{7x^2}$\n",
    "\n",
    "and then use our functions to find $f(1)$ and $g(1)$."
   ]
  },
  {
   "cell_type": "code",
   "execution_count": null,
   "metadata": {},
   "outputs": [],
   "source": [
    "def f(x):\n",
    "    return sin(x)/x\n",
    "\n",
    "def g(x):\n",
    "    a = 7*x**2\n",
    "    return a * sin(1/a)\n",
    "\n",
    "f(1), g(1)"
   ]
  },
  {
   "cell_type": "markdown",
   "metadata": {},
   "source": [
    "C13. **EXERCISE.**  \n",
    "\n",
    "(1) Define the python function $f(x) = x^{\\textstyle-1}e^{\\textstyle-1/x}$  \n",
    "(2) Plot the function $f(x)$ over the interval $(0,1]$ using your python function `f`  \n",
    "(3) Use your graph in (2) to estimate the right limit as $x$ goes to 0.  "
   ]
  },
  {
   "cell_type": "code",
   "execution_count": null,
   "metadata": {},
   "outputs": [],
   "source": [
    "# (1) Type your code below and press SHIFT+ENTER\n",
    "\n",
    "# (2) Type your code below and press SHIFT+ENTER\n",
    "\n",
    "# (3) YOUR ANSWER: "
   ]
  },
  {
   "cell_type": "markdown",
   "metadata": {},
   "source": [
    "C14. **EXERCISE.**  \n",
    "\n",
    "(1) Create python functions with the following definitions.\n",
    "\n",
    "$\\displaystyle \\qquad f(x) = \\frac{x - 1}{\\arccos x}$  \n",
    "\n",
    "$\\qquad g(x) = x^{\\textstyle x}$  \n",
    "\n",
    "(2) Make a table to find the limit\n",
    "\n",
    "$\\qquad \\displaystyle \\lim_{\\textstyle x{\\to}1^-} g(f(x))$\n",
    "\n",
    "(3) What is the value of the limit in (2)?  \n",
    "(4) Does the limit in (1) satisfy the following limit law? If so, what are $c, L, M$?\n",
    "\n",
    "$\\qquad$ If $\\lim_{x\\to c}f(x) = L$  \n",
    "$\\qquad$ and $\\lim_{x\\to L}g(x) = M$  \n",
    "$\\qquad$ then $\\lim_{x\\to c}g(f(x)) = M$  "
   ]
  },
  {
   "cell_type": "code",
   "execution_count": null,
   "metadata": {},
   "outputs": [],
   "source": [
    "# (1) Type your code below and press SHIFT+ENTER\n",
    "\n",
    "# (2) Type your code below and press SHIFT+ENTER\n",
    "\n",
    "# (3) YOUR ANSWER: \n",
    "# (4) YOUR ANSWER: "
   ]
  },
  {
   "cell_type": "markdown",
   "metadata": {},
   "source": [
    "C15. **EXERCISE.**  \n",
    "(1) Define $f(x) = x^{\\textstyle x}$.  \n",
    "(2) Make a table to find\n",
    "\n",
    "$\\qquad \\displaystyle f'(x) := \\lim_{h\\to0}\\frac{f(x+h)-f(x)}h$\n",
    "\n",
    "for $x=1$.\n",
    "\n",
    "(3) What value for $f'(1)$ do you get?  \n",
    "(4) Make the same table as in (2) but with $x=0$.  \n",
    "(5) What value for $f'(0)$ do you get?  \n",
    "(6) Are you surprised that 43) worked?\n",
    "What part of (4) do we expect to fail,\n",
    "and what did python do instead?"
   ]
  },
  {
   "cell_type": "code",
   "execution_count": null,
   "metadata": {},
   "outputs": [],
   "source": [
    "# (1) Type your code below and press SHIFT+ENTER\n",
    "\n",
    "# (2) Type your code below and press SHIFT+ENTER\n",
    "\n",
    "# (3) YOUR ANSWER: "
   ]
  },
  {
   "cell_type": "code",
   "execution_count": null,
   "metadata": {},
   "outputs": [],
   "source": [
    "# (4) Type your code below and press SHIFT+ENTER\n",
    "\n",
    "# (5) YOUR ANSWER: "
   ]
  },
  {
   "cell_type": "code",
   "execution_count": null,
   "metadata": {},
   "outputs": [],
   "source": [
    "# (6) YOUR ANSWER: \n",
    "#                  \n",
    "#                  "
   ]
  }
 ],
 "metadata": {
  "kernelspec": {
   "display_name": "Python 3",
   "language": "python",
   "name": "python3"
  },
  "language_info": {
   "codemirror_mode": {
    "name": "ipython",
    "version": 3
   },
   "file_extension": ".py",
   "mimetype": "text/x-python",
   "name": "python",
   "nbconvert_exporter": "python",
   "pygments_lexer": "ipython3",
   "version": "3.7.4"
  },
  "title": "yournamehere"
 },
 "nbformat": 4,
 "nbformat_minor": 4
}
