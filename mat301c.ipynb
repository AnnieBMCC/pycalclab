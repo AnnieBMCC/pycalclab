{
 "cells": [
  {
   "cell_type": "markdown",
   "metadata": {},
   "source": [
    "<center>\n",
    "<big>Lab C: Finding Limits in Python</big><br>\n",
    "https://mybinder.org/v2/gh/anniebmcc/pycalclab/master?filepath=mat301c.ipynb <br>\n",
    "Calculus 1<br>\n",
    "Dr Han<br>\n",
    "</center>\n",
    "\n",
    "C0. Exercise."
   ]
  },
  {
   "cell_type": "code",
   "execution_count": null,
   "metadata": {},
   "outputs": [],
   "source": [
    "# Type your NAME below and press SHIFT+ENTER\n",
    "\n"
   ]
  },
  {
   "cell_type": "markdown",
   "metadata": {},
   "source": [
    "C1. _RUN the following._"
   ]
  },
  {
   "cell_type": "code",
   "execution_count": null,
   "metadata": {},
   "outputs": [],
   "source": [
    "%pylab inline"
   ]
  },
  {
   "cell_type": "markdown",
   "metadata": {},
   "source": [
    "The magic word `%pylab` loads a bunch of useful functions (including `pi` and `sin`).  \n",
    "The option `inline` tells Jupyter to display any graphs we make on the page instead of in a popup."
   ]
  },
  {
   "cell_type": "markdown",
   "metadata": {},
   "source": [
    "C2. Example.\n",
    "Let's say we want to find $\\displaystyle \\lim_{\\textstyle x{\\to}\\pi/2} \\frac{\\sin x}x$.\n",
    "The first thing we try is plugging in.  \n",
    "\n",
    "_RUN the following._"
   ]
  },
  {
   "cell_type": "code",
   "execution_count": null,
   "metadata": {},
   "outputs": [],
   "source": [
    "x = pi/2\n",
    "sin(x)/x"
   ]
  },
  {
   "cell_type": "markdown",
   "metadata": {},
   "source": [
    "C3. **DO EXERCISE.** Based on the result in C2, what is the value of the limit\n",
    "$\\displaystyle \\lim_{\\textstyle x{\\to}\\pi/2} \\frac{\\sin x}x$?"
   ]
  },
  {
   "cell_type": "code",
   "execution_count": null,
   "metadata": {},
   "outputs": [],
   "source": [
    "# RECORD YOUR ANSWER: the limit is ________"
   ]
  },
  {
   "cell_type": "markdown",
   "metadata": {},
   "source": [
    "C4. Example. Let's say we want to find $\\displaystyle \\lim_{\\textstyle x{\\to}0} \\frac{\\sin x}x$ instead.   \n",
    "\n",
    "_RUN the following._"
   ]
  },
  {
   "cell_type": "code",
   "execution_count": null,
   "metadata": {},
   "outputs": [],
   "source": [
    "x = 0\n",
    "sin(x)/x"
   ]
  },
  {
   "cell_type": "markdown",
   "metadata": {},
   "source": [
    "Notice that plugging in doesn't work, because sin(0)/0 is undefined.  \n",
    "(Instead of \"undefined\", Python says \"nan,\" which means \"not a number.\")"
   ]
  },
  {
   "cell_type": "markdown",
   "metadata": {},
   "source": [
    "## Find the limit with a graph"
   ]
  },
  {
   "cell_type": "markdown",
   "metadata": {},
   "source": [
    "C5. When plugging in doesn't work, one thing we can try is graphing.  \n",
    "\n",
    "_RUN the following._"
   ]
  },
  {
   "cell_type": "code",
   "execution_count": null,
   "metadata": {},
   "outputs": [],
   "source": [
    "x = linspace(-10,10)\n",
    "y = sin(x)/x\n",
    "plot(x,y)"
   ]
  },
  {
   "cell_type": "markdown",
   "metadata": {},
   "source": [
    "C6. **DO EXERCISE.** Based on the graph in C5, what is the value of the limit $\\displaystyle \\lim_{\\textstyle x{\\to}0} \\frac{\\sin x}x$?"
   ]
  },
  {
   "cell_type": "code",
   "execution_count": null,
   "metadata": {},
   "outputs": [],
   "source": [
    "# RECORD YOUR ANSWER: the limit is ________"
   ]
  },
  {
   "cell_type": "markdown",
   "metadata": {},
   "source": [
    "## Find the limit with a table"
   ]
  },
  {
   "cell_type": "markdown",
   "metadata": {},
   "source": [
    "C7. \n",
    "The other thing we can try is making a table.\n",
    "\n",
    "_RUN the following._"
   ]
  },
  {
   "cell_type": "code",
   "execution_count": null,
   "metadata": {},
   "outputs": [],
   "source": [
    "x = r_[1, .1, .01, .001] # Make array of numbers approaching 0 from right\n",
    "y = sin(x)/x             # Plug the array into our function\n",
    "c_[x,y]                  # Make a table"
   ]
  },
  {
   "cell_type": "code",
   "execution_count": null,
   "metadata": {},
   "outputs": [],
   "source": [
    "x = r_[-1, -.1, -.01, -.001] # Same but approaching from left\n",
    "y = sin(x)/x\n",
    "c_[x,y]"
   ]
  },
  {
   "cell_type": "markdown",
   "metadata": {},
   "source": [
    "Note that to display two tables, we use two code cells, because Jupyter only displays one output per cell."
   ]
  },
  {
   "cell_type": "markdown",
   "metadata": {},
   "source": [
    "C8. **DO EXERCISE.** Based on the table in C7,\n",
    "what is the value of the limit $\\displaystyle \\lim_{\\textstyle x{\\to}0} \\frac{\\sin x}x$?"
   ]
  },
  {
   "cell_type": "code",
   "execution_count": null,
   "metadata": {},
   "outputs": [],
   "source": [
    "# RECORD YOUR ANSWER: the limit is ________"
   ]
  },
  {
   "cell_type": "markdown",
   "metadata": {},
   "source": [
    "## Simplify the code"
   ]
  },
  {
   "cell_type": "markdown",
   "metadata": {},
   "source": [
    "C9. We can simplify the code for `x` using an array.\n",
    "\n",
    "_RUN the following._"
   ]
  },
  {
   "cell_type": "code",
   "execution_count": null,
   "metadata": {},
   "outputs": [],
   "source": [
    "x = .1 ** r_[:4]\n",
    "y = sin(x)/x\n",
    "c_[x,y]"
   ]
  },
  {
   "cell_type": "markdown",
   "metadata": {},
   "source": [
    "You should get the same table as in C7.  \n",
    "Why does this work?\n",
    "Because `.1 ** r_[:4]` means \"$0.1$ raised to the $0,1,2,3$,\" which is going to be $1,0.1,0.01,0.001$."
   ]
  },
  {
   "cell_type": "markdown",
   "metadata": {},
   "source": [
    "## Increase precision\n",
    "\n",
    "C10. The arrays we have made so far show (up to) 8 decimal places.  \n",
    "As an example, let's change the number of decimal places displayed to 17 decimal places:\n",
    "\n",
    " _RUN the following._"
   ]
  },
  {
   "cell_type": "code",
   "execution_count": null,
   "metadata": {},
   "outputs": [],
   "source": [
    "set_printoptions(precision=17)\n",
    "\n",
    "x = .1 ** r_[:4]\n",
    "y = sin(x)/x\n",
    "c_[x,y]"
   ]
  },
  {
   "cell_type": "markdown",
   "metadata": {},
   "source": [
    "After you run this cell, from now on, arrays will display (up to) 17 decimal places."
   ]
  },
  {
   "cell_type": "markdown",
   "metadata": {},
   "source": [
    "## Turn off scientific notation"
   ]
  },
  {
   "cell_type": "markdown",
   "metadata": {},
   "source": [
    "C11. Arrays with very small numbers (less than 0.001)\n",
    "will automatically change to scientific notation.\n",
    "\n",
    "_RUN the following._"
   ]
  },
  {
   "cell_type": "code",
   "execution_count": null,
   "metadata": {},
   "outputs": [],
   "source": [
    "x = .1 ** r_[:5]\n",
    "y = sin(x)/x\n",
    "c_[x,y]"
   ]
  },
  {
   "cell_type": "markdown",
   "metadata": {},
   "source": [
    "C12. We can turn off scientific notation for arrays using `set_printoptions`\n",
    "\n",
    "_RUN the following._"
   ]
  },
  {
   "cell_type": "code",
   "execution_count": null,
   "metadata": {},
   "outputs": [],
   "source": [
    "set_printoptions(suppress=True)\n",
    "\n",
    "x = .1 ** r_[:5]\n",
    "y = sin(x)/x\n",
    "c_[x,y]"
   ]
  },
  {
   "cell_type": "markdown",
   "metadata": {},
   "source": [
    "C13. **DO EXERCISE.**  \n",
    "(1) Use the graphical approach to find\n",
    "$\\displaystyle \\lim_{\\textstyle x{\\to}0^{\\textstyle+}} x^{\\textstyle x}$.\n",
    "\n",
    "(2) Use the numerical approach (make a table) for the same limit."
   ]
  },
  {
   "cell_type": "code",
   "execution_count": null,
   "metadata": {},
   "outputs": [],
   "source": [
    "# (1) TYPE YOUR CODE:\n",
    "\n",
    "# RECORD YOUR ANSWER: the limit is ________"
   ]
  },
  {
   "cell_type": "code",
   "execution_count": null,
   "metadata": {},
   "outputs": [],
   "source": [
    "# (2) TYPE YOUR CODE:\n",
    "\n",
    "# RECORD YOUR ANSWER: the limit is ________"
   ]
  },
  {
   "cell_type": "markdown",
   "metadata": {},
   "source": [
    "## Define a function\n",
    "\n",
    "C14. Example. Let's make a graph and make tables to find\n",
    "$\\displaystyle \\lim_{\\textstyle x{\\to}0} \\frac{1-\\cos x}{x^2}$  \n",
    "We will use `def` to store the function so we don't have to type the function over and over.\n",
    "\n",
    "_RUN the following._"
   ]
  },
  {
   "cell_type": "code",
   "execution_count": null,
   "metadata": {},
   "outputs": [],
   "source": [
    "def f(x):\n",
    "    return (1 - cos(x))/x**2"
   ]
  },
  {
   "cell_type": "code",
   "execution_count": null,
   "metadata": {},
   "outputs": [],
   "source": [
    "x = linspace(-1,1)\n",
    "y = f(x)\n",
    "plot(x,y)"
   ]
  },
  {
   "cell_type": "code",
   "execution_count": null,
   "metadata": {},
   "outputs": [],
   "source": [
    "x = 0.1 ** r_[:8]\n",
    "y = f(x)\n",
    "c_[x,y]"
   ]
  },
  {
   "cell_type": "code",
   "execution_count": null,
   "metadata": {},
   "outputs": [],
   "source": [
    "x = -0.1 ** r_[:8]\n",
    "y = f(x)\n",
    "c_[x,y]"
   ]
  },
  {
   "cell_type": "markdown",
   "metadata": {},
   "source": [
    "So, the graph and the tables tell us that $\\displaystyle \\lim_{x\\to0} \\frac{1-\\cos x}{x^{\\textstyle2}} = 0.5$"
   ]
  },
  {
   "cell_type": "markdown",
   "metadata": {},
   "source": [
    "## Taking the limit as $x$ approaches a number other than zero\n",
    "\n",
    "C15. Example.\n",
    "Let's investigate\n",
    "$\\displaystyle \\lim_{\\textstyle x{\\to}\\pi/2} \\left(\\frac\\pi2 - x\\right) \\tan x$\n",
    "\n",
    "Notice that in this example, $x$ is not approaching 0.\n",
    "\n",
    "_RUN the following._"
   ]
  },
  {
   "cell_type": "code",
   "execution_count": null,
   "metadata": {},
   "outputs": [],
   "source": [
    "def f(x):\n",
    "    return (pi/2 - x)*tan(x)"
   ]
  },
  {
   "cell_type": "code",
   "execution_count": null,
   "metadata": {},
   "outputs": [],
   "source": [
    "x = linspace(0,pi)\n",
    "y = f(x)\n",
    "plot(x,y)"
   ]
  },
  {
   "cell_type": "code",
   "execution_count": null,
   "metadata": {},
   "outputs": [],
   "source": [
    "x = pi/2 + 0.1 ** r_[:8]\n",
    "y = f(x)\n",
    "c_[x,y]"
   ]
  },
  {
   "cell_type": "code",
   "execution_count": null,
   "metadata": {},
   "outputs": [],
   "source": [
    "x = pi/2 - 0.1 ** r_[:8]\n",
    "y = f(x)\n",
    "c_[x,y]"
   ]
  },
  {
   "cell_type": "markdown",
   "metadata": {},
   "source": [
    "The graph and the tables tell us that $\\displaystyle \\lim_{\\textstyle x{\\to}\\pi/2} \\left(\\frac\\pi2 - x\\right) \\tan x = 1$"
   ]
  },
  {
   "cell_type": "markdown",
   "metadata": {},
   "source": [
    "## More Exercises\n",
    "\n",
    "C16. **DO EXERCISE.**  \n",
    "Let $f(x) = x \\ln x$.  \n",
    "(1) Plot a graph of $f(x)$ over the interval $(0,1]$\n",
    "and based on your graph, estimate\n",
    "\n",
    "$\\qquad\\displaystyle\\lim_{\\textstyle x{\\to}0^+} f(x)$.\n",
    "\n",
    "(2) Use the numeric approach to find the same limit."
   ]
  },
  {
   "cell_type": "code",
   "execution_count": null,
   "metadata": {},
   "outputs": [],
   "source": [
    "# (1) TYPE YOUR CODE:\n",
    "\n",
    "# RECORD YOUR ANSWER: the limit is ________"
   ]
  },
  {
   "cell_type": "code",
   "execution_count": null,
   "metadata": {},
   "outputs": [],
   "source": [
    "# (2) TYPE YOUR CODE:\n",
    "\n",
    "# RECORD YOUR ANSWER: the limit is ________"
   ]
  },
  {
   "cell_type": "markdown",
   "metadata": {},
   "source": [
    "C17. **DO EXERCISE.**  \n",
    "(1) Define the python function $f(x) = x^{\\textstyle-1}e^{\\textstyle-1/x}$  \n",
    "(2) Plot the function $f(x)$ over the interval $(0,1]$ and estimate.  \n",
    "\n",
    "$\\qquad \\displaystyle\\lim_{\\textstyle x{\\to}0^{\\textstyle+}}f(x)$  \n",
    "\n",
    "(3) Use the numeric approach to find the same limit.    "
   ]
  },
  {
   "cell_type": "code",
   "execution_count": null,
   "metadata": {},
   "outputs": [],
   "source": [
    "# (1) TYPE YOUR CODE:\n"
   ]
  },
  {
   "cell_type": "code",
   "execution_count": null,
   "metadata": {},
   "outputs": [],
   "source": [
    "# (2) TYPE YOUR CODE:\n",
    "\n",
    "# RECORD YOUR ANSWER: the limit is ________"
   ]
  },
  {
   "cell_type": "code",
   "execution_count": null,
   "metadata": {},
   "outputs": [],
   "source": [
    "# (3) TYPE YOUR CODE:\n",
    "\n",
    "# RECORD YOUR ANSWER: the limit is ________"
   ]
  },
  {
   "cell_type": "markdown",
   "metadata": {},
   "source": [
    "C18. **DO EXERCISE.**  \n",
    "We wish to find the limit of the oscillating function\n",
    "\n",
    "$\\qquad f(x) = x \\sin \\frac1x$\n",
    "\n",
    "as $x$ approaches 0.\n",
    "\n",
    "(1) Plot the function $f$ over the interval $[-pi,pi]$ using 10000 points for $x$.  \n",
    "(2) \"Zoom in\" by replotting the function over $[-0.1,0.1]$.  \n",
    "(3) Motivated by the squeeze theorem, plot on the same axes the function $f$ over $[-0.1,0.1]$ as well as $y=|x|$ and $y = -|x|$.  \n",
    "(4) Estimate the limit as $x\\to0$.  \n",
    "(5) How did graphing the absolute value help you find the limit in (3)? (Choose one)  \n",
    "_The mean-value theorem_\n",
    "$\\quad$ _The function is continuous_\n",
    "$\\quad$ _The squeeze theorem_\n",
    "$\\quad$ _They didnt; I just guessed_"
   ]
  },
  {
   "cell_type": "code",
   "execution_count": null,
   "metadata": {},
   "outputs": [],
   "source": [
    "# (1) TYPE YOUR CODE:\n"
   ]
  },
  {
   "cell_type": "code",
   "execution_count": null,
   "metadata": {},
   "outputs": [],
   "source": [
    "# (2) TYPE YOUR CODE:\n"
   ]
  },
  {
   "cell_type": "code",
   "execution_count": null,
   "metadata": {},
   "outputs": [],
   "source": [
    "# (3) TYPE YOUR CODE:\n",
    "\n",
    "# (4) RECORD YOUR ANSWER: the limit is ________\n",
    "# (5) RECORD YOUR ANSWER:"
   ]
  }
 ],
 "metadata": {
  "kernelspec": {
   "display_name": "Python 3",
   "language": "python",
   "name": "python3"
  },
  "language_info": {
   "codemirror_mode": {
    "name": "ipython",
    "version": 3
   },
   "file_extension": ".py",
   "mimetype": "text/x-python",
   "name": "python",
   "nbconvert_exporter": "python",
   "pygments_lexer": "ipython3",
   "version": "3.8.5"
  },
  "title": "yournamehere"
 },
 "nbformat": 4,
 "nbformat_minor": 4
}
