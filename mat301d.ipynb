{
 "cells": [
  {
   "cell_type": "markdown",
   "metadata": {},
   "source": [
    "<center>\n",
    "<big>Lab D: Finding First Derivatives in Python</big><br>\n",
    "https://mybinder.org/v2/gh/anniebmcc/pycalclab/master?filepath=mat301d.ipynb <br>\n",
    "2020 Summer — Calculus 1<br>\n",
    "Dr Matthew H Sunderland<br>\n",
    "</center>"
   ]
  },
  {
   "cell_type": "markdown",
   "metadata": {},
   "source": [
    "D1. _RUN the following._"
   ]
  },
  {
   "cell_type": "code",
   "execution_count": null,
   "metadata": {},
   "outputs": [],
   "source": [
    "%pylab\n",
    "set_printoptions(precision=15)\n",
    "set_printoptions(suppress=True)"
   ]
  },
  {
   "cell_type": "markdown",
   "metadata": {},
   "source": [
    "D2. **Warmup (1)−(3).**  \n",
    "\n",
    "Let\n",
    "$f(x) = \\frac{x\\sqrt{(x-1)^2}}{x-1} + \\frac{\\sqrt{x^2}}x$\n",
    "\n",
    "(1) Find $\\displaystyle\\lim_{\\textstyle x{\\to}1^{\\textstyle+}}f(x)$"
   ]
  },
  {
   "cell_type": "code",
   "execution_count": null,
   "metadata": {},
   "outputs": [],
   "source": [
    "# (1) TYPE YOUR CODE:\n",
    "\n",
    "# RECORD YOUR ANSWER: the limit is _____"
   ]
  },
  {
   "cell_type": "markdown",
   "metadata": {},
   "source": [
    "(2) Find $\\displaystyle\\lim_{\\textstyle x{\\to}1^{\\textstyle-}}f(x)$"
   ]
  },
  {
   "cell_type": "code",
   "execution_count": null,
   "metadata": {},
   "outputs": [],
   "source": [
    "# (2) TYPE YOUR CODE:\n",
    "\n",
    "# RECORD YOUR ANSWER: the limit is _____"
   ]
  },
  {
   "cell_type": "markdown",
   "metadata": {},
   "source": [
    "(3) Based on your answer to (1) and (2), find $\\displaystyle\\lim_{\\textstyle x{\\to}1}f(x)$"
   ]
  },
  {
   "cell_type": "code",
   "execution_count": null,
   "metadata": {},
   "outputs": [],
   "source": [
    "# (3) RECORD YOUR ANSWER: the limit _____"
   ]
  },
  {
   "cell_type": "markdown",
   "metadata": {},
   "source": [
    "## Computing the derivative at a point using the limit definition of derivative\n",
    "\n",
    "D3. <a id='D3'></a>EXAMPLE. Let us approximate\n",
    "$\\frac d{dx} x^x\\big|_{\\,0.6}$\n",
    "to 4 decimal places.\n",
    "\n",
    "In lecture we learned that limit definition of derivative is\n",
    "$f'(x) := \\lim\\limits_{h\\to0} \\frac{f(x+h)-f(x)}h$\n",
    "\n",
    "_RUN the following._"
   ]
  },
  {
   "cell_type": "code",
   "execution_count": null,
   "metadata": {},
   "outputs": [],
   "source": [
    "def f(x): return x**x\n",
    "\n",
    "x = 0.6\n",
    "h = 0.1 ** r_[:15]\n",
    "m = (f(x+h)-f(x))/h\n",
    "c_[h,m]"
   ]
  },
  {
   "cell_type": "markdown",
   "metadata": {},
   "source": [
    "$\\implies$ The limit to 4 decimal places is $\\boxed{0.3600}$\n",
    "\n",
    "D4. ASSIDE.\n",
    "Later on in calculus you will learn how to compute $\\frac d{dx} x^x\\big|_{\\,0.6}$ algebraically.\n",
    "It turns out that\n",
    "\n",
    "$\\qquad (x^x)' = (e^{x\\ln x})' = e^{x\\ln x}(\\ln x + x/x) = x^x(\\ln x + 1)$\n",
    "\n",
    "and so $(x^x)'(0.6) = 0.6^{0.6}(\\ln0.6 + 1)$.\n",
    "\n",
    "_RUN the following_"
   ]
  },
  {
   "cell_type": "code",
   "execution_count": null,
   "metadata": {},
   "outputs": [],
   "source": [
    "0.6**0.6*(log(0.6) + 1)"
   ]
  },
  {
   "cell_type": "markdown",
   "metadata": {},
   "source": [
    "D5. <a id='D5'></a>**EXERCISE.** Approximate\n",
    "$\\frac d{dx}\\big(\\sin x\\big)\\,\\bigg|_{\\textstyle\\,x = \\pi/4}$\n",
    "to 4 decimal places."
   ]
  },
  {
   "cell_type": "code",
   "execution_count": null,
   "metadata": {},
   "outputs": [],
   "source": [
    "# TYPE YOUR CODE:\n",
    "\n",
    "# RECORD YOUR ANSWER:\n",
    "# the limit to 4 decimal places is _____"
   ]
  },
  {
   "cell_type": "markdown",
   "metadata": {},
   "source": [
    "## Secant and tangent lines\n",
    "\n",
    "The fraction inside the limit in the limit definition of derivative is called the \"difference quotient\"\n",
    "\n",
    "$\\qquad$ difference quotient = $\\displaystyle\\frac{f(x+h)-f(x)}h$\n",
    "\n",
    "The difference quotient is the slope of the secant line though the graph at $x$ and $x+h$.\n",
    "\n",
    "D6. EXAMPLE. Consider the same function as in [D3](#D3), $f(x)=x^x$.\n",
    "Let's plot $f$ over $[0,2]$ and then plot the secant line for $h = 1, 0.1, 0.01$."
   ]
  },
  {
   "cell_type": "code",
   "execution_count": null,
   "metadata": {},
   "outputs": [],
   "source": [
    "def f(x): return x**x\n",
    "\n",
    "x = linspace(0,2)\n",
    "plot(x,f(x))\n",
    "\n",
    "x0 = pi/4\n",
    "\n",
    "for h in [1, 0.1, 0.01]:\n",
    "    m = (f(x0+h) - f(x0))/h\n",
    "    y = f(x0) + m*(x-x0)\n",
    "    plot(x,y)\n",
    "\n",
    "legend(['f', 'Secant (h=1)', 'Secant (h=0.1)', 'Secant (h=0.01)']);"
   ]
  },
  {
   "cell_type": "markdown",
   "metadata": {},
   "source": [
    "We actually have already computed the slope of these 3 secant lines in [D3](#D3)!  \n",
    "Their slopes are:  \n",
    "$\\quad$ 1.385228648279758,  \n",
    "$\\quad$ 0.430339898526158, and  \n",
    "$\\quad$ 0.367055009340134.\n",
    "\n",
    "As $h$ approaches 0, the secant lines approach the tangent line,\n",
    "and the difference quotient (the slope of the secant line) approaches the derivative (the slope of the tangent line)."
   ]
  },
  {
   "cell_type": "markdown",
   "metadata": {},
   "source": [
    "D7. **EXERCISE.** Consider the same function as in [D5](#D5), $f(x)=\\sin x$.\n",
    "\n",
    "Plot $f$ over $[0,\\pi]$.\n",
    "and then plot the secant line for $h = \\pi/2, 1, 0.1$.\n",
    "What is the slope of the three secant lines?\n",
    "Hint: look at the table you made in [D5](#D5)."
   ]
  },
  {
   "cell_type": "code",
   "execution_count": null,
   "metadata": {},
   "outputs": [],
   "source": [
    "# TYPE YOUR CODE:\n",
    "\n",
    "# RECORD YOUR ANSWER:\n",
    "# the slope of the 3 secant lines are\n",
    "# _____,\n",
    "# _____,\n",
    "# _____"
   ]
  },
  {
   "cell_type": "markdown",
   "metadata": {},
   "source": [
    "## Graphing the difference quotient\n",
    "\n",
    "D8. EXAMPLE. Consider the same function as in [D3](#D3), $f(x)=x^x$.\n",
    "\n",
    "Let's graph the function $f$ over the interval $[0,2]$\n",
    "and then graph the difference quotient for $h=1, 0.1$."
   ]
  },
  {
   "cell_type": "code",
   "execution_count": null,
   "metadata": {},
   "outputs": [],
   "source": [
    "def f(x): return x**x\n",
    "\n",
    "x = linspace(0,0.5,10000)\n",
    "\n",
    "for h in [1, 0.1, 0.01, 0.001]:\n",
    "    m = (f(x+h) - f(x))/h\n",
    "    plot(x,m)\n",
    "\n",
    "legend([\n",
    "    'Difference quotient (h=1)',\n",
    "    'Difference quotient (h=0.1)',\n",
    "    'Difference quotient (h=0.01)',\n",
    "    'Difference quotient (h=0.001)',\n",
    "]);"
   ]
  },
  {
   "cell_type": "markdown",
   "metadata": {},
   "source": [
    "The graph of the difference quotient approaches the graph of the derivative function $f'$!!"
   ]
  },
  {
   "cell_type": "markdown",
   "metadata": {},
   "source": [
    "D9. **EXERCISE (1)−(4).** Consider the same function as in [D5](#D5), $f(x)=\\sin x$.\n",
    "\n",
    "(1) Plot $f$ over $[0,2\\pi]$. Add a grid."
   ]
  },
  {
   "cell_type": "code",
   "execution_count": null,
   "metadata": {},
   "outputs": [],
   "source": [
    "# (1) TYPE YOUR CODE:\n"
   ]
  },
  {
   "cell_type": "markdown",
   "metadata": {},
   "source": [
    "(2) Plot the difference quotient for $h = 1, 0.5, 0.25, 0.125$. Add a grid."
   ]
  },
  {
   "cell_type": "code",
   "execution_count": null,
   "metadata": {},
   "outputs": [],
   "source": [
    "# (2) TYPE YOUR CODE:\n"
   ]
  },
  {
   "cell_type": "markdown",
   "metadata": {},
   "source": [
    "(3) What graph do the difference quotients in (2) appear to be approaching?"
   ]
  },
  {
   "cell_type": "code",
   "execution_count": null,
   "metadata": {},
   "outputs": [],
   "source": [
    "# (3) RECORD YOUR ANSWER: the graph of _____"
   ]
  },
  {
   "cell_type": "markdown",
   "metadata": {},
   "source": [
    "(4) What do the zeros of the graph in (2) tell you about the graph in (1)?"
   ]
  },
  {
   "cell_type": "code",
   "execution_count": null,
   "metadata": {},
   "outputs": [],
   "source": [
    "# (4) RECORD YOUR ANSWER:\n",
    "# "
   ]
  },
  {
   "cell_type": "markdown",
   "metadata": {},
   "source": [
    "## Differentiability\n",
    "\n",
    "D10. EXAMPLE. In lecture we learned that corners and cusps mean \"continuous but not differentiable.\"\n",
    "Let's look at a function that has a cusp at 0.\n",
    "\n",
    "Plot $f(x) = x^{2/3}$ over $[-2,2]$, and also plot the difference quotient for $h = 1, 0.5, 0.25, 0.125$.\n",
    "\n",
    "(Numpy does not like taking the cube root of negative numbers, so we will graph $(x^2)^{1/3}$ which is equivalent to $x^{2/3}$.)"
   ]
  },
  {
   "cell_type": "code",
   "execution_count": null,
   "metadata": {},
   "outputs": [],
   "source": [
    "def f(x): return (x**2)**(1/3)\n",
    "\n",
    "x = linspace(-2,2,10000)\n",
    "plot(x,f(x))\n",
    "\n",
    "for h in [1, 0.5, 0.25, 0.125]:\n",
    "    m = (f(x+h) - f(x))/h\n",
    "    plot(x,m)\n",
    "\n",
    "grid()\n",
    "\n",
    "legend([\n",
    "    'f',\n",
    "    'Diff. quo. (h=1)',\n",
    "    'Diff. quo. (h=0.5)',\n",
    "    'Diff. quo. (h=0.25)',\n",
    "    'Diff. quo. (h=0.125)',\n",
    "]);"
   ]
  },
  {
   "cell_type": "markdown",
   "metadata": {},
   "source": [
    "The graph of the difference quotient approaches the graph of the derivative of $x^{2/3}$, which is $(2/3)x^{-1/3}$.\n",
    "Since $f$ has a cusp at 0, the derivative has an asymptote at 0."
   ]
  }
 ],
 "metadata": {
  "kernelspec": {
   "display_name": "Python 3",
   "language": "python",
   "name": "python3"
  },
  "language_info": {
   "codemirror_mode": {
    "name": "ipython",
    "version": 3
   },
   "file_extension": ".py",
   "mimetype": "text/x-python",
   "name": "python",
   "nbconvert_exporter": "python",
   "pygments_lexer": "ipython3",
   "version": "3.7.4"
  },
  "title": "yournamehere"
 },
 "nbformat": 4,
 "nbformat_minor": 4
}
