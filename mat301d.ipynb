{
 "cells": [
  {
   "cell_type": "markdown",
   "metadata": {},
   "source": [
    "<center>\n",
    "<big>Lab D: Finding First Derivatives in Python</big><br>\n",
    "https://mybinder.org/v2/gh/anniebmcc/pycalclab/master?filepath=mat301d.ipynb <br>\n",
    "2020 Summer — Calculus 1<br>\n",
    "Dr Matthew H Sunderland<br>\n",
    "</center>"
   ]
  },
  {
   "cell_type": "markdown",
   "metadata": {},
   "source": [
    "D1. _RUN the following._"
   ]
  },
  {
   "cell_type": "code",
   "execution_count": null,
   "metadata": {},
   "outputs": [],
   "source": [
    "%pylab inline\n",
    "set_printoptions(suppress=True)"
   ]
  },
  {
   "cell_type": "markdown",
   "metadata": {},
   "source": [
    "D2. **Warmup (1)−(4).**  \n",
    "\n",
    "Let\n",
    "$f(x) = \\displaystyle\\frac{x^2 - x}{\\sqrt{(x-1)^{\\textstyle2}}} + 1$\n",
    "\n",
    "(1) Find $\\displaystyle\\lim_{\\textstyle x{\\to}1^{\\textstyle+}}f(x)$"
   ]
  },
  {
   "cell_type": "code",
   "execution_count": null,
   "metadata": {},
   "outputs": [],
   "source": [
    "# (1) TYPE YOUR CODE:\n",
    "\n",
    "# RECORD YOUR ANSWER: the limit is _____"
   ]
  },
  {
   "cell_type": "markdown",
   "metadata": {},
   "source": [
    "(2) Find $\\displaystyle\\lim_{\\textstyle x{\\to}1^{\\textstyle-}}f(x)$"
   ]
  },
  {
   "cell_type": "code",
   "execution_count": null,
   "metadata": {},
   "outputs": [],
   "source": [
    "# (2) TYPE YOUR CODE:\n",
    "\n",
    "# RECORD YOUR ANSWER: the limit is _____"
   ]
  },
  {
   "cell_type": "markdown",
   "metadata": {},
   "source": [
    "(3) Based on your answer to (1) and (2), find $\\displaystyle\\lim_{\\textstyle x{\\to}1}f(x)$"
   ]
  },
  {
   "cell_type": "code",
   "execution_count": null,
   "metadata": {},
   "outputs": [],
   "source": [
    "# (3) RECORD YOUR ANSWER: the limit _____"
   ]
  },
  {
   "cell_type": "markdown",
   "metadata": {},
   "source": [
    "(4) Graph the function $f$ over $[-2,1)\\cup(1,4]$."
   ]
  },
  {
   "cell_type": "code",
   "execution_count": null,
   "metadata": {},
   "outputs": [],
   "source": [
    "# (4) TYPE YOUR CODE:\n"
   ]
  },
  {
   "cell_type": "markdown",
   "metadata": {},
   "source": [
    "## Computing the derivative at a point using the limit definition of derivative\n",
    "\n",
    "In lecture we learned that limit definition of derivative is\n",
    "$f'(x) := \\lim\\limits_{h\\to0} \\frac{f(x+h)-f(x)}h$  \n",
    "\n",
    "D3. <a id='D3'></a>EXAMPLE. Let us approximate\n",
    "$\\frac d{dx} x^x\\big|_{\\,0.6}$\n",
    "to 4 decimal places.  \n",
    "\n",
    "_RUN the following._"
   ]
  },
  {
   "cell_type": "code",
   "execution_count": null,
   "metadata": {},
   "outputs": [],
   "source": [
    "def f(x): return x**x\n",
    "\n",
    "x = 0.6\n",
    "h = 0.1 ** r_[:9]   # = array of numbers going to 0\n",
    "m = (f(x+h)-f(x))/h\n",
    "c_[h,m]             # make a table"
   ]
  },
  {
   "cell_type": "markdown",
   "metadata": {},
   "source": [
    "Thus the limit to 4 decimal places is $0.3600$\n",
    "\n",
    "D4. ASSIDE.\n",
    "Later on in calculus you will learn how to compute $\\frac d{dx} x^x\\big|_{\\,0.6}$ algebraically.\n",
    "It turns out that  \n",
    "$\\qquad (x^x)' = (e^{(\\ln x)(x)})' = e^{(\\ln x)(x)}(x/x + \\ln x) = x^x(1 + \\ln x)$  \n",
    "and so $(x^x)'(0.6) = 0.6^{0.6}(1 + \\ln0.6)$.\n",
    "\n",
    "_RUN the following_"
   ]
  },
  {
   "cell_type": "code",
   "execution_count": null,
   "metadata": {},
   "outputs": [],
   "source": [
    "0.6**0.6*(1 + log(0.6))"
   ]
  },
  {
   "cell_type": "markdown",
   "metadata": {},
   "source": [
    "So we see that $\\frac d{dx} x^x\\big|_{\\,0.6} = 0.6^{0.6}(1 + \\ln0.6) = 0.3600430649889697$, which matches our approximation in D3."
   ]
  },
  {
   "cell_type": "markdown",
   "metadata": {},
   "source": [
    "D5. <a id='D5'></a>**EXERCISE.** Approximate\n",
    "$\\frac d{dx}\\big(\\sin x\\big)\\,\\bigg|_{\\textstyle\\,x = \\pi/4}$\n",
    "to 4 decimal places."
   ]
  },
  {
   "cell_type": "code",
   "execution_count": null,
   "metadata": {},
   "outputs": [],
   "source": [
    "# TYPE YOUR CODE:\n",
    "\n",
    "# RECORD YOUR ANSWER:\n",
    "# the answer to 4 decimal places is _____"
   ]
  },
  {
   "cell_type": "markdown",
   "metadata": {},
   "source": [
    "## Secant and tangent lines\n",
    "\n",
    "The fraction inside the limit in the limit definition of derivative is called the \"difference quotient\"  \n",
    "$\\qquad$ difference quotient = $\\displaystyle\\frac{f(x+h)-f(x)}h$  \n",
    "The difference quotient is the slope of the secant line though the graph at $x$ and $x+h$.\n",
    "\n",
    "D6. EXAMPLE.  \n",
    "Consider the same function as in [D3](#D3), $f(x)=x^x$.  \n",
    "We'll plot $f$ over $[0,2]$ and the secants through $x_0=1$ with $h = 1, 0.1, 0.01$  \n",
    "\n",
    "_RUN the following._"
   ]
  },
  {
   "cell_type": "code",
   "execution_count": null,
   "metadata": {},
   "outputs": [],
   "source": [
    "def f(x): return x**x\n",
    "\n",
    "x = linspace(0,2,10000)\n",
    "plot(x,f(x))\n",
    "\n",
    "x0 = 0.6\n",
    "\n",
    "for h in [1, 0.1, 0.01]:\n",
    "    m = (f(x0+h) - f(x0))/h\n",
    "    y = f(x0) + m*(x-x0)\n",
    "    plot(x,y)\n",
    "\n",
    "legend(['Function f', 'Secant (h=1)', 'Secant (h=0.1)', 'Secant (h=0.01)'])\n",
    "grid()"
   ]
  },
  {
   "cell_type": "markdown",
   "metadata": {},
   "source": [
    "We actually have already computed the slope of these 3 secant lines in [D3](#D3).  \n",
    "Their slopes are:  \n",
    "$\\quad$ 1.385228648279758,  \n",
    "$\\quad$ 0.430339898526158, and  \n",
    "$\\quad$ 0.367055009340134.\n",
    "\n",
    "As $h$ approaches 0, the secant lines approach the tangent line,  \n",
    "and the difference quotient (the slope of the secant line)  \n",
    "approaches the derivative (the slope of the tangent line)."
   ]
  },
  {
   "cell_type": "markdown",
   "metadata": {},
   "source": [
    "D7. **EXERCISE (1)−(2).** Consider the same function as in [D5](#D5), $f(x)=\\sin x$.  \n",
    "(1) Plot $f$ over $[0,\\pi]$\n",
    "and the secants through $x_0=\\pi/4$ with $h = \\pi/2, 1, 0.1$.  \n",
    "\n",
    "_PRO TIP. Change the x-axis labels using_  \n",
    "`xticks([0,pi/4,pi/2,3*pi/4,pi],['0','pi/4','pi/2','3pi/4','pi'])`  \n",
    "\n",
    "(2) What is the slope of the three secant lines?\n",
    "Hint: look at the table you made in [D5](#D5)."
   ]
  },
  {
   "cell_type": "code",
   "execution_count": null,
   "metadata": {},
   "outputs": [],
   "source": [
    "# (1) TYPE YOUR CODE:\n",
    "\n",
    "# (2) RECORD YOUR ANSWER:\n",
    "#     the slope of the 3 secant lines are\n",
    "#     __________,\n",
    "#     __________,\n",
    "#     __________"
   ]
  },
  {
   "cell_type": "markdown",
   "metadata": {},
   "source": [
    "## Graphing the difference quotient\n",
    "\n",
    "You can approximate the derivative using the difference quotient with very small $h$.  \n",
    "\n",
    "D8. EXAMPLE. Consider the same function as in [D3](#D3), $f(x)=x^x$.  \n",
    "Let's plot $f$ over $[0,3]$ and its difference quotient with $h=0.001$.\n",
    "\n",
    "_RUN the following._"
   ]
  },
  {
   "cell_type": "code",
   "execution_count": null,
   "metadata": {},
   "outputs": [],
   "source": [
    "def f(x): return x**x\n",
    "\n",
    "x = linspace(0,3,10000)\n",
    "plot(x,f(x))\n",
    "grid()\n",
    "\n",
    "h = 0.001\n",
    "m = (f(x+h) - f(x))/h\n",
    "plot(x,m,':r',linewidth=5) # Dotted, red, thick line\n",
    "\n",
    "legend(['Function f','Difference quotient (h=0.01)']);"
   ]
  },
  {
   "cell_type": "markdown",
   "metadata": {},
   "source": [
    "The difference quotient for small $h$ is approximately the derivative."
   ]
  },
  {
   "cell_type": "markdown",
   "metadata": {},
   "source": [
    "D9. **EXERCISE (1)−(3).**  \n",
    "Consider the same function as in [D5](#D5), $f(x)=\\sin x$.  \n",
    "\n",
    "(1) Plot $f$ and its difference quotient using $h=0.001$ over the domain $[0,2\\pi]$.  \n",
    "\n",
    "_PRO TIP. Change the x-axis labels using_  \n",
    "`xticks([0,pi/2,pi,3*pi/2,2*pi], ['0','pi/2','pi','3pi/2','2pi'])`"
   ]
  },
  {
   "cell_type": "code",
   "execution_count": null,
   "metadata": {},
   "outputs": [],
   "source": [
    "# TYPE YOUR CODE:\n"
   ]
  },
  {
   "cell_type": "markdown",
   "metadata": {},
   "source": [
    "(2) What function do the difference quotients appear to approach?"
   ]
  },
  {
   "cell_type": "code",
   "execution_count": null,
   "metadata": {},
   "outputs": [],
   "source": [
    "# (2) RECORD YOUR ANSWER: __________"
   ]
  },
  {
   "cell_type": "markdown",
   "metadata": {},
   "source": [
    "(3) Fill-in-the-blank: At the roots of the difference quotients, the original function $f$ has $\\underline\\qquad$."
   ]
  },
  {
   "cell_type": "code",
   "execution_count": null,
   "metadata": {},
   "outputs": [],
   "source": [
    "# (3) RECORD YOUR ANSWER:\n",
    "#     At the roots of the difference quotients,\n",
    "#     the original function f has __________"
   ]
  },
  {
   "cell_type": "markdown",
   "metadata": {},
   "source": [
    "D10. **EXERCISE (1)−(5).**  \n",
    "(1) Let $f(x) = e^x$.  \n",
    "Graph over $[-2,2]$ the function $f$ and its difference quotient for $h=0.01$.  "
   ]
  },
  {
   "cell_type": "code",
   "execution_count": null,
   "metadata": {},
   "outputs": [],
   "source": [
    "# (1) TYPE YOUR CODE:\n"
   ]
  },
  {
   "cell_type": "markdown",
   "metadata": {},
   "source": [
    "(2) TRUE/FALSE. Since $f$ is always increasing, $f'>0$  \n",
    "(3) TRUE/FALSE. Tangent lines for $f$ are never flat, so $f$ has no critical points.  \n",
    "(4) TRUE/FALSE. Since $f$ increases faster and faster, $f'$ should be increasing.  \n",
    "(5) Take a guess as to what the derivative of $f(x) = e^x$ is."
   ]
  },
  {
   "cell_type": "code",
   "execution_count": null,
   "metadata": {},
   "outputs": [],
   "source": [
    "# (2) RECORD YOUR ANSWER: _____\n",
    "# (3) RECORD YOUR ANSWER: _____\n",
    "# (4) RECORD YOUR ANSWER: _____\n",
    "# (5) RECORD YOUR ANSWER: _____"
   ]
  },
  {
   "cell_type": "markdown",
   "metadata": {},
   "source": [
    "## Differentiability\n",
    "\n",
    "In lecture we learned that corners and cusps mean \"continuous but not differentiable.\" \n",
    "\n",
    "D11. EXAMPLE.  \n",
    "Consider the function $f(x) = (x^2)^{1/3}$ which has a cusp at 0.\n",
    "\n",
    "Let's plot the function $f$ over $[-2,2]$, and  \n",
    "its difference quotient for $h = 0.0001$ over $[-2,0)\\cup(0,2]$.\n",
    "\n",
    "_RUN the following_"
   ]
  },
  {
   "cell_type": "code",
   "execution_count": null,
   "metadata": {},
   "outputs": [],
   "source": [
    "def f(x): return (x**2)**(1/3)\n",
    "\n",
    "x = linspace(-2,2,10000)\n",
    "plot(x,f(x)) # Plot original function f\n",
    "ylim([-2,2]) # Zoom y-axis to [-2,2]\n",
    "grid()       # Add gridlines\n",
    "\n",
    "h = 0.0001\n",
    "\n",
    "# Here we plot the difference quotient\n",
    "# over the two pieces of [−2,0)u(0,2]:\n",
    "\n",
    "x = linspace(-2,-0.0001,10000)\n",
    "m = (f(x+h) - f(x))/h\n",
    "plot(x,m,':r',linewidth=5) # Dotted, red, thick line.\n",
    "\n",
    "x = linspace(0.0001,2,10000)\n",
    "m = (f(x+h) - f(x))/h\n",
    "plot(x,m,':r',linewidth=5); # Dotted, red, thick line."
   ]
  },
  {
   "cell_type": "markdown",
   "metadata": {},
   "source": [
    "The graph of the difference quotient approaches the graph of the derivative of $x^{2/3}$, which is $(2/3)x^{-1/3}$.\n",
    "Since $f$ has a cusp at 0, the derivative has an asymptote at 0."
   ]
  },
  {
   "cell_type": "markdown",
   "metadata": {},
   "source": [
    "D12. **EXERCISE (1)−(2).**  \n",
    "(1) Let $f(x) = |x|$.  \n",
    "Plot the function $f$ over $[-2,2]$.  \n",
    "Plot the difference quotient for $h = 0.0001$ over $[-2,0)\\cup(0,2]$.  \n",
    "\n",
    "(2) Fill in the blank: Since $f$ has a corner at 0, thus $f'$ has a $\\underline\\qquad$ at 0."
   ]
  },
  {
   "cell_type": "code",
   "execution_count": null,
   "metadata": {},
   "outputs": [],
   "source": [
    "# (1) TYPE YOUR CODE:\n",
    "\n",
    "# (2) RECORD YOUR ANSWER:\n",
    "#     Since f has a corner at 0,\n",
    "#     thus f' has a __________ at 0."
   ]
  }
 ],
 "metadata": {
  "kernelspec": {
   "display_name": "Python 3",
   "language": "python",
   "name": "python3"
  },
  "language_info": {
   "codemirror_mode": {
    "name": "ipython",
    "version": 3
   },
   "file_extension": ".py",
   "mimetype": "text/x-python",
   "name": "python",
   "nbconvert_exporter": "python",
   "pygments_lexer": "ipython3",
   "version": "3.7.4"
  },
  "title": "yournamehere"
 },
 "nbformat": 4,
 "nbformat_minor": 4
}
